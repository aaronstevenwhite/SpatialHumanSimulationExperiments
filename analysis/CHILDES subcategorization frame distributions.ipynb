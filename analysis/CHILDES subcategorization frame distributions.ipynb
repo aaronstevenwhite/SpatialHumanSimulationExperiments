{
 "metadata": {
  "name": "",
  "signature": "sha256:d2afba942c2225b80e3f15246f0d6031f2cae6e3e0cdaed70af14d8bb72cfc06"
 },
 "nbformat": 3,
 "nbformat_minor": 0,
 "worksheets": [
  {
   "cells": [
    {
     "cell_type": "code",
     "collapsed": false,
     "input": [
      "import re\n",
      "import nltk\n",
      "import numpy as np\n",
      "import scipy as sp\n",
      "import pandas as pd\n",
      "import pymc as pm\n",
      "import rpy2\n",
      "import matplotlib.pyplot as plt\n",
      "\n",
      "%load_ext rpy2.ipython\n",
      "%matplotlib inline\n",
      "\n",
      "from collections import Counter, defaultdict\n",
      "from scipy.misc import logsumexp"
     ],
     "language": "python",
     "metadata": {},
     "outputs": [],
     "prompt_number": 1
    },
    {
     "cell_type": "code",
     "collapsed": false,
     "input": [
      "from nltk.corpus.reader import CHILDESCorpusReader\n",
      "\n",
      "corpus_dinner = CHILDESCorpusReader(root='/home/aaronsteven/nltk_data/corpora/CHILDES/Eng-NA-MOR/Gleason/Dinner', \n",
      "                                    fileids='.*.xml')\n",
      "corpus_mother = CHILDESCorpusReader(root='/home/aaronsteven/nltk_data/corpora/CHILDES/Eng-NA-MOR/Gleason/Mother', \n",
      "                                    fileids='.*.xml')\n",
      "corpus_father = CHILDESCorpusReader(root='/home/aaronsteven/nltk_data/corpora/CHILDES/Eng-NA-MOR/Gleason/Father', \n",
      "                                    fileids='.*.xml')\n",
      "\n",
      "print len(corpus_dinner.fileids()), len(corpus_mother.fileids()), len(corpus_father.fileids())"
     ],
     "language": "python",
     "metadata": {},
     "outputs": [
      {
       "output_type": "stream",
       "stream": "stdout",
       "text": [
        "22 24 24\n"
       ]
      }
     ],
     "prompt_number": 2
    },
    {
     "cell_type": "code",
     "collapsed": false,
     "input": [
      "children = [fid.split('.')[0] for fid in corpus_dinner.fileids()]\n",
      "\n",
      "sents_dinner = [corpus_dinner.sents(fileids=child+'.xml', speaker=['MOT', 'FAT'], relation=True) for child in children]\n",
      "sents_mother = [corpus_mother.sents(fileids=child+'.xml', speaker=['MOT', 'FAT'], relation=True) for child in children]\n",
      "sents_father = [corpus_father.sents(fileids=child+'.xml', speaker=['MOT', 'FAT'], relation=True) for child in children]"
     ],
     "language": "python",
     "metadata": {},
     "outputs": [],
     "prompt_number": 3
    },
    {
     "cell_type": "code",
     "collapsed": false,
     "input": [
      "print children[1]\n",
      "sents_dinner[1]"
     ],
     "language": "python",
     "metadata": {},
     "outputs": [
      {
       "output_type": "stream",
       "stream": "stdout",
       "text": [
        "bobby\n"
       ]
      },
      {
       "metadata": {},
       "output_type": "pyout",
       "prompt_number": 4,
       "text": [
        "[[('you', 'pro', '1|2|SUBJ'), ('can', 'mod', '2|0|ROOT')],\n",
        " [('be-PRES', 'cop', '1|0|ROOT'),\n",
        "  ('you', 'pro', '2|3|SUBJ'),\n",
        "  ('hungry', 'adj', '3|1|PRED')],\n",
        " [('Mike', 'n:prop', '1|0|INCROOT')],\n",
        " [('how', 'adv:wh', '1|2|LINK'),\n",
        "  ('much', 'adv', '2|6|JCT'),\n",
        "  ('long-CP', 'adj', '3|6|SUBJ'),\n",
        "  ('do-PAST', 'mod', '4|6|AUX'),\n",
        "  ('you', 'pro', '5|6|SUBJ'),\n",
        "  ('put-ZERO', 'v', '6|0|ROOT'),\n",
        "  ('those', 'pro:dem', '7|6|OBJ'),\n",
        "  ('on', 'adv', '8|6|JCT'),\n",
        "  ('for', 'prep', '9|6|JCT')],\n",
        " [('ahead', 'adv', '1|2|JCT'), ('of', 'prep', '2|0|ROOT')],\n",
        " [('uh', ''),\n",
        "  ('they', 'pro:sub', '2|5|SUBJ'),\n",
        "  ('should', 'mod', '3|5|AUX'),\n",
        "  ('be', 'aux', '4|5|AUX'),\n",
        "  ('do-PASTP', 'part', '5|0|ROOT')],\n",
        " [('what', 'pro:wh', '1|0|INCROOT')],\n",
        " [('the', 'art', '1|0|INCROOT'),\n",
        "  ('one-PL', 'det:num', '2|1|OBJ'),\n",
        "  ('to', 'prep', '3|2|JCT'),\n",
        "  ('the', 'art', '4|3|POBJ'),\n",
        "  ('right', 'adj', '5|4|PRED')],\n",
        " [('yeah', 'co', '1|0|INCROOT')],\n",
        " [('about', 'prep', '1|0|INCROOT'),\n",
        "  ('four', 'det:num', '2|3|QUANT'),\n",
        "  ('minute-PL', 'n', '3|1|POBJ')],\n",
        " [('four', 'det:num', '1|0|INCROOT'),\n",
        "  ('or', 'coord', '2|1|CONJ'),\n",
        "  ('five', 'det:num', '3|4|QUANT'),\n",
        "  ('minute-PL', 'n', '4|2|COORD')],\n",
        " [('do~not', 'mod~neg', '1|3|AUX'),\n",
        "  ('play', 'v', '3|0|ROOT'),\n",
        "  ('with', 'prep', '4|3|JCT'),\n",
        "  ('that', 'pro:dem', '5|4|POBJ')],\n",
        " [('because', 'conj', '1|2|LINK'),\n",
        "  ('it', 'pro', '2|0|ROOT'),\n",
        "  ('xxx', ''),\n",
        "  ('you', 'pro', '3|2|OBJ')],\n",
        " [('window', 'n', '1|0|INCROOT'), ('clean-CP', 'adj', '2|1|XMOD')],\n",
        " [('no', 'co', '1|4|COM'),\n",
        "  ('Daddy', 'n:prop', '3|4|SUBJ'),\n",
        "  ('take-PAST', 'v', '4|0|ROOT'),\n",
        "  ('the', 'art', '5|4|OBJ'),\n",
        "  ('one', 'pro:indef', '6|5|OBJ'),\n",
        "  ('that', 'rel', '7|8|LINK'),\n",
        "  ('have-3S', 'v', '8|6|CMOD'),\n",
        "  ('water', 'n', '9|8|OBJ')],\n",
        " [('for', 'prep', '1|0|INCROOT'),\n",
        "  ('his', 'pro:poss', '2|3|MOD'),\n",
        "  ('car', 'n', '3|1|POBJ')],\n",
        " [('what', 'pro:wh', '1|0|INCROOT')],\n",
        " [('maybe', 'adv', '1|0|INCROOT'), ('not', 'neg', '2|1|NEG')],\n",
        " [('what', 'pro:wh', '1|0|INCROOT')],\n",
        " [('no', 'co', '1|0|INCROOT')],\n",
        " [('because', 'conj', '1|4|LINK'),\n",
        "  ('you~be', 'pro~aux', '2|4|SUBJ'),\n",
        "  ('have-PRESP', 'part', '4|0|ROOT'),\n",
        "  ('what', 'pro:wh', '5|8|LINK'),\n",
        "  ('we~be', 'pro:sub~aux', '6|8|SUBJ'),\n",
        "  ('have-PRESP', 'part', '8|4|COMP')],\n",
        " [('how', 'adv:wh', '1|3|LINK'),\n",
        "  ('about', 'adv', '2|3|JCT'),\n",
        "  ('shut-PRESP', 'part', '3|0|ROOT'),\n",
        "  ('that', 'det', '4|5|DET'),\n",
        "  ('thing', 'n', '5|3|OBJ'),\n",
        "  ('off', 'adv', '6|3|JCT')],\n",
        " [('xxx', '')],\n",
        " [('what', 'pro:wh', '1|0|INCROOT')],\n",
        " [('you~genmod', 'pro~mod', '1|2|SUBJ'),\n",
        "  ('like', 'prep', '3|2|JCT'),\n",
        "  ('a', 'art', '4|3|POBJ'),\n",
        "  ('piece', 'n', '5|4|OBJ'),\n",
        "  ('of', 'prep', '6|5|NJCT'),\n",
        "  ('cake', 'n', '7|6|POBJ')],\n",
        " [('oh', 'co', '1|0|INCROOT')],\n",
        " [('xxx', ''), ('xxx', '')],\n",
        " [('well', 'co', '1|4|COM'),\n",
        "  ('Jenny~be', 'n:prop~aux', '2|4|SUBJ'),\n",
        "  ('play-PRESP', 'part', '4|0|ROOT'),\n",
        "  ('with', 'prep', '5|4|JCT'),\n",
        "  ('it', 'pro', '6|5|POBJ')],\n",
        " [('Jennifer~be', 'n:prop~aux', '1|3|SUBJ'),\n",
        "  ('play-PRESP', 'part', '3|0|ROOT'),\n",
        "  ('with', 'prep', '4|3|JCT'),\n",
        "  ('it', 'pro', '5|4|POBJ')],\n",
        " [('that', 'det', '1|2|DET'), ('alright', 'adj', '2|0|INCROOT')],\n",
        " [('let~us', 'v:obj~pro:obj', '1|0|ROOT'),\n",
        "  ('eat', 'v', '3|1|COMP'),\n",
        "  ('here', 'adv', '4|3|JCT')],\n",
        " [('you', 'pro', '1|3|SUBJ'),\n",
        "  ('can', 'mod', '2|3|AUX'),\n",
        "  ('put-ZERO', 'v', '3|0|ROOT'),\n",
        "  ('them', 'pro:obj', '4|3|OBJ'),\n",
        "  ('up', 'adv', '5|3|JCT'),\n",
        "  ('on', 'prep', '6|3|JCT'),\n",
        "  ('that', 'det', '7|8|DET'),\n",
        "  ('thing', 'n', '8|6|POBJ')],\n",
        " [('and', 'coord', '1|0|INCROOT'), ('you', 'pro', '2|1|COORD'), ('xxx', '')],\n",
        " [('the', 'art', '1|5|SUBJ'),\n",
        "  ('whole', 'adj', '2|3|MOD'),\n",
        "  ('idea', 'n', '3|5|JCT'),\n",
        "  ('here', 'pro:exist', '4|5|SUBJ'),\n",
        "  ('be-3S', 'cop', '5|0|ROOT'),\n",
        "  ('that', 'rel', '6|9|LINK'),\n",
        "  ('we', 'pro:sub', '7|9|SUBJ'),\n",
        "  ('be-PRES', 'aux', '8|9|AUX'),\n",
        "  ('suppose-PASTP', 'part', '9|5|PRED'),\n",
        "  ('to', 'inf', '10|11|INF'),\n",
        "  ('interact', 'v', '11|9|XCOMP'),\n",
        "  ('at', 'prep', '12|11|JCT'),\n",
        "  ('the', 'art', '13|14|MOD'),\n",
        "  ('table', 'n', '14|12|POBJ')],\n",
        " [('yes', 'co', '1|0|INCROOT')],\n",
        " [('should', 'mod', '1|3|AUX'),\n",
        "  ('I', 'pro:sub', '2|3|SUBJ'),\n",
        "  ('pull', 'v', '3|0|ROOT'),\n",
        "  ('the', 'art', '4|3|OBJ'),\n",
        "  ('table', 'n', '5|4|OBJ'),\n",
        "  ('out', 'adv', '6|5|NJCT')],\n",
        " [('no', 'co', '1|0|INCROOT')],\n",
        " [('I', 'pro:sub', '1|0|INCROOT')],\n",
        " [('it', 'pro', '1|2|SUBJ'),\n",
        "  ('be-3S', 'cop', '2|0|ROOT'),\n",
        "  ('cool-dv', 'n', '3|2|PRED'),\n",
        "  ('in', 'adv', '4|2|JCT'),\n",
        "  ('here', 'adv', '5|2|JCT'),\n",
        "  ('xxx', '')],\n",
        " [('the', 'art', '1|9|LINK'),\n",
        "  ('kitchen~s', 'n~poss', '2|6|MOD'),\n",
        "  ('hot', 'adj', '4|6|MOD'),\n",
        "  ('what', 'pro:wh', '6|9|SUBJ'),\n",
        "  ('can', 'mod', '7|9|AUX'),\n",
        "  ('I', 'pro:sub', '8|9|SUBJ'),\n",
        "  ('say', 'v', '9|0|ROOT')],\n",
        " [('it~be', 'pro~cop', '1|2|SUBJ'), ('hot', 'adj', '3|2|PRED')],\n",
        " [('xxx', '')],\n",
        " [('xxx', '')],\n",
        " [('need', 'v', '1|0|ROOT'),\n",
        "  ('some', 'qn', '2|3|QUANT'),\n",
        "  ('bowl-PL', 'n', '3|1|OBJ')],\n",
        " [('xxx', '')],\n",
        " [('xxx', '')],\n",
        " [('it~be', 'pro~cop', '1|2|SUBJ'), ('ah', '')],\n",
        " [('xxx', '')],\n",
        " [('xxx', '')],\n",
        " [('you~will', 'pro~mod', '1|3|SUBJ'),\n",
        "  ('survive', 'v', '3|0|ROOT'),\n",
        "  ('for', 'prep', '5|3|JCT'),\n",
        "  ('tonight', 'adv:tem', '6|5|POBJ')],\n",
        " [('xxx', '')],\n",
        " [('do-PAST', 'v', '1|0|ROOT'),\n",
        "  ('you', 'pro', '2|3|SUBJ'),\n",
        "  ('put-ZERO', 'v', '3|1|COMP'),\n",
        "  ('the', 'art', '4|3|OBJ'),\n",
        "  ('thing', 'n', '5|4|OBJ'),\n",
        "  ('on', 'adv', '6|5|NJCT')],\n",
        " [('what', 'pro:wh', '1|2|OBJ'), ('thing', 'n', '2|0|INCROOT')],\n",
        " [('the', 'art', '1|2|MOD'), ('tape', 'n', '2|0|INCROOT')],\n",
        " [('it~be', 'pro~cop', '1|2|SUBJ'), ('on', 'adv', '3|2|JCT')],\n",
        " [('you~be', 'pro~aux', '1|3|SUBJ'),\n",
        "  ('kid-PRESP', 'part', '3|0|ROOT'),\n",
        "  ('me', 'pro:obj', '4|3|OBJ')],\n",
        " [('no', 'co', '1|5|COM'),\n",
        "  ('now', 'adv', '2|5|JCT'),\n",
        "  ('you', 'pro', '3|5|SUBJ'),\n",
        "  ('can', 'mod', '4|5|AUX'),\n",
        "  ('see', 'v', '5|0|ROOT'),\n",
        "  ('what', 'pro:wh', '6|10|LINK'),\n",
        "  ('you~be', 'pro~aux', '7|10|SUBJ'),\n",
        "  ('real-dadj', 'adv', '9|10|JCT'),\n",
        "  ('like', 'co', '10|5|COM')],\n",
        " [('where', 'adv:wh', '1|2|LINK'),\n",
        "  ('be-3S', 'aux', '2|0|ROOT'),\n",
        "  ('it', 'pro', '3|2|OBJ')],\n",
        " [('xxx', '')],\n",
        " [('do~not', 'mod~neg', '1|3|AUX'),\n",
        "  ('say', 'v', '3|0|ROOT'),\n",
        "  ('anything', 'pro:indef', '4|3|OBJ')],\n",
        " [('he~will', 'pro:sub~mod', '1|3|SUBJ'),\n",
        "  ('notice', 'v', '3|0|ROOT'),\n",
        "  ('it', 'pro', '4|3|OBJ'),\n",
        "  ('then', 'adv:tem', '5|3|JCT')],\n",
        " [('that~be', 'pro:dem~cop', '1|2|SUBJ'),\n",
        "  ('because', 'conj', '3|6|LINK'),\n",
        "  ('it', 'pro', '4|6|SUBJ'),\n",
        "  ('be-PAST', 'aux', '5|6|AUX'),\n",
        "  ('boil-PRESP', 'part', '6|2|CJCT'),\n",
        "  ('too', 'adv', '7|6|JCT'),\n",
        "  ('too', 'adv', '8|9|JCT'),\n",
        "  ('much', 'qn', '9|6|JCT')],\n",
        " [('xxx', '')],\n",
        " [('what', 'pro:wh', '1|4|LINK'),\n",
        "  ('do-PAST', 'mod', '2|4|AUX'),\n",
        "  ('you', 'pro', '3|4|SUBJ'),\n",
        "  ('do', 'v', '4|0|ROOT'),\n",
        "  ('today', 'adv:tem', '5|4|OBJ')],\n",
        " [('nothing', 'pro:indef', '1|0|INCROOT')],\n",
        " [('xxx', ''),\n",
        "  ('go', 'v', '1|0|ROOT'),\n",
        "  ('to', 'prep', '2|1|JCT'),\n",
        "  ('the', 'art', '3|4|MOD'),\n",
        "  ('beach', 'n', '4|2|POBJ')],\n",
        " [('go', 'v', '1|0|ROOT'), ('ahead', 'adv', '2|1|JCT')],\n",
        " [('you', 'pro', '1|2|SUBJ'),\n",
        "  ('bring-PAST', 'v', '2|0|ROOT'),\n",
        "  ('some', 'qn', '3|2|OBJ'),\n",
        "  ('xxx', '')],\n",
        " [('want', 'v', '1|0|ROOT'),\n",
        "  ('to', 'inf', '2|3|INF'),\n",
        "  ('sit', 'v', '3|1|XCOMP'),\n",
        "  ('down', 'adv', '4|3|JCT')],\n",
        " [('at', 'prep', '1|0|INCROOT'),\n",
        "  ('the', 'art', '2|3|MOD'),\n",
        "  ('table', 'n', '3|1|POBJ')],\n",
        " [('here', 'adv', '1|0|INCROOT')],\n",
        " [('come', 'v', '1|0|ROOT'), ('on', 'adv', '2|1|JCT')],\n",
        " [('get', 'v', '1|0|ROOT'), ('back', 'adv', '2|1|JCT')],\n",
        " [('Janet', 'n:prop', '1|0|INCROOT')],\n",
        " [('yeah', 'co', '1|0|INCROOT')],\n",
        " [('telephone', 'n', '1|0|INCROOT')],\n",
        " [('telephone', 'n', '1|0|INCROOT')],\n",
        " [('supper', 'n', '1|0|INCROOT')],\n",
        " [('can', 'mod', '1|0|INCROOT'), ('you', 'pro', '2|1|OBJ')],\n",
        " [('turn', 'v', '1|0|ROOT'),\n",
        "  ('it', 'pro', '2|1|OBJ'),\n",
        "  ('off', 'adv', '3|1|JCT'),\n",
        "  ('for', 'prep', '4|1|JCT'),\n",
        "  ('now', 'adv', '5|4|POBJ')],\n",
        " [('come', 'v', '1|0|ROOT'),\n",
        "  ('to', 'prep', '2|1|JCT'),\n",
        "  ('supper', 'n', '3|2|POBJ')],\n",
        " [('turn', 'v', '1|0|ROOT'),\n",
        "  ('it', 'pro', '2|1|OBJ'),\n",
        "  ('off', 'adv', '3|1|JCT'),\n",
        "  ('for', 'prep', '4|1|JCT'),\n",
        "  ('now', 'adv', '5|4|POBJ')],\n",
        " [('come', 'v', '1|0|ROOT'),\n",
        "  ('to', 'prep', '2|1|JCT'),\n",
        "  ('supper', 'n', '3|2|POBJ')],\n",
        " [('why~genmod', 'adv:wh~mod', '1|4|LINK'),\n",
        "  ('you', 'pro', '3|4|SUBJ'),\n",
        "  ('do', 'v', '4|0|ROOT'),\n",
        "  ('that', 'pro:dem', '5|4|OBJ')],\n",
        " [('Jenny', 'n:prop', '1|0|INCROOT')],\n",
        " [('Jenny', 'n:prop', '1|0|INCROOT')],\n",
        " [('turn', 'v', '1|0|ROOT'),\n",
        "  ('it', 'pro', '2|1|OBJ'),\n",
        "  ('off', 'adv', '3|1|JCT'),\n",
        "  ('and', 'coord', '4|1|CONJ'),\n",
        "  ('come', 'v', '5|4|COORD'),\n",
        "  ('to', 'prep', '6|5|JCT'),\n",
        "  ('supper', 'n', '7|6|POBJ')],\n",
        " [('xxx', '')],\n",
        " [('xxx', '')],\n",
        " [('turn', 'v', '1|0|ROOT'),\n",
        "  ('it', 'pro', '2|1|OBJ'),\n",
        "  ('off', 'adv', '3|1|JCT'),\n",
        "  ('and', 'coord', '4|1|CONJ'),\n",
        "  ('come', 'v', '5|4|COORD'),\n",
        "  ('to', 'prep', '6|5|JCT'),\n",
        "  ('supper', 'n', '7|6|POBJ'),\n",
        "  ('please', 'co', '9|5|COM')],\n",
        " [('maybe', 'adv', '1|0|INCROOT'),\n",
        "  ('after', 'prep', '2|1|JCT'),\n",
        "  ('come-PRESP', 'part', '3|2|POBJ'),\n",
        "  ('back', 'adv', '4|3|JCT'),\n",
        "  ('xxx', '')],\n",
        " [('xxx', '')],\n",
        " [('you~will', 'pro~mod', '1|3|SUBJ'),\n",
        "  ('see', 'v', '3|0|ROOT'),\n",
        "  ('her', 'pro:obj', '4|3|OBJ'),\n",
        "  ('xxx', '')],\n",
        " [('xxx', '')],\n",
        " [('you', 'pro', '1|2|SUBJ'),\n",
        "  ('need', 'v', '2|0|ROOT'),\n",
        "  ('some', 'qn', '3|4|QUANT'),\n",
        "  ('help', 'n', '4|2|OBJ'),\n",
        "  ('with', 'prep', '5|2|JCT'),\n",
        "  ('this', 'pro:dem', '6|5|POBJ')],\n",
        " [('xxx', '')],\n",
        " [('what', 'pro:wh', '1|0|INCROOT')],\n",
        " [('no', 'co', '1|0|INCROOT')],\n",
        " [('her', 'pro:poss', '1|2|MOD'),\n",
        "  ('name~s', 'n~poss', '2|0|INCROOT'),\n",
        "  ('Sandy', 'n:prop', '4|2|APP')],\n",
        " [('sit', 'v', '1|0|ROOT'),\n",
        "  ('over', 'adv', '2|1|JCT'),\n",
        "  ('here', 'adv', '3|1|JCT')],\n",
        " [('xxx', '')],\n",
        " [('xxx', ''), ('extra', 'adj', '1|2|MOD'), ('piece', 'n', '2|0|INCROOT')],\n",
        " [('I', 'pro:sub', '1|4|SUBJ'),\n",
        "  ('have~not', 'aux~neg', '2|4|AUX'),\n",
        "  ('make-PAST', 'v', '4|0|ROOT'),\n",
        "  ('any', 'qn', '5|6|QUANT'),\n",
        "  ('more', 'pro:indef', '6|4|OBJ')],\n",
        " [('supper', 'n', '1|0|INCROOT')],\n",
        " [('have', 'v', '1|0|ROOT'),\n",
        "  ('some', 'qn', '2|3|QUANT'),\n",
        "  ('supper', 'n', '3|1|OBJ')],\n",
        " [('okay', 'co', '1|4|COM'),\n",
        "  ('we', 'pro:sub', '3|4|SUBJ'),\n",
        "  ('can', 'mod', '4|7|AUX'),\n",
        "  ('if', 'conj', '5|7|LINK'),\n",
        "  ('we', 'pro:sub', '6|7|SUBJ'),\n",
        "  ('eat', 'v', '7|0|ROOT'),\n",
        "  ('quick-dadj', 'adv', '8|7|JCT'),\n",
        "  ('and', 'coord', '9|12|LINK'),\n",
        "  ('we~will', 'pro:sub~mod', '10|12|SUBJ'),\n",
        "  ('go', 'v', '12|7|COMP'),\n",
        "  ('out', 'adv', '13|12|JCT'),\n",
        "  ('okay', 'adj', '15|14|MOD')],\n",
        " [('because', 'conj', '1|2|LINK'),\n",
        "  ('if', 'conj', '2|4|LINK'),\n",
        "  ('we', 'pro:sub', '3|4|SUBJ'),\n",
        "  ('take', 'v', '4|0|ROOT'),\n",
        "  ('too', 'adv', '5|6|JCT'),\n",
        "  ('long', 'adj', '6|4|JCT'),\n",
        "  ('we', ''),\n",
        "  ('it~will', 'pro~mod', '7|9|SUBJ'),\n",
        "  ('be', 'aux', '9|6|OBJ'),\n",
        "  ('dark', 'adj', '10|9|JCT'),\n",
        "  ('out', 'adv', '11|10|JCT')],\n",
        " [('okay', 'co', '1|0|INCROOT')],\n",
        " [('you', 'pro', '1|2|SUBJ'),\n",
        "  ('go-PRESP~to', 'part~inf', '2|0|ROOT'),\n",
        "  ('eat', 'v', '4|2|XCOMP'),\n",
        "  ('up', 'prep', '5|4|JCT'),\n",
        "  ('all', 'qn', '6|8|QUANT'),\n",
        "  ('that', 'det', '7|8|DET'),\n",
        "  ('supper', 'n', '8|5|POBJ')],\n",
        " [('rice', 'n', '1|0|INCROOT')],\n",
        " [('guess', 'v', '1|0|ROOT'),\n",
        "  ('what', 'pro:wh', '2|4|LINK'),\n",
        "  ('I', 'pro:sub', '3|4|SUBJ'),\n",
        "  ('make-PAST', 'v', '4|1|COMP'),\n",
        "  ('for', 'prep', '5|4|JCT'),\n",
        "  ('dessert', 'n', '6|5|POBJ')],\n",
        " [('right', 'co', '1|0|INCROOT')],\n",
        " [('that~be', 'pro:dem~cop', '1|5|LINK'),\n",
        "  ('cause', 'v', '3|5|JCT'),\n",
        "  ('you', 'pro', '4|5|SUBJ'),\n",
        "  ('ask-PAST', 'v', '5|0|ROOT'),\n",
        "  ('for', 'prep', '6|5|JCT'),\n",
        "  ('it', 'pro', '7|8|SUBJ'),\n",
        "  ('yesterday', 'adv:tem', '8|6|POBJ')],\n",
        " [('I', 'pro:sub', '1|2|SUBJ'),\n",
        "  ('have', 'v', '2|0|ROOT'),\n",
        "  ('a', 'art', '3|5|MOD'),\n",
        "  ('special', 'n', '4|5|MOD'),\n",
        "  ('dessert', 'n', '5|2|OBJ')],\n",
        " [],\n",
        " [('bubble-3S', 'v', '1|0|ROOT')],\n",
        " [('in', 'prep', '1|0|INCROOT'),\n",
        "  ('your', 'pro:poss', '2|3|MOD'),\n",
        "  ('nose', 'n', '3|1|POBJ')],\n",
        " [('what', 'pro:wh', '1|4|LINK'),\n",
        "  ('do', 'mod', '2|4|AUX'),\n",
        "  ('you', 'pro', '3|4|SUBJ'),\n",
        "  ('mean', 'adj', '4|7|LINK'),\n",
        "  ('he', 'pro:sub', '5|7|SUBJ'),\n",
        "  ('asked', ''),\n",
        "  ('he', 'pro:sub', '6|7|SUBJ'),\n",
        "  ('ask-PAST', 'v', '7|0|ROOT'),\n",
        "  ('for', 'prep', '8|7|JCT'),\n",
        "  ('it', 'pro', '9|8|POBJ'),\n",
        "  ('yesterday', 'adv:tem', '10|7|INCROOT')],\n",
        " [('he', 'pro:sub', '1|2|SUBJ'), ('do-PAST', 'v', '2|0|ROOT')],\n",
        " [('so', 'co', '1|0|INCROOT')],\n",
        " [('that', 'pro:dem', '1|4|SUBJ'),\n",
        "  ('do-3S~not', 'mod~neg', '2|4|AUX'),\n",
        "  ('mean', 'v', '4|0|ROOT')],\n",
        " [('be-3S', 'cop', '1|0|ROOT'),\n",
        "  ('that', 'pro:dem', '2|1|PRED'),\n",
        "  ('for', 'prep', '3|2|JCT'),\n",
        "  ('both', 'qn', '4|3|POBJ'),\n",
        "  ('of', 'prep', '5|4|NJCT'),\n",
        "  ('them', 'pro:obj', '6|5|POBJ')],\n",
        " [('yeah', 'co', '1|0|INCROOT')],\n",
        " [('you', 'pro', '1|3|SUBJ'),\n",
        "  ('can', 'mod', '2|3|AUX'),\n",
        "  ('ask', 'v', '3|0|ROOT')],\n",
        " [('please', 'co', '1|0|INCROOT')],\n",
        " [('water', 'n', '1|0|INCROOT')],\n",
        " [('you', 'pro', '1|2|SUBJ'), ('mean', 'v', '2|0|ROOT'), ('s', '')],\n",
        " [('gravy', 'n', '1|0|INCROOT')],\n",
        " [('you', 'pro', '1|2|SUBJ'),\n",
        "  ('mean', 'adj', '2|0|ROOT'),\n",
        "  ('gravy', 'n', '3|2|OBJ')],\n",
        " [('rice', 'n', '1|0|INCROOT')],\n",
        " [('Jen', 'n:prop', '1|0|INCROOT'),\n",
        "  ('where', 'rel', '3|6|LINK'),\n",
        "  ('be-PRES', 'aux', '4|6|AUX'),\n",
        "  ('you', 'pro', '5|6|SUBJ'),\n",
        "  ('go-PRESP', 'part', '6|1|CJCT')],\n",
        " [('uh', ''), ('oh', 'co', '1|0|INCROOT')],\n",
        " [('she', 'pro:sub', '1|2|SUBJ'), ('pee-PAST', 'v', '2|0|ROOT')],\n",
        " [('have', 'v', '1|0|ROOT'),\n",
        "  ('to', 'inf', '2|3|INF'),\n",
        "  ('to', 'inf', '2|3|INF'),\n",
        "  ('go', 'v', '3|1|XCOMP'),\n",
        "  ('to', 'prep', '4|3|JCT'),\n",
        "  ('the', 'art', '5|6|MOD'),\n",
        "  ('bath', 'n', '6|4|POBJ')],\n",
        " [('have', 'v', '1|0|ROOT'),\n",
        "  ('to', 'inf', '2|3|INF'),\n",
        "  ('to', 'inf', '2|3|INF'),\n",
        "  ('go', 'v', '3|1|XCOMP'),\n",
        "  ('to', 'prep', '4|3|JCT'),\n",
        "  ('the', 'art', '5|4|POBJ'),\n",
        "  ('bath', 'n', '6|8|MOD'),\n",
        "  ('Jen', 'n:prop', '8|5|APP')],\n",
        " [('okay', 'co', '1|3|COM'),\n",
        "  ('do', 'v', '3|0|ROOT'),\n",
        "  ('you', 'pro', '4|3|OBJ'),\n",
        "  ('have_to', 'mod:aux', '5|6|AUX'),\n",
        "  ('go', 'v', '6|3|COMP'),\n",
        "  ('the', 'art', '7|8|MOD'),\n",
        "  ('bath', 'n', '8|6|OBJ')],\n",
        " [('okay', 'co', '1|3|COM'),\n",
        "  ('do', 'v', '3|0|ROOT'),\n",
        "  ('you', 'pro', '4|3|OBJ'),\n",
        "  ('have_to', 'mod:aux', '5|6|AUX'),\n",
        "  ('go', 'v', '6|3|COMP'),\n",
        "  ('the', 'art', '7|6|OBJ'),\n",
        "  ('bath', 'n', '8|10|MOD'),\n",
        "  ('though', 'adv', '10|7|JCT')],\n",
        " [('do', 'mod', '1|4|LINK'),\n",
        "  ('you', 'pro', '2|4|SUBJ'),\n",
        "  ('have_to', 'mod:aux', '3|4|AUX'),\n",
        "  ('go', 'v', '4|0|ROOT'),\n",
        "  ('pot-DIM', 'n', '5|7|MOD'),\n",
        "  ('Jenny', 'n:prop', '7|4|OBJ')],\n",
        " [('cmon', 'co', '1|0|INCROOT')],\n",
        " [('so', 'adv', '1|4|JCT'),\n",
        "  ('Peter~s', 'n:prop~poss', '2|4|SUBJ'),\n",
        "  ('go-PRESP~to', 'part~inf', '4|0|ROOT'),\n",
        "  ('come', 'v', '6|4|XCOMP'),\n",
        "  ('here', 'adv', '7|6|JCT'),\n",
        "  ('tomorrow', 'adv:tem', '8|6|JCT')],\n",
        " [('yep', 'co', '1|0|INCROOT')],\n",
        " [('and', 'coord', '1|4|LINK'),\n",
        "  ('he~be', 'pro:sub~aux', '2|4|SUBJ'),\n",
        "  ('go-PRESP~to', 'part~inf', '4|0|ROOT'),\n",
        "  ('sleep', 'v', '6|4|XCOMP'),\n",
        "  ('here', 'adv', '7|6|JCT'),\n",
        "  ('for', 'prep', '8|6|JCT'),\n",
        "  ('the', 'art', '9|8|POBJ'),\n",
        "  ('rest', 'n', '10|9|OBJ'),\n",
        "  ('of', 'prep', '11|10|NJCT'),\n",
        "  ('the', 'art', '12|13|MOD'),\n",
        "  ('week', 'n', '13|11|POBJ')],\n",
        " [('he~be', 'pro:sub~aux', '1|3|SUBJ'),\n",
        "  ('go-PRESP~to', 'part~inf', '3|0|ROOT'),\n",
        "  ('stay', 'v', '5|3|XCOMP'),\n",
        "  ('four', 'det:num', '6|7|QUANT'),\n",
        "  ('day-PL', 'n', '7|5|OBJ')],\n",
        " [('no', 'co', '1|0|INCROOT')],\n",
        " [('we~be', 'pro:sub~aux', '1|3|SUBJ'),\n",
        "  ('go-PRESP', 'part', '3|0|ROOT'),\n",
        "  ('to', 'inf', '4|5|INF'),\n",
        "  ('leave', 'v', '5|3|XCOMP'),\n",
        "  ('Sunday', 'n:prop', '6|5|OBJ'),\n",
        "  ('at', 'prep', '8|5|JCT'),\n",
        "  ('the', 'art', '9|8|POBJ'),\n",
        "  ('end', 'n', '10|9|OBJ'),\n",
        "  ('of', 'prep', '11|10|NJCT'),\n",
        "  ('the', 'art', '12|13|MOD'),\n",
        "  ('month', 'n', '13|11|POBJ')],\n",
        " [('three', 'det:num', '1|3|QUANT'),\n",
        "  ('more', 'adv', '2|3|JCT'),\n",
        "  ('week-PL', 'n', '3|0|INCROOT')],\n",
        " [('three', 'det:num', '1|2|QUANT'),\n",
        "  ('more', 'adv', '2|5|JCT'),\n",
        "  ('Sundays', 'n:prop', '3|5|SUBJ'),\n",
        "  ('have_to', 'mod:aux', '4|5|AUX'),\n",
        "  ('go', 'v', '5|0|ROOT'),\n",
        "  ('by', 'adv', '6|5|JCT')],\n",
        " [('okay', 'co', '1|0|INCROOT')],\n",
        " [('do', 'mod', '1|3|AUX'),\n",
        "  ('you', 'pro', '2|3|SUBJ'),\n",
        "  ('want', 'v', '3|0|ROOT'),\n",
        "  ('rice', 'n', '4|3|OBJ')],\n",
        " [('no', 'co', '1|5|COM'),\n",
        "  ('you', 'pro', '3|5|SUBJ'),\n",
        "  ('can', 'mod', '4|5|AUX'),\n",
        "  ('put-ZERO', 'v', '5|0|ROOT'),\n",
        "  ('it', 'pro', '6|5|OBJ'),\n",
        "  ('on', 'prep', '7|5|JCT'),\n",
        "  ('yourself', 'pro:refl', '8|7|POBJ')],\n",
        " [('please', 'co', '1|0|INCROOT')],\n",
        " [('you', 'pro', '1|2|SUBJ'),\n",
        "  ('like', 'v', '2|0|ROOT'),\n",
        "  ('that', 'pro:dem', '3|2|OBJ')],\n",
        " [('she', 'pro:sub', '1|4|SUBJ'),\n",
        "  ('do-PAST~not', 'mod~neg', '2|4|AUX'),\n",
        "  ('take', 'v', '4|0|ROOT'),\n",
        "  ('that', 'pro:dem', '5|4|OBJ'),\n",
        "  ('long', 'adv', '6|4|JCT')],\n",
        " [('xxx', '')],\n",
        " [('xxx', '')],\n",
        " [('you', 'pro', '1|2|SUBJ'),\n",
        "  ('know', 'v', '2|0|ROOT'),\n",
        "  ('what', 'pro:wh', '3|4|SUBJ'),\n",
        "  ('happen-PAST', 'v', '4|2|COMP')],\n",
        " [('what', 'pro:wh', '1|0|INCROOT')],\n",
        " [('the', 'art', '1|0|INCROOT'),\n",
        "  ('burn-dv', 'n', '2|1|INCROOT'),\n",
        "  ('in', 'prep', '3|2|NJCT'),\n",
        "  ('the', 'art', '4|3|POBJ'),\n",
        "  ('back', 'n', '5|8|SUBJ'),\n",
        "  ('be-3S~not', 'cop~neg', '6|8|AUX'),\n",
        "  ('work-PRESP', 'part', '8|4|ROOT'),\n",
        "  ('that', 'rel', '9|8|OBJ'),\n",
        "  ('well', 'adv', '10|9|JCT')],\n",
        " [('they', 'pro:sub', '1|3|SUBJ'),\n",
        "  ('never', 'adv', '2|3|JCT'),\n",
        "  ('come-PAST', 'v', '3|0|ROOT'),\n",
        "  ('to', 'prep', '4|3|JCT'),\n",
        "  ('a', 'art', '5|6|MOD'),\n",
        "  ('boil', 'n', '6|4|POBJ')],\n",
        " [('neat', 'adj', '1|0|INCROOT')],\n",
        " [('there', 'adv', '1|2|JCT'),\n",
        "  ('some', 'qn', '2|4|QUANT'),\n",
        "  ('little', 'adj', '3|4|MOD'),\n",
        "  ('mushroom-PL', 'n', '4|0|ROOT'),\n",
        "  ('in', 'prep', '5|4|JCT'),\n",
        "  ('the', 'art', '6|7|MOD'),\n",
        "  ('rice', 'n', '7|5|POBJ')],\n",
        " [('little', 'adj', '1|2|MOD'),\n",
        "  ('mushroom-PL', 'n', '2|0|INCROOT'),\n",
        "  ('in', 'prep', '3|2|JCT'),\n",
        "  ('the', 'art', '4|5|MOD'),\n",
        "  ('rice', 'n', '5|3|POBJ')],\n",
        " [('they~be', 'pro:sub~cop', '1|2|SUBJ'), ('good', 'adj', '3|2|PRED')],\n",
        " [('xxx', '')],\n",
        " [('they', 'pro:sub', '1|2|SUBJ'),\n",
        "  ('have', 'v', '2|0|ROOT'),\n",
        "  ('a', 'art', '3|5|MOD'),\n",
        "  ('nice', 'adj', '4|5|MOD'),\n",
        "  ('flavor', 'n', '5|2|OBJ')],\n",
        " [('do~not', 'mod~neg', '1|3|AUX'), ('they', 'pro:sub', '3|0|ROOT')],\n",
        " [('do', 'mod', '1|3|AUX'),\n",
        "  ('you', 'pro', '2|3|SUBJ'),\n",
        "  ('have', 'v', '3|0|ROOT'),\n",
        "  ('a', 'art', '4|3|OBJ'),\n",
        "  ('fork', 'n', '5|7|MOD'),\n",
        "  ('Jenny', 'n:prop', '7|4|APP')],\n",
        " [('yes', 'co', '1|0|INCROOT')],\n",
        " [('will-COND', 'mod', '1|3|AUX'),\n",
        "  ('you', 'pro', '2|3|SUBJ'),\n",
        "  ('care', 'v', '3|0|ROOT')],\n",
        " [('before', 'conj', '1|3|LINK'),\n",
        "  ('you', 'pro', '2|3|SUBJ'),\n",
        "  ('sit', 'v', '3|0|ROOT'),\n",
        "  ('down', 'adv', '4|3|JCT')],\n",
        " [('xxx', ''), ('spoon', 'n', '1|0|INCROOT')],\n",
        " [('xxx', '')],\n",
        " [('please', 'co', '1|0|INCROOT')],\n",
        " [('please', 'co', '1|0|INCROOT')],\n",
        " [('please', 'co', '1|0|INCROOT')],\n",
        " [('yep', 'co', '1|0|INCROOT')],\n",
        " [('see', 'v', '1|0|ROOT'),\n",
        "  ('the', 'art', '2|1|OBJ'),\n",
        "  ('steam', 'n', '3|2|OBJ')],\n",
        " [('Michael', 'n:prop', '1|3|MOD'), ('pea-PL', 'n', '3|0|INCROOT')],\n",
        " [('please', 'co', '1|0|INCROOT')],\n",
        " [('you', 'pro', '1|5|SUBJ'),\n",
        "  ('do-PAST~not', 'mod~neg', '2|5|AUX'),\n",
        "  ('have_to', 'mod:aux', '4|5|AUX'),\n",
        "  ('do', 'v', '5|0|ROOT'),\n",
        "  ('it', 'pro', '6|5|OBJ')],\n",
        " [('you', 'pro', '1|4|SUBJ'),\n",
        "  ('do~not', 'mod~neg', '2|4|AUX'),\n",
        "  ('get', 'v', '4|0|ROOT'),\n",
        "  ('any', 'qn', '5|4|OBJ'),\n",
        "  ('until', 'prep', '6|5|JCT'),\n",
        "  ('you', 'pro', '7|8|SUBJ'),\n",
        "  ('say', 'v', '8|6|POBJ'),\n",
        "  ('the', 'art', '9|14|MOD'),\n",
        "  ('magic', 'n', '10|11|MOD'),\n",
        "  ('word', 'n', '11|14|MOD'),\n",
        "  ('wise', 'adj', '13|14|MOD'),\n",
        "  ('guy', 'n', '14|8|OBJ')],\n",
        " [('do~not', 'mod~neg', '1|3|AUX'),\n",
        "  ('give', 'v', '3|0|ROOT'),\n",
        "  ('me', 'pro:obj', '4|3|OBJ'),\n",
        "  ('that', 'det', '5|6|DET'),\n",
        "  ('stare', 'n', '6|3|OBJ')],\n",
        " [('oh', 'co', '1|2|COM'), ('brother', 'n', '2|0|INCROOT')],\n",
        " [('xxx', ''),\n",
        "  ('work', 'n', '1|0|INCROOT'),\n",
        "  ('to', 'prep', '2|1|NJCT'),\n",
        "  ('them', 'pro:obj', '3|2|POBJ'),\n",
        "  ('one', 'det:num', '5|2|POBJ'),\n",
        "  ('of', 'prep', '6|5|NJCT'),\n",
        "  ('these', 'det', '7|8|DET'),\n",
        "  ('day-PL', 'n', '8|6|POBJ')],\n",
        " [('xxx', '')],\n",
        " [('whoop', 'co', '1|0|INCROOT')],\n",
        " [('Bob', 'n:prop', '1|0|INCROOT')],\n",
        " [('look', 'v', '1|4|LINK'),\n",
        "  ('now', 'adv', '2|1|JCT'),\n",
        "  ('sit', 'v', '4|0|ROOT'),\n",
        "  ('down', 'adv', '5|4|JCT')],\n",
        " [('now', 'adv', '1|4|JCT'),\n",
        "  ('I', 'pro:sub', '2|4|SUBJ'),\n",
        "  ('can', 'mod', '3|4|AUX'),\n",
        "  ('eat', 'v', '4|0|ROOT')],\n",
        " [('you', 'pro', '1|2|SUBJ'),\n",
        "  ('go-PRESP~to', 'part~inf', '2|0|ROOT'),\n",
        "  ('have_to', 'mod:aux', '4|5|AUX'),\n",
        "  ('say', 'v', '5|2|XCOMP'),\n",
        "  ('please', 'co', '6|9|COM'),\n",
        "  ('before', 'prep', '7|9|JCT'),\n",
        "  ('you', 'pro', '8|9|SUBJ'),\n",
        "  ('get', 'v', '9|5|COMP'),\n",
        "  ('the', 'art', '10|11|MOD'),\n",
        "  ('spoon', 'n', '11|9|OBJ')],\n",
        " [('so', 'adv', '1|2|JCT'),\n",
        "  ('rain-PASTP', 'part', '2|0|ROOT'),\n",
        "  ('all', 'qn', '3|4|QUANT'),\n",
        "  ('afternoon', 'n', '4|2|OBJ')],\n",
        " [('it~be', 'pro~cop', '1|2|SUBJ'),\n",
        "  ('a', 'art', '3|5|MOD'),\n",
        "  ('nice', 'adj', '4|5|MOD'),\n",
        "  ('change', 'n', '5|2|PRED'),\n",
        "  ('for', 'prep', '6|5|NJCT'),\n",
        "  ('something', 'pro:indef', '7|6|POBJ'),\n",
        "  ('to', 'inf', '8|9|INF'),\n",
        "  ('happen', 'v', '9|5|XCOMP'),\n",
        "  ('that~be', 'pro:dem~cop', '10|11|SUBJ'),\n",
        "  ('different', 'adj', '12|11|PRED')],\n",
        " [('what', 'pro:wh', '1|3|LINK'),\n",
        "  ('will-COND', 'mod', '2|3|AUX'),\n",
        "  ('you', 'pro', '3|0|ROOT'),\n",
        "  ('like', 'co', '4|3|COM')],\n",
        " [('please', 'co', '1|0|INCROOT')],\n",
        " [('smart-dadj', 'n', '1|2|SUBJ'), ('pant-3S', 'v', '2|0|ROOT')],\n",
        " [('do~not', 'mod~neg', '1|3|AUX'),\n",
        "  ('be', 'cop', '3|0|ROOT'),\n",
        "  ('fresh', 'adj', '4|3|PRED')],\n",
        " [('what', 'pro:wh', '1|4|OBJ'),\n",
        "  ('be-PRES', 'aux', '2|4|AUX'),\n",
        "  ('you', 'pro', '3|4|AUX'),\n",
        "  ('do-PRESP', 'part', '4|0|ROOT'),\n",
        "  ('mix-PRESP', 'part', '6|4|OBJ'),\n",
        "  ('it', 'pro', '7|6|OBJ'),\n",
        "  ('all', 'adv', '8|9|JCT'),\n",
        "  ('up', 'adv', '9|7|JCT')],\n",
        " [('I', 'pro:sub', '1|2|SUBJ'),\n",
        "  ('think', 'v', '2|0|ROOT'),\n",
        "  ('it~be', 'pro~cop', '3|2|OBJ'),\n",
        "  ('pretty', 'adj', '5|4|PRED'),\n",
        "  ('warm', 'adj', '6|5|JCT'),\n",
        "  ('now', 'adv', '7|6|JCT')],\n",
        " [('where~genmod', 'adv:wh~mod', '1|4|LINK'),\n",
        "  ('you', 'pro', '3|4|SUBJ'),\n",
        "  ('go', 'v', '4|0|ROOT'),\n",
        "  ('eat', 'v', '5|4|OBJ'),\n",
        "  ('fish', 'n', '6|7|MOD'),\n",
        "  ('today', 'adv:tem', '7|5|OBJ')],\n",
        " [('xxx', '')],\n",
        " [('what', 'pro:wh', '1|0|INCROOT')],\n",
        " [('xxx', '')],\n",
        " [('what', 'pro:wh', '1|0|INCROOT'), ('xxx', '')],\n",
        " [('xxx', '')],\n",
        " [('after', 'prep', '1|4|LINK'),\n",
        "  ('that', 'det', '2|1|POBJ'),\n",
        "  ('just', 'adv', '3|4|JCT'),\n",
        "  ('hang-PAST', 'v', '4|0|ROOT'),\n",
        "  ('around', 'adv', '5|4|JCT')],\n",
        " [('xxx', '')],\n",
        " [('xxx', '')],\n",
        " [('go', 'v', '1|0|ROOT'),\n",
        "  ('in', 'prep', '2|1|JCT'),\n",
        "  ('the', 'art', '3|5|MOD'),\n",
        "  ('office', 'n', '4|5|MOD'),\n",
        "  ('today', 'adv:tem', '5|2|POBJ')],\n",
        " [('what', 'pro:wh', '1|5|LINK'),\n",
        "  ('time', 'n', '2|5|SUBJ'),\n",
        "  ('do-PAST', 'mod', '3|5|AUX'),\n",
        "  ('you', 'pro', '4|5|SUBJ'),\n",
        "  ('get', 'v', '5|0|ROOT'),\n",
        "  ('home', 'n', '6|5|JCT')],\n",
        " [('about', 'prep', '1|0|INCROOT'),\n",
        "  ('three', 'det:num', '2|1|POBJ'),\n",
        "  ('xxx', '')],\n",
        " [('how', 'adv:wh', '1|2|LINK'),\n",
        "  ('be-PAST', 'cop', '2|0|ROOT'),\n",
        "  ('the', 'art', '3|4|MOD'),\n",
        "  ('weather', 'n', '4|2|PRED')],\n",
        " [('what', 'pro:wh', '1|0|INCROOT')],\n",
        " [('how~be', 'adv:wh~aux', '1|3|LINK'),\n",
        "  ('that', 'pro:dem', '3|0|ROOT'),\n",
        "  ('xxx', '')],\n",
        " [('pretty', 'adv', '1|2|JCT'),\n",
        "  ('mean', 'adj', '2|0|ROOT'),\n",
        "  ('all', 'qn', '3|4|QUANT'),\n",
        "  ('summer', 'n', '4|2|OBJ')],\n",
        " [('xxx', '')],\n",
        " [('I', 'pro:sub', '1|2|SUBJ'),\n",
        "  ('know', 'v', '2|0|ROOT'),\n",
        "  ('it', 'pro', '4|5|SUBJ'),\n",
        "  ('start-PAST', 'v', '5|2|COMP'),\n",
        "  ('yesterday', 'adv:tem', '6|5|OBJ'),\n",
        "  ('at', 'prep', '7|6|JCT'),\n",
        "  ('five', 'det:num', '8|7|POBJ')],\n",
        " [('yeah', 'co', '1|4|COM'),\n",
        "  ('I', 'pro:sub', '3|4|SUBJ'),\n",
        "  ('have-PAST', 'v', '4|0|ROOT'),\n",
        "  ('to', 'inf', '5|6|INF'),\n",
        "  ('take', 'v', '6|4|XCOMP'),\n",
        "  ('the', 'art', '7|6|OBJ'),\n",
        "  ('way', 'n', '8|7|MOD')],\n",
        " [('at', 'prep', '1|0|INCROOT'), ('least', 'n', '2|1|POBJ'), ('xxx', '')],\n",
        " [('yes', 'co', '1|0|INCROOT')],\n",
        " [('xxx', '')],\n",
        " [('xxx', '')],\n",
        " [('it~be', 'pro~cop', '1|2|SUBJ'),\n",
        "  ('sort', 'n', '3|2|PRED'),\n",
        "  ('of', 'prep', '4|3|NJCT'),\n",
        "  ('fun', 'n', '5|7|MOD'),\n",
        "  ('do-PRESP', 'part', '6|7|MOD'),\n",
        "  ('that', 'rel', '7|4|POBJ')],\n",
        " [('you', 'pro', '1|2|SUBJ'),\n",
        "  ('have', 'v', '2|0|ROOT'),\n",
        "  ('some', 'qn', '3|4|QUANT'),\n",
        "  ('xxx', ''),\n",
        "  ('here', 'adv', '4|2|JCT')],\n",
        " [('make', 'v', '1|0|ROOT'),\n",
        "  ('sure', 'adj', '2|1|OBJ'),\n",
        "  ('you', 'pro', '3|4|SUBJ'),\n",
        "  ('chew', 'v', '4|2|XCOMP'),\n",
        "  ('that', 'rel', '5|7|LINK'),\n",
        "  ('meat', 'n', '6|7|MOD'),\n",
        "  ('well', 'n', '7|4|COMP'),\n",
        "  ('Bob', 'n:prop', '9|7|APP')],\n",
        " [('make', 'v', '1|0|ROOT'),\n",
        "  ('sure', 'adj', '2|1|OBJ'),\n",
        "  ('you', 'pro', '3|4|SUBJ'),\n",
        "  ('chew', 'v', '4|2|XCOMP'),\n",
        "  ('that', 'rel', '5|8|LINK'),\n",
        "  ('meat', 'n', '6|8|MOD'),\n",
        "  ('well', 'n', '7|8|MOD'),\n",
        "  ('cause', 'n', '8|4|COMP'),\n",
        "  ('it~be', 'pro~cop', '9|10|SUBJ'),\n",
        "  ('tough', 'adj', '11|10|PRED')],\n",
        " [('right', 'co', '1|0|INCROOT')],\n",
        " [('xxx', '')],\n",
        " [('she~be', 'pro:sub~aux', '1|3|SUBJ'),\n",
        "  ('try-PRESP', 'part', '3|0|ROOT'),\n",
        "  ('to', 'inf', '4|5|INF'),\n",
        "  ('stay', 'v', '5|3|XCOMP'),\n",
        "  ('xxx', '')],\n",
        " [('all', 'post', '1|0|INCROOT'), ('together', 'adv', '2|1|JCT')],\n",
        " [('can~not', 'mod~neg', '1|3|AUX'), ('what', 'pro:wh', '3|0|ROOT')],\n",
        " [('okay', 'co', '1|0|INCROOT')],\n",
        " [('I~have', 'pro:sub~aux', '1|4|SUBJ'),\n",
        "  ('be-PASTP', 'aux', '3|4|AUX'),\n",
        "  ('think-PRESP', 'part', '4|7|LINK'),\n",
        "  ('I~genmod', 'pro:sub~mod', '5|7|SUBJ'),\n",
        "  ('like', 'v', '7|0|ROOT'),\n",
        "  ('to', 'inf', '8|9|INF'),\n",
        "  ('ride', 'v', '9|7|XCOMP'),\n",
        "  ('my', 'pro:poss', '10|11|MOD'),\n",
        "  ('bike', 'n', '11|9|OBJ'),\n",
        "  ('over', 'adv', '12|9|JCT'),\n",
        "  ('too', 'adv', '13|14|JCT'),\n",
        "  ('until', 'prep', '15|9|JCT'),\n",
        "  ('it', 'pro', '16|17|SUBJ'),\n",
        "  ('get-PAST', 'v', '17|15|POBJ'),\n",
        "  ('snow-dn', 'adj', '18|9|JCT'),\n",
        "  ('out', 'adv', '19|18|JCT')],\n",
        " [('xxx', '')],\n",
        " [('I', 'pro:sub', '1|2|SUBJ'),\n",
        "  ('try-PAST', 'v', '2|0|ROOT'),\n",
        "  ('to', 'inf', '3|4|INF'),\n",
        "  ('take', 'v', '4|2|XCOMP'),\n",
        "  ('xxx', '')],\n",
        " [('little', 'adj', '1|2|MOD'), ('more', 'pro:indef', '2|0|INCROOT')],\n",
        " [('xxx', '')],\n",
        " [('I', 'pro:sub', '1|2|SUBJ'),\n",
        "  ('tell-PAST', 'v', '2|0|ROOT'),\n",
        "  ('her', 'pro:obj', '3|2|OBJ'),\n",
        "  ('I', 'pro:sub', '4|6|SUBJ'),\n",
        "  ('only', 'adv', '5|6|JCT'),\n",
        "  ('want-PAST', 'v', '6|2|COMP'),\n",
        "  ('to', 'inf', '7|8|INF'),\n",
        "  ('take', 'v', '8|6|XCOMP'),\n",
        "  ('one', 'det:num', '9|10|QUANT'),\n",
        "  ('course', 'n', '10|8|OBJ')],\n",
        " [('xxx', '')],\n",
        " [('what~genmod', 'pro:wh~mod', '1|4|LINK'),\n",
        "  ('she', 'pro:sub', '3|4|SUBJ'),\n",
        "  ('say', 'v', '4|0|ROOT'),\n",
        "  ('to', 'prep', '5|4|JCT'),\n",
        "  ('that', 'det', '6|5|POBJ')],\n",
        " [('xxx', '')],\n",
        " [('do-PAST', 'mod', '1|3|AUX'),\n",
        "  ('she', 'pro:sub', '2|3|SUBJ'),\n",
        "  ('appreciate', 'v', '3|0|ROOT'),\n",
        "  ('why', 'adv:wh', '4|3|OBJ')],\n",
        " [('I', 'pro:sub', '1|2|SUBJ'),\n",
        "  ('mean', 'adj', '2|0|ROOT'),\n",
        "  ('do-PAST', 'v', '4|2|OBJ'),\n",
        "  ('she', 'pro:sub', '5|6|SUBJ'),\n",
        "  ('say', 'v', '6|4|COMP'),\n",
        "  ('anything', ''),\n",
        "  ('sound-3S', 'v', '7|6|OBJ'),\n",
        "  ('good', 'adj', '8|7|JCT'),\n",
        "  ('or', 'coord', '9|8|CONJ'),\n",
        "  ('bad', 'adj', '10|11|MOD'),\n",
        "  ('or', 'coord', '11|9|COORD'),\n",
        "  ('xxx', '')],\n",
        " [('she', 'pro:sub', '1|4|SUBJ'),\n",
        "  ('do-PAST~not', 'mod~neg', '2|4|AUX'),\n",
        "  ('say', 'v', '4|0|ROOT'),\n",
        "  ('it', 'pro', '5|4|OBJ'),\n",
        "  ('sound-PAST', 'v', '6|4|COMP')],\n",
        " [('a', 'art', '1|0|INCROOT'),\n",
        "  ('spoon', 'n', '2|1|OBJ'),\n",
        "  ('a', 'art', '4|2|XMOD'),\n",
        "  ('fork', 'n', '5|4|OBJ'),\n",
        "  ('and', 'coord', '6|5|CONJ'),\n",
        "  ('a', 'art', '7|8|MOD'),\n",
        "  ('spoon', 'n', '8|6|COORD')],\n",
        " [('must', 'mod', '1|2|AUX'),\n",
        "  ('be', 'cop', '2|0|ROOT'),\n",
        "  ('hungry', 'adj', '3|2|PRED')],\n",
        " [('look', 'v', '1|0|ROOT'),\n",
        "  ('at', 'prep', '2|1|JCT'),\n",
        "  ('this', 'pro:dem', '3|2|POBJ'),\n",
        "  ('xxx', '')],\n",
        " [('what', 'pro:wh', '1|0|INCROOT')],\n",
        " [('make', 'v', '1|0|ROOT'),\n",
        "  ('it', 'pro', '2|1|OBJ'),\n",
        "  ('look', 'v', '3|1|COMP'),\n",
        "  ('xxx', '')],\n",
        " [('Bob', 'n:prop', '1|4|LINK'),\n",
        "  ('it~be', 'pro~aux', '2|4|SUBJ'),\n",
        "  ('go-PRESP', 'part', '4|0|ROOT'),\n",
        "  ('to', 'inf', '5|6|INF'),\n",
        "  ('end', 'v', '6|4|XCOMP'),\n",
        "  ('up', 'adv', '7|6|JCT'),\n",
        "  ('all', 'adv', '8|6|JCT'),\n",
        "  ('in', 'prep', '9|8|JCT'),\n",
        "  ('your', 'pro:poss', '10|11|MOD'),\n",
        "  ('lap', 'n', '11|9|POBJ')],\n",
        " [('put-ZERO', 'v', '1|0|ROOT'),\n",
        "  ('the', 'art', '2|1|OBJ'),\n",
        "  ('spoon', 'n', '3|2|XMOD'),\n",
        "  ('down', 'adv', '4|3|NJCT')],\n",
        " [('xxx', '')],\n",
        " [('and', 'coord', '1|3|LINK'),\n",
        "  ('you', 'pro', '2|3|SUBJ'),\n",
        "  ('lose', 'v', '3|0|ROOT'),\n",
        "  ('one', 'pro:indef', '4|3|OBJ')],\n",
        " [('see', 'v', '1|0|ROOT')],\n",
        " [('it~be', 'pro~aux', '1|3|SUBJ'),\n",
        "  ('go-PRESP~to', 'part~inf', '3|0|ROOT'),\n",
        "  ('spill', 'v', '5|3|XCOMP'),\n",
        "  ('all', 'adv', '6|5|JCT'),\n",
        "  ('over', 'prep', '7|6|JCT'),\n",
        "  ('the', 'art', '8|9|MOD'),\n",
        "  ('place', 'n', '9|7|POBJ')],\n",
        " [('cut-ZERO', 'v', '1|0|ROOT'),\n",
        "  ('it', 'pro', '2|1|OBJ'),\n",
        "  ('out', 'adv', '3|1|JCT')],\n",
        " [('you~be', 'pro~aux', '1|3|SUBJ'),\n",
        "  ('make-PRESP', 'part', '3|0|ROOT'),\n",
        "  ('a', 'art', '4|5|MOD'),\n",
        "  ('mess', 'n', '5|3|OBJ')],\n",
        " [('Jennifer', 'n:prop', '1|4|MOD'),\n",
        "  ('same', 'adj', '3|4|MOD'),\n",
        "  ('thing', 'n', '4|0|INCROOT')],\n",
        " [('put-ZERO', 'v', '1|0|ROOT')],\n",
        " [('put-ZERO', 'v', '1|0|ROOT'),\n",
        "  ('down', 'adv', '2|3|JCT'),\n",
        "  ('one', 'pro:indef', '3|1|OBJ')],\n",
        " [('put-ZERO', 'v', '1|0|ROOT'),\n",
        "  ('the', 'art', '2|1|OBJ'),\n",
        "  ('fork', 'n', '3|2|XMOD'),\n",
        "  ('down', 'adv', '4|3|NJCT')],\n",
        " [('Jennifer', 'n:prop', '1|6|LINK'),\n",
        "  ('you', 'pro', '3|6|SUBJ'),\n",
        "  ('do~not', 'mod~neg', '4|6|AUX'),\n",
        "  ('want', 'v', '6|0|ROOT'),\n",
        "  ('to', 'inf', '7|8|INF'),\n",
        "  ('spill', 'v', '8|6|XCOMP'),\n",
        "  ('it', 'pro', '9|8|OBJ'),\n",
        "  ('all', 'adv', '10|8|JCT'),\n",
        "  ('over', 'prep', '11|10|JCT'),\n",
        "  ('your', 'pro:poss', '12|13|MOD'),\n",
        "  ('lap', 'n', '13|11|POBJ')],\n",
        " [('could', 'mod', '1|3|AUX'),\n",
        "  ('I', 'pro:sub', '2|3|SUBJ'),\n",
        "  ('have', 'v', '3|0|ROOT'),\n",
        "  ('some', 'qn', '4|5|QUANT'),\n",
        "  ('more', 'pro:indef', '5|3|OBJ'),\n",
        "  ('xxx', '')],\n",
        " [('do~not', 'mod~neg', '1|3|AUX'),\n",
        "  ('eat', 'v', '3|0|ROOT'),\n",
        "  ('fast', 'adv', '4|3|JCT')],\n",
        " [('you', 'pro', '1|2|SUBJ'),\n",
        "  ('have', 'v', '2|0|ROOT'),\n",
        "  ('plenty', 'adv', '3|2|JCT'),\n",
        "  ('of', 'prep', '4|3|JCT'),\n",
        "  ('milk', 'n', '5|6|MOD'),\n",
        "  ('glass', 'n', '6|4|POBJ')],\n",
        " [('save', 'v', '1|0|ROOT'), ('it', 'pro', '2|1|OBJ')],\n",
        " [('do~not', 'mod~neg', '1|3|AUX'),\n",
        "  ('drink', 'v', '3|0|ROOT'),\n",
        "  ('it', 'pro', '4|3|OBJ'),\n",
        "  ('all', 'adv', '5|6|JCT'),\n",
        "  ('now', 'adv', '6|3|JCT')],\n",
        " [('you~be', 'pro~aux', '1|3|SUBJ'),\n",
        "  ('go-PRESP~to', 'part~inf', '3|0|ROOT'),\n",
        "  ('be', 'cop', '5|3|XCOMP'),\n",
        "  ('thirst-dn', 'adj', '6|5|PRED'),\n",
        "  ('when', 'conj', '7|9|LINK'),\n",
        "  ('you', 'pro', '8|9|SUBJ'),\n",
        "  ('finish', 'v', '9|5|CJCT')],\n",
        " [('xxx', ''),\n",
        "  ('everything', 'pro:indef', '1|0|INCROOT'),\n",
        "  ('Jen', 'n:prop', '3|1|APP')],\n",
        " [('cmon', 'co', '1|0|INCROOT')],\n",
        " [('xxx', '')],\n",
        " [('yes', 'co', '1|0|INCROOT')],\n",
        " [('oh', 'co', '1|4|COM'),\n",
        "  ('I', 'pro:sub', '3|4|SUBJ'),\n",
        "  ('go-PAST', 'v', '4|0|ROOT'),\n",
        "  ('xxx', '')],\n",
        " [('I', 'pro:sub', '1|3|SUBJ'),\n",
        "  ('be-PAST', 'aux', '2|3|AUX'),\n",
        "  ('think-PRESP', 'part', '3|0|ROOT'),\n",
        "  ('of', 'prep', '4|3|JCT'),\n",
        "  ('invite-PRESP', 'n:gerund', '5|4|POBJ'),\n",
        "  ('Andy', 'n:prop', '6|5|OBJ'),\n",
        "  ('to', 'inf', '7|8|INF'),\n",
        "  ('come', 'v', '8|6|XCOMP'),\n",
        "  ('with', 'prep', '9|8|JCT'),\n",
        "  ('with', 'prep', '10|9|POBJ'),\n",
        "  ('us', 'pro:obj', '11|10|POBJ')],\n",
        " [('good', 'adj', '1|0|INCROOT')],\n",
        " [('do', 'mod', '1|3|AUX'),\n",
        "  ('you', 'pro', '2|3|SUBJ'),\n",
        "  ('believe', 'v', '3|6|SUBJ'),\n",
        "  ('it~be', 'pro~aux', '4|3|OBJ'),\n",
        "  ('suppose-PAST', 'v', '6|0|ROOT'),\n",
        "  ('to', 'inf', '7|8|INF'),\n",
        "  ('be', 'cop', '8|6|XCOMP'),\n",
        "  ('eight-dn', 'adj', '9|8|PRED'),\n",
        "  ('five', 'det:num', '10|9|OBJ'),\n",
        "  ('or', 'coord', '11|10|CONJ'),\n",
        "  ('ninety', 'det:num', '12|13|QUANT'),\n",
        "  ('tomorrow', 'adv:tem', '13|11|COORD')],\n",
        " [('do', 'mod', '1|3|AUX'),\n",
        "  ('you', 'pro', '2|3|SUBJ'),\n",
        "  ('have', 'v', '3|0|ROOT'),\n",
        "  ('xxx', '')],\n",
        " [('xxx', '')],\n",
        " [('I', 'pro:sub', '1|4|SUBJ'),\n",
        "  ('do-PAST~not', 'mod~neg', '2|4|AUX'),\n",
        "  ('hear', 'v', '4|0|ROOT'),\n",
        "  ('you', 'pro', '5|4|OBJ')],\n",
        " [('xxx', ''), ('begin', 'v', '1|0|ROOT'), ('what', 'pro:wh', '2|1|OBJ')],\n",
        " [('say', 'v', '1|0|ROOT'),\n",
        "  ('that', 'rel', '2|1|OBJ'),\n",
        "  ('again', 'adv', '3|2|JCT')],\n",
        " [('um', ''),\n",
        "  ('when', 'conj', '1|3|LINK'),\n",
        "  ('somebody~be', 'pro:indef~cop', '2|3|SUBJ'),\n",
        "  ('born', 'adj', '4|3|PRED'),\n",
        "  ('they~be', 'pro:sub~aux', '5|8|SUBJ'),\n",
        "  ('real-dadj', 'adv', '7|8|JCT'),\n",
        "  ('little', 'adj', '8|3|PRED')],\n",
        " [('say', 'v', '1|0|ROOT'),\n",
        "  ('they~be', 'pro:sub~cop', '3|4|SUBJ'),\n",
        "  ('like', 'prep', '5|4|JCT'),\n",
        "  ('one', 'det:num', '6|7|QUANT'),\n",
        "  ('day', 'n', '7|5|POBJ'),\n",
        "  ('old', 'adj', '8|11|MOD'),\n",
        "  ('one', 'det:num', '10|11|QUANT'),\n",
        "  ('day', 'n', '11|4|PRED')],\n",
        " [('not', 'neg', '1|2|SUBJ'),\n",
        "  ('even', 'v', '2|0|ROOT'),\n",
        "  ('one', 'det:num', '3|4|QUANT'),\n",
        "  ('year', 'n', '4|2|OBJ'),\n",
        "  ('old', 'adj', '5|2|JCT')],\n",
        " [('her', 'pro:poss', '1|2|MOD'),\n",
        "  ('birth', 'n', '2|4|SUBJ'),\n",
        "  ('be-PAST', 'aux', '3|4|AUX'),\n",
        "  ('one', 'pro:indef', '4|0|ROOT')],\n",
        " [('hum', 'n', '1|0|INCROOT')],\n",
        " [('when', 'conj', '1|5|LINK'),\n",
        "  ('name', 'n', '2|5|SUBJ'),\n",
        "  ('have-3S', 'aux', '3|5|AUX'),\n",
        "  ('her', 'pro:poss', '4|5|MOD'),\n",
        "  ('baby', 'n', '5|8|LINK'),\n",
        "  ('it~be', 'pro~cop', '7|8|SUBJ'),\n",
        "  ('also', 'adv', '9|8|JCT'),\n",
        "  ('possible', 'adj', '10|13|JCT'),\n",
        "  ('you', 'pro', '11|13|SUBJ'),\n",
        "  ('can', 'mod', '12|13|AUX'),\n",
        "  ('go', 'v', '13|8|PRED'),\n",
        "  ('and', 'coord', '14|13|CONJ'),\n",
        "  ('see', 'v', '15|14|COORD'),\n",
        "  ('it', 'pro', '16|15|OBJ')],\n",
        " [('see', 'v', '1|0|ROOT'),\n",
        "  ('how', 'adv:wh', '2|5|LINK'),\n",
        "  ('tiny', 'adj', '3|5|JCT'),\n",
        "  ('it', 'pro', '4|5|SUBJ'),\n",
        "  ('be-3S', 'cop', '5|1|COMP')],\n",
        " [('it~be', 'pro~aux', '1|2|SUBJ'),\n",
        "  ('about', 'prep', '3|2|JCT'),\n",
        "  ('this', 'det', '4|5|DET'),\n",
        "  ('big', 'adj', '5|3|POBJ')],\n",
        " [('little', 'adj', '1|3|MOD'),\n",
        "  ('tiny', 'adj', '2|3|MOD'),\n",
        "  ('thing', 'n', '3|0|INCROOT')],\n",
        " [('big', 'adj', '1|0|INCROOT')],\n",
        " [('say', 'v', '1|0|ROOT'),\n",
        "  ('if', 'conj', '3|7|LINK'),\n",
        "  ('she', 'pro:sub', '4|7|SUBJ'),\n",
        "  ('have-3S', 'aux', '5|7|AUX'),\n",
        "  ('it', 'pro', '6|7|SUBJ'),\n",
        "  ('Wednesday', 'n:prop', '7|1|CJCT'),\n",
        "  ('Thursday', 'n:prop', '8|7|APP')],\n",
        " [('xxx', '')],\n",
        " [],\n",
        " [('Friday', 'n:prop', '1|0|INCROOT'), ('Saturday', 'n:prop', '3|1|APP')],\n",
        " [('she~will', 'pro:sub~mod', '1|3|SUBJ'),\n",
        "  ('come', 'v', '3|0|ROOT'),\n",
        "  ('home', 'adv', '4|3|JCT'),\n",
        "  ('Saturday', 'n:prop', '5|6|MOD'),\n",
        "  ('morning', 'n', '6|3|OBJ')],\n",
        " [('she', 'pro:sub', '1|2|SUBJ'),\n",
        "  ('come-3S', 'v', '2|0|ROOT'),\n",
        "  ('home', 'n', '3|2|OBJ'),\n",
        "  ('Sunday', 'n:prop', '4|2|JCT')],\n",
        " [('Sunday~be', 'n:prop~aux', '1|4|SUBJ'),\n",
        "  ('the', 'art', '3|4|MOD'),\n",
        "  ('fourth', 'n', '4|0|INCROOT')],\n",
        " [('oh', 'co', '1|0|INCROOT'), ('xxx', '')],\n",
        " [('xxx', '')],\n",
        " [('well', 'co', '1|5|COM'),\n",
        "  ('we~will', 'pro:sub~mod', '3|5|SUBJ'),\n",
        "  ('go', 'v', '5|0|ROOT'),\n",
        "  ('down', 'adv', '6|5|JCT'),\n",
        "  ('Saturday', 'n:prop', '7|5|JCT'),\n",
        "  ('and', 'coord', '8|7|CONJ'),\n",
        "  ('see', 'v', '9|8|COORD'),\n",
        "  ('her', 'pro:obj', '10|9|OBJ')],\n",
        " [('xxx', '')],\n",
        " [('yeah', 'co', '1|0|INCROOT')],\n",
        " [('but', 'conj', '1|4|LINK'),\n",
        "  ('if', 'conj', '2|4|LINK'),\n",
        "  ('I', 'pro:sub', '3|4|SUBJ'),\n",
        "  ('have', 'v', '4|0|ROOT'),\n",
        "  ('her', 'pro:obj', '5|4|OBJ'),\n",
        "  ('child-PL', 'n', '6|4|OBJ'),\n",
        "  ('child-PL', 'n', '6|4|OBJ'),\n",
        "  ('what', 'det:wh', '7|10|SUBJ'),\n",
        "  ('be-PRES', 'aux', '8|10|AUX'),\n",
        "  ('we', 'pro:sub', '9|10|SUBJ'),\n",
        "  ('go-PRESP~to', 'part~inf', '10|6|XMOD'),\n",
        "  ('do', 'v', '12|10|XCOMP'),\n",
        "  ('on', 'prep', '13|12|JCT'),\n",
        "  ('the', 'art', '14|17|LINK'),\n",
        "  ('other', 'qn', '15|16|QUANT'),\n",
        "  ('thing-PL', 'n', '16|17|SUBJ'),\n",
        "  ('plan-PAST', 'v', '17|13|POBJ'),\n",
        "  ('for', 'prep', '18|17|JCT'),\n",
        "  ('the', 'art', '19|20|MOD'),\n",
        "  ('day', 'n', '20|18|POBJ')],\n",
        " [('if', 'conj', '1|3|LINK'),\n",
        "  ('she', 'pro:sub', '2|3|SUBJ'),\n",
        "  ('come-3S', 'v', '3|0|ROOT'),\n",
        "  ('home', 'n', '4|3|JCT'),\n",
        "  ('Sunday', 'n:prop', '5|3|OBJ'),\n",
        "  ('she~will', 'pro:sub~mod', '6|8|SUBJ'),\n",
        "  ('want', 'v', '8|5|COMP'),\n",
        "  ('to', 'inf', '9|10|INF'),\n",
        "  ('see', 'v', '10|8|XCOMP'),\n",
        "  ('them', 'pro:obj', '11|10|OBJ'),\n",
        "  ('and', 'coord', '12|10|OBJ'),\n",
        "  ('xxx', '')],\n",
        " [('xxx', ''),\n",
        "  ('the', 'art', '1|3|LINK'),\n",
        "  ('last', 'adj', '2|3|MOD'),\n",
        "  ('one', 'pro:indef', '3|0|INCROOT')],\n",
        " [('right', 'co', '1|0|INCROOT')],\n",
        " [('say', 'v', '1|0|ROOT'),\n",
        "  ('we~will', 'pro:sub~mod', '3|5|SUBJ'),\n",
        "  ('stop', 'v', '5|1|COMP'),\n",
        "  ('off', 'adv', '6|5|JCT'),\n",
        "  ('xxx', '')],\n",
        " [('you', 'pro', '1|2|SUBJ'),\n",
        "  ('eat-PAST', 'v', '2|0|ROOT'),\n",
        "  ('it', 'pro', '3|2|OBJ'),\n",
        "  ('all', 'adv', '4|2|JCT')],\n",
        " [('you', 'pro', '1|2|SUBJ'),\n",
        "  ('want', 'v', '2|0|ROOT'),\n",
        "  ('some', 'qn', '3|5|QUANT'),\n",
        "  ('more', 'qn', '4|5|QUANT'),\n",
        "  ('pea-PL', 'n', '5|2|OBJ'),\n",
        "  ('and', 'coord', '6|5|CONJ'),\n",
        "  ('rice', 'n', '7|6|COORD')],\n",
        " [('some', 'qn', '1|2|QUANT'), ('meat', 'n', '2|0|INCROOT')],\n",
        " [('try', 'v', '1|0|INCROOT'),\n",
        "  ('some', 'qn', '2|4|QUANT'),\n",
        "  ('more', 'qn', '3|4|QUANT'),\n",
        "  ('pea-PL', 'n', '4|1|OBJ')],\n",
        " [('pea-PL', 'n', '1|2|SUBJ'),\n",
        "  ('be-PRES', 'cop', '2|0|ROOT'),\n",
        "  ('good', 'adj', '3|2|PRED'),\n",
        "  ('for', 'prep', '4|2|JCT'),\n",
        "  ('you', 'pro', '5|4|POBJ')],\n",
        " [('do', 'mod', '1|3|AUX'),\n",
        "  ('you', 'pro', '2|3|SUBJ'),\n",
        "  ('want', 'v', '3|0|ROOT'),\n",
        "  ('any', 'qn', '4|5|QUANT'),\n",
        "  ('rice', 'n', '5|3|OBJ')],\n",
        " [('be-3S', 'cop', '1|0|ROOT'),\n",
        "  ('that', 'pro:dem', '2|1|PRED'),\n",
        "  ('enough', 'adv', '3|2|JCT')],\n",
        " [('xxx', '')],\n",
        " [('he', 'pro:sub', '1|2|SUBJ'),\n",
        "  ('say-PAST', 'v', '2|0|ROOT'),\n",
        "  ('she', 'pro:sub', '3|4|SUBJ'),\n",
        "  ('be-PAST', 'cop', '4|2|COMP'),\n",
        "  ('ready', 'adj', '5|4|PRED'),\n",
        "  ('to', 'inf', '6|7|INF'),\n",
        "  ('go', 'v', '7|4|XCOMP'),\n",
        "  ('any', 'qn', '8|9|QUANT'),\n",
        "  ('minute', 'n', '9|7|OBJ')],\n",
        " [('hm', 'co', '1|0|INCROOT')],\n",
        " [('if', 'conj', '1|3|LINK'),\n",
        "  ('we', 'pro:sub', '2|3|SUBJ'),\n",
        "  ('get', 'v', '3|0|ROOT'),\n",
        "  ('a', 'art', '4|3|OBJ'),\n",
        "  ('call', 'n', '5|4|OBJ'),\n",
        "  ('we', 'pro:sub', '7|8|SUBJ'),\n",
        "  ('know', 'v', '8|5|CMOD'),\n",
        "  ('the', 'art', '9|10|MOD'),\n",
        "  ('message', 'n', '10|8|OBJ')],\n",
        " [('ha', '')],\n",
        " [('well', 'co', '1|0|INCROOT')],\n",
        " [('should', 'mod', '1|3|AUX'),\n",
        "  ('we', 'pro:sub', '2|3|SUBJ'),\n",
        "  ('set-ZERO', 'v', '3|0|ROOT'),\n",
        "  ('the', 'art', '4|3|OBJ'),\n",
        "  ('crib', 'n', '5|4|OBJ'),\n",
        "  ('up', 'adv', '6|5|NJCT'),\n",
        "  ('or', 'coord', '8|5|CONJ'),\n",
        "  ('let-ZERO', 'v', '9|8|COORD'),\n",
        "  ('him', 'pro:obj', '10|9|OBJ'),\n",
        "  ('sleep', 'v', '11|9|OBJ'),\n",
        "  ('in', 'prep', '12|11|JCT'),\n",
        "  ('the', 'art', '13|14|MOD'),\n",
        "  ('play', 'n', '14|12|POBJ')],\n",
        " [('xxx', '')],\n",
        " [('can', 'mod', '1|3|AUX'),\n",
        "  ('he', 'pro:sub', '2|3|SUBJ'),\n",
        "  ('sleep', 'v', '3|0|ROOT'),\n",
        "  ('in', 'prep', '4|3|JCT'),\n",
        "  ('the', 'art', '5|6|MOD'),\n",
        "  ('play', 'n', '6|4|POBJ')],\n",
        " [('where', 'adv:wh', '1|2|LINK'),\n",
        "  ('be-3S', 'cop', '2|0|ROOT'),\n",
        "  ('the', 'art', '3|4|MOD'),\n",
        "  ('play', 'n', '4|2|PRED')],\n",
        " [('xxx', '')],\n",
        " [('xxx', '')],\n",
        " [('she', 'pro:sub', '1|3|SUBJ'),\n",
        "  ('has_to', 'mod:aux', '2|3|AUX'),\n",
        "  ('be', 'cop', '3|0|ROOT'),\n",
        "  ('xxx', '')],\n",
        " [('where~be', 'adv:wh~cop', '1|2|LINK'),\n",
        "  ('our', 'pro:poss', '3|4|MOD'),\n",
        "  ('play', 'n', '4|2|PRED')],\n",
        " [],\n",
        " [('in', 'prep', '1|0|INCROOT'),\n",
        "  ('the', 'art', '2|4|MOD'),\n",
        "  ('hall', 'n', '3|4|MOD'),\n",
        "  ('closet', 'n', '4|1|POBJ')],\n",
        " [('want', 'v', '1|0|ROOT'),\n",
        "  ('me', 'pro:obj', '2|1|POBJ'),\n",
        "  ('to', 'inf', '3|4|INF'),\n",
        "  ('set-ZERO', 'v', '4|1|XCOMP'),\n",
        "  ('it', 'pro', '5|4|OBJ'),\n",
        "  ('up', 'adv', '6|4|JCT')],\n",
        " [('you~be', 'pro~aux', '1|2|SUBJ'),\n",
        "  ('not', 'neg', '3|2|NEG'),\n",
        "  ('too', 'adv', '4|5|JCT'),\n",
        "  ('excite-PASTP', 'part', '5|9|LINK'),\n",
        "  ('about', 'adv', '6|5|JCT'),\n",
        "  ('let-PRESP', 'part', '7|8|MOD'),\n",
        "  ('him', 'pro:obj', '8|9|SUBJ'),\n",
        "  ('sleep', 'v', '9|0|ROOT'),\n",
        "  ('in', 'prep', '10|9|JCT'),\n",
        "  ('the', 'art', '11|12|MOD'),\n",
        "  ('play', 'n', '12|10|POBJ')],\n",
        " [('um', '')],\n",
        " [('hum', 'n', '1|0|INCROOT')],\n",
        " [('hurray', 'co', '1|0|INCROOT')],\n",
        " [('pumpkin', 'n', '1|4|LINK'),\n",
        "  ('you', 'pro', '3|4|SUBJ'),\n",
        "  ('want', 'v', '4|0|ROOT'),\n",
        "  ('some', 'qn', '5|7|QUANT'),\n",
        "  ('more', 'qn', '6|7|QUANT'),\n",
        "  ('pea-PL', 'n', '7|4|OBJ'),\n",
        "  ('too', 'post', '9|7|PQ')],\n",
        " [('hum', 'n', '1|0|INCROOT')],\n",
        " [('rice', 'n', '1|0|INCROOT')],\n",
        " [('want', 'v', '1|0|ROOT'),\n",
        "  ('some', 'qn', '2|3|QUANT'),\n",
        "  ('rice', 'n', '3|1|OBJ')],\n",
        " [('pea-PL', 'n', '1|0|INCROOT'),\n",
        "  ('and', 'coord', '2|1|CONJ'),\n",
        "  ('rice', 'n', '3|2|COORD')],\n",
        " [('want', 'v', '1|0|ROOT'),\n",
        "  ('some', 'qn', '2|3|QUANT'),\n",
        "  ('rice', 'n', '3|1|OBJ')],\n",
        " [('pea-PL', 'n', '1|0|INCROOT'),\n",
        "  ('Jennifer', 'n:prop', '3|1|XMOD'),\n",
        "  ('too', 'post', '4|3|PQ')],\n",
        " [('and', 'coord', '1|0|INCROOT'), ('pea-PL', 'n', '2|1|COORD')],\n",
        " [('want', 'v', '1|0|ROOT'),\n",
        "  ('some', 'qn', '2|3|QUANT'),\n",
        "  ('rice', 'n', '3|1|OBJ'),\n",
        "  ('with', 'prep', '4|3|NJCT'),\n",
        "  ('it', 'pro', '5|4|POBJ')],\n",
        " [('do', 'mod', '1|3|AUX'),\n",
        "  ('you', 'pro', '2|3|SUBJ'),\n",
        "  ('want', 'v', '3|0|ROOT'),\n",
        "  ('any', 'qn', '4|3|OBJ')],\n",
        " [('I', 'pro:sub', '1|2|SUBJ'),\n",
        "  ('have', 'v', '2|0|ROOT'),\n",
        "  ('some', 'qn', '3|2|OBJ')],\n",
        " [('xxx', '')],\n",
        " [('what~be', 'pro:wh~cop', '1|2|SUBJ'), ('up', 'prep', '3|2|PRED')],\n",
        " [('I', 'pro:sub', '1|2|SUBJ'), ('say-PAST', 'v', '2|0|ROOT'), ('xxx', '')],\n",
        " [('more', 'pro:indef', '1|0|INCROOT')],\n",
        " [('do', 'mod', '1|3|AUX'),\n",
        "  ('you', 'pro', '2|3|SUBJ'),\n",
        "  ('want', 'v', '3|0|ROOT'),\n",
        "  ('a', 'art', '4|3|OBJ'),\n",
        "  ('little', 'adj', '5|6|MOD'),\n",
        "  ('bit', 'n', '6|9|SUBJ'),\n",
        "  ('of', 'prep', '7|9|JCT'),\n",
        "  ('rice', 'n', '8|9|SUBJ'),\n",
        "  ('mix-PAST', 'v', '9|4|CJCT'),\n",
        "  ('with', 'prep', '10|9|JCT'),\n",
        "  ('it', 'pro', '11|10|POBJ')],\n",
        " [('pea-PL', 'n', '1|0|INCROOT'), ('please', 'co', '3|1|COM')],\n",
        " [('sound-PL', 'n', '1|0|INCROOT'),\n",
        "  ('like', 'prep', '2|1|JCT'),\n",
        "  ('you~be', 'pro~aux', '3|5|SUBJ'),\n",
        "  ('say-PRESP', 'part', '5|2|POBJ'),\n",
        "  ('xxx', '')],\n",
        " [],\n",
        " [],\n",
        " [('eat', 'v', '1|0|ROOT'),\n",
        "  ('it', 'pro', '2|1|OBJ'),\n",
        "  ('quick', 'adv', '3|1|JCT')],\n",
        " [('eat', 'v', '1|0|ROOT'), ('it', 'pro', '2|1|OBJ')],\n",
        " [('quick', 'adv', '1|0|INCROOT')],\n",
        " [('let-ZERO', 'v', '1|0|ROOT'),\n",
        "  ('me', 'pro:obj', '2|1|OBJ'),\n",
        "  ('xxx', ''),\n",
        "  ('that', 'det', '3|5|DET'),\n",
        "  ('last', 'adj', '4|5|MOD'),\n",
        "  ('piece', 'n', '5|1|OBJ'),\n",
        "  ('of', 'prep', '6|5|NJCT'),\n",
        "  ('xxx', '')],\n",
        " [('xxx', '')],\n",
        " [('xxx', '')],\n",
        " [('will-COND', 'mod', '1|2|AUX'),\n",
        "  ('someone', 'pro:indef', '2|0|ROOT'),\n",
        "  ('like', 'prep', '3|2|JCT'),\n",
        "  ('another', 'qn', '4|5|QUANT'),\n",
        "  ('piece', 'n', '5|3|POBJ'),\n",
        "  ('of', 'prep', '6|5|NJCT'),\n",
        "  ('meat', 'n', '7|6|POBJ')],\n",
        " [('anyone', 'pro:indef', '1|0|INCROOT')],\n",
        " [('Bob', 'n:prop', '1|0|INCROOT')],\n",
        " [('Jen', 'n:prop', '1|0|INCROOT')],\n",
        " [('can', ''),\n",
        "  ('can', 'mod', '1|3|AUX'),\n",
        "  ('you', 'pro', '2|3|SUBJ'),\n",
        "  ('eat', 'v', '3|0|ROOT'),\n",
        "  ('the', 'art', '4|3|OBJ'),\n",
        "  ('other', 'qn', '5|6|QUANT'),\n",
        "  ('by', 'prep', '6|4|JCT'),\n",
        "  ('yourself', 'pro:refl', '7|6|POBJ')],\n",
        " [('ha', '')],\n",
        " [('open', 'v', '1|0|ROOT'),\n",
        "  ('your', 'pro:poss', '2|3|MOD'),\n",
        "  ('mouth', 'n', '3|1|OBJ')],\n",
        " [('you', 'pro', '1|2|SUBJ'),\n",
        "  ('open', 'v', '2|0|ROOT'),\n",
        "  ('yours', 'pro:poss', '3|2|OBJ')],\n",
        " [('well', 'co', '1|4|LINK'),\n",
        "  ('I', 'pro:sub', '3|4|SUBJ'),\n",
        "  ('think', 'v', '4|0|ROOT'),\n",
        "  ('I~will', 'pro:sub~mod', '5|7|SUBJ'),\n",
        "  ('stew', 'v', '7|4|COMP'),\n",
        "  ('the', 'art', '8|7|OBJ'),\n",
        "  ('blueberry-PL', 'n', '9|8|XMOD'),\n",
        "  ('now', 'adv', '10|9|NJCT')],\n",
        " [('xxx', '')],\n",
        " [('huh', 'co', '1|0|INCROOT')],\n",
        " [('xxx', '')],\n",
        " [('xxx', '')],\n",
        " [('xxx', '')],\n",
        " [('cause', 'v', '1|0|ROOT'),\n",
        "  ('the', 'art', '2|1|OBJ'),\n",
        "  ('rest', 'n', '3|6|SUBJ'),\n",
        "  ('be-3S', 'aux', '4|6|AUX'),\n",
        "  ('all', 'adv', '5|6|JCT'),\n",
        "  ('do-PASTP', 'part', '6|2|MOD')],\n",
        " [('right', 'co', '1|0|INCROOT')],\n",
        " [('hurry', 'n', '1|0|INCROOT'), ('up', 'adv', '2|1|JCT')],\n",
        " [('very', 'adv', '1|2|JCT'), ('good', 'adj', '2|0|ROOT')],\n",
        " [('okay', 'co', '1|0|INCROOT')],\n",
        " [('who', 'pro:wh', '1|2|SUBJ'),\n",
        "  ('want-3S', 'v', '2|0|ROOT'),\n",
        "  ('cheese', 'n', '3|2|OBJ')],\n",
        " [('who', 'pro:wh', '1|0|INCROOT'), ('else', 'post', '2|1|PQ')],\n",
        " [('xxx', ''), ('xxx', '')],\n",
        " [('who', 'pro:wh', '1|0|INCROOT'), ('else', 'post', '2|1|PQ')],\n",
        " [('do', 'mod', '1|3|AUX'),\n",
        "  ('you', 'pro', '2|3|SUBJ'),\n",
        "  ('want', 'v', '3|0|ROOT'),\n",
        "  ('any', 'qn', '4|3|OBJ'),\n",
        "  ('xxx', '')],\n",
        " [('yep', 'co', '1|0|INCROOT')],\n",
        " [('no', 'co', '1|0|INCROOT')],\n",
        " [('you', 'pro', '1|2|SUBJ'),\n",
        "  ('can~not', 'mod~neg', '2|4|AUX'),\n",
        "  ('have', 'v', '4|0|ROOT'),\n",
        "  ('two', 'det:num', '5|6|QUANT'),\n",
        "  ('hand-PL', 'n', '6|4|OBJ'),\n",
        "  ('up', 'prep', '7|4|JCT')],\n",
        " [('just', 'adv', '1|2|JCT'), ('one', 'pro:indef', '2|0|ROOT')],\n",
        " [('wha', ''),\n",
        "  ('what', 'pro:wh', '1|3|LINK'),\n",
        "  ('do-3S', 'mod', '2|3|AUX'),\n",
        "  ('that', 'pro:dem', '3|0|ROOT'),\n",
        "  ('mean', 'adj', '4|3|PRED')],\n",
        " [('you', 'pro', '1|2|SUBJ'),\n",
        "  ('want', 'v', '2|0|ROOT'),\n",
        "  ('two', 'det:num', '3|4|QUANT'),\n",
        "  ('piece-PL', 'n', '4|2|OBJ')],\n",
        " [('oh', 'co', '1|0|INCROOT')],\n",
        " [('well', 'co', '1|4|COM'),\n",
        "  ('that', 'rel', '3|4|LINK'),\n",
        "  ('be-PAST', 'cop', '4|0|ROOT'),\n",
        "  ('a', 'art', '5|8|MOD'),\n",
        "  ('pretty', 'adj', '6|8|MOD'),\n",
        "  ('good', 'adj', '7|8|MOD'),\n",
        "  ('try', 'v', '8|4|PRED')],\n",
        " [('everything~be', 'pro:indef~aux', '1|3|SUBJ'),\n",
        "  ('go-PASTP', 'part', '3|0|ROOT')],\n",
        " [('Jennifer', 'n:prop', '1|3|SUBJ'),\n",
        "  ('do', 'v', '3|0|ROOT'),\n",
        "  ('you', 'pro', '4|3|OBJ'),\n",
        "  ('want', 'v', '5|3|COMP'),\n",
        "  ('some', 'qn', '6|8|QUANT'),\n",
        "  ('more', 'qn', '7|8|QUANT'),\n",
        "  ('pea-PL', 'n', '8|5|OBJ')],\n",
        " [('there~be', 'pro:exist~cop', '1|2|SUBJ'),\n",
        "  ('only', 'adv', '3|4|JCT'),\n",
        "  ('a', 'art', '4|7|JCT'),\n",
        "  ('tiny', 'adj', '5|6|MOD'),\n",
        "  ('bit', 'n', '6|7|SUBJ'),\n",
        "  ('leave-PAST', 'v', '7|2|PRED')],\n",
        " [('do', 'mod', '1|3|AUX'),\n",
        "  ('you', 'pro', '2|3|SUBJ'),\n",
        "  ('want', 'v', '3|0|ROOT'),\n",
        "  ('them', 'pro:obj', '4|3|OBJ')],\n",
        " [('look_it', 'co', '1|0|INCROOT')],\n",
        " [('look_it', 'co', '1|0|INCROOT')],\n",
        " [('that~be', 'pro:dem~cop', '1|2|SUBJ'),\n",
        "  ('all', 'pro:indef', '3|6|JCT'),\n",
        "  ('that~be', 'pro:dem~aux', '4|6|SUBJ'),\n",
        "  ('leave-PAST', 'v', '6|2|PRED')],\n",
        " [('want', 'v', '1|0|ROOT'), ('them', 'pro:obj', '2|1|OBJ')],\n",
        " [('xxx', '')],\n",
        " [('do', 'mod', '1|3|AUX'),\n",
        "  ('you', 'pro', '2|3|SUBJ'),\n",
        "  ('want', 'v', '3|0|ROOT'),\n",
        "  ('them', 'pro:obj', '4|3|OBJ')],\n",
        " [('you', 'pro', '1|2|SUBJ'),\n",
        "  ('do-PAST', 'v', '2|0|ROOT'),\n",
        "  ('too', 'post', '3|2|PQ')],\n",
        " [('xxx', '')],\n",
        " [('never', 'adv', '1|2|JCT'), ('saw', 'n', '2|0|INCROOT'), ('xxx', '')],\n",
        " [('you~will', 'pro~mod', '1|4|SUBJ'),\n",
        "  ('have_to', 'mod:aux', '3|4|AUX'),\n",
        "  ('wait', 'v', '4|0|ROOT'),\n",
        "  ('xxx', '')],\n",
        " [('xxx', ''),\n",
        "  ('have', 'v', '1|0|ROOT'),\n",
        "  ('cook', 'n', '2|1|OBJ'),\n",
        "  ('the', 'art', '3|1|PUNCT'),\n",
        "  ('I', 'pro:sub', '4|3|INCROOT')],\n",
        " [('the', 'art', '1|0|INCROOT')],\n",
        " [('blueberry-PL', 'n', '1|0|INCROOT')],\n",
        " [('they', 'pro:sub', '1|3|SUBJ'),\n",
        "  ('can', 'mod', '2|3|AUX'),\n",
        "  ('sit', 'v', '3|0|ROOT'),\n",
        "  ('here', 'adv', '4|3|JCT'),\n",
        "  ('and', 'coord', '5|3|CONJ'),\n",
        "  ('wait', 'v', '6|5|COORD'),\n",
        "  ('for', 'prep', '7|6|JCT'),\n",
        "  ('a', 'art', '8|9|MOD'),\n",
        "  ('minute', 'n', '9|7|POBJ')],\n",
        " [('maybe', 'adv', '1|3|JCT'),\n",
        "  ('you', 'pro', '2|3|SUBJ'),\n",
        "  ('guy-PL', 'n', '3|5|SUBJ'),\n",
        "  ('can', 'mod', '4|5|AUX'),\n",
        "  ('tell', 'v', '5|0|ROOT'),\n",
        "  ('me', 'pro:obj', '6|5|OBJ'),\n",
        "  ('what', 'pro:wh', '7|9|LINK'),\n",
        "  ('you', 'pro', '8|9|SUBJ'),\n",
        "  ('do-PAST', 'v', '9|5|COMP'),\n",
        "  ('today', 'adv:tem', '10|9|OBJ'),\n",
        "  ('while', 'conj', '12|14|LINK'),\n",
        "  ('we', 'pro:sub', '13|14|SUBJ'),\n",
        "  ('wait', 'v', '14|10|CJCT')],\n",
        " [('do~not', 'mod~neg', '1|3|AUX'),\n",
        "  ('say', 'v', '3|0|ROOT'),\n",
        "  ('nothing', 'pro:indef', '4|3|OBJ'),\n",
        "  ('either', 'adv', '6|3|JCT')],\n",
        " [('what~genmod', 'pro:wh~mod', '1|4|LINK'),\n",
        "  ('you', 'pro', '3|4|SUBJ'),\n",
        "  ('do', 'v', '4|0|ROOT')],\n",
        " [('do~not', 'mod~neg', '1|3|AUX'),\n",
        "  ('say', 'v', '3|0|ROOT'),\n",
        "  ('nothing', 'pro:indef', '4|3|OBJ')],\n",
        " [('why', 'adv:wh', '1|5|LINK'),\n",
        "  ('do-PAST~not', 'mod~neg', '2|5|AUX'),\n",
        "  ('you', 'pro', '4|5|SUBJ'),\n",
        "  ('go', 'v', '5|0|ROOT'),\n",
        "  ('swim-PRESP', 'part', '6|5|OBJ')],\n",
        " [('oh', 'co', '1|3|COM'), ('yeah', 'co', '3|0|INCROOT')],\n",
        " [('wa', ''),\n",
        "  ('be-PAST', 'cop', '1|0|ROOT'),\n",
        "  ('Jenny', 'n:prop', '2|1|PRED'),\n",
        "  ('with', 'prep', '3|2|JCT'),\n",
        "  ('you', 'pro', '4|3|POBJ')],\n",
        " [('just', 'adv', '1|3|JCT'),\n",
        "  ('what', 'pro:wh', '2|3|SUBJ'),\n",
        "  ('be-PAST', 'cop', '3|0|ROOT'),\n",
        "  ('you', 'pro', '4|3|PRED'),\n",
        "  ('xxx', '')],\n",
        " [('and', 'coord', '1|5|LINK'),\n",
        "  ('what', 'pro:wh', '2|5|LINK'),\n",
        "  ('do-PAST', 'mod', '3|5|AUX'),\n",
        "  ('she', 'pro:sub', '4|5|SUBJ'),\n",
        "  ('do', 'v', '5|0|ROOT'),\n",
        "  ('with', 'prep', '6|5|JCT'),\n",
        "  ('it', 'pro', '7|6|POBJ')],\n",
        " [('what', 'pro:wh', '1|4|LINK'),\n",
        "  ('do-PAST', 'mod', '2|4|AUX'),\n",
        "  ('she', 'pro:sub', '3|4|SUBJ'),\n",
        "  ('do', 'v', '4|0|ROOT'),\n",
        "  ('when', 'conj', '5|7|LINK'),\n",
        "  ('she', 'pro:sub', '6|7|SUBJ'),\n",
        "  ('sit-PAST', 'v', '7|4|CJCT'),\n",
        "  ('in', 'prep', '8|7|JCT'),\n",
        "  ('the', 'art', '9|10|MOD'),\n",
        "  ('water', 'n', '10|8|POBJ')],\n",
        " [('thought', 'n', '1|4|LINK'),\n",
        "  ('she~genmod', 'pro:sub~mod', '2|4|SUBJ'),\n",
        "  ('xxx', ''),\n",
        "  ('down', 'adv', '4|0|ROOT'),\n",
        "  ('in', 'prep', '5|4|JCT'),\n",
        "  ('swim-PRESP', 'n:gerund', '6|5|POBJ')],\n",
        " [('good', 'adj', '1|0|INCROOT')],\n",
        " [('do', 'mod', '1|3|AUX'),\n",
        "  ('you', 'pro', '2|3|SUBJ'),\n",
        "  ('want', 'v', '3|0|ROOT'),\n",
        "  ('me', 'pro:obj', '4|3|OBJ'),\n",
        "  ('to', 'inf', '5|6|INF'),\n",
        "  ('teach', 'v', '6|3|XCOMP'),\n",
        "  ('you', 'pro', '7|6|OBJ'),\n",
        "  ('too', 'post', '8|7|PQ')],\n",
        " [('how', 'adv:wh', '1|3|LINK'),\n",
        "  ('to', 'inf', '2|3|INF'),\n",
        "  ('kick', 'v', '3|0|ROOT')],\n",
        " [('it', 'pro', '1|2|SUBJ'),\n",
        "  ('take-3S', 'v', '2|0|ROOT'),\n",
        "  ('quite', 'adv', '3|2|JCT'),\n",
        "  ('a', 'art', '4|2|COMP'),\n",
        "  ('few', 'qn', '5|6|QUANT'),\n",
        "  ('lesson-PL', 'n', '6|4|OBJ')],\n",
        " [('you', 'pro', '1|3|SUBJ'),\n",
        "  ('have_to', 'mod:aux', '2|3|AUX'),\n",
        "  ('take', 'v', '3|0|ROOT'),\n",
        "  ('some', 'qn', '4|3|OBJ')],\n",
        " [('more', 'qn', '1|2|QUANT'),\n",
        "  ('lesson-PL', 'n', '2|0|INCROOT'),\n",
        "  ('from', 'prep', '3|2|NJCT'),\n",
        "  ('Mommy', 'n:prop', '4|3|POBJ'),\n",
        "  ('too', 'post', '5|4|PQ')],\n",
        " [('before', 'conj', '1|3|LINK'),\n",
        "  ('you', 'pro', '2|3|SUBJ'),\n",
        "  ('get', 'v', '3|0|ROOT'),\n",
        "  ('to', 'prep', '4|3|JCT'),\n",
        "  ('be', ''),\n",
        "  ('to', 'inf', '5|6|INF'),\n",
        "  ('be', 'cop', '6|4|POBJ'),\n",
        "  ('a', 'art', '7|9|MOD'),\n",
        "  ('grand', 'adj', '8|9|MOD'),\n",
        "  ('swim-dv', 'n', '9|6|PRED')],\n",
        " [('we~be', 'pro:sub~aux', '1|3|SUBJ'),\n",
        "  ('go-PRESP~to', 'part~inf', '3|0|ROOT'),\n",
        "  ('cook', 'v', '5|3|XCOMP'),\n",
        "  ('them', 'pro:obj', '6|5|OBJ'),\n",
        "  ('so', 'conj', '7|10|LINK'),\n",
        "  ('we', 'pro:sub', '8|10|SUBJ'),\n",
        "  ('can', 'mod', '9|10|AUX'),\n",
        "  ('put-ZERO', 'v', '10|5|CJCT'),\n",
        "  ('them', 'pro:obj', '11|10|OBJ'),\n",
        "  ('on', 'adv', '12|10|JCT')],\n",
        " [('the', 'art', '1|2|MOD'), ('cheese', 'n', '2|0|INCROOT')],\n",
        " [('Jen', 'n:prop', '1|5|LINK'),\n",
        "  ('we~be', 'pro:sub~aux', '3|5|SUBJ'),\n",
        "  ('go-PRESP~to', 'part~inf', '5|0|ROOT'),\n",
        "  ('put-ZERO', 'v', '7|5|XCOMP'),\n",
        "  ('the', 'art', '8|7|OBJ'),\n",
        "  ('blueberry-PL', 'n', '9|8|OBJ'),\n",
        "  ('on', 'prep', '10|9|NJCT'),\n",
        "  ('top', 'n', '11|10|POBJ'),\n",
        "  ('of', 'prep', '12|11|NJCT'),\n",
        "  ('the', 'art', '13|14|MOD'),\n",
        "  ('cheese', 'n', '14|12|POBJ')],\n",
        " [('oh', 'co', '1|5|COM'),\n",
        "  ('it~will', 'pro~mod', '3|5|SUBJ'),\n",
        "  ('be', 'cop', '5|0|ROOT'),\n",
        "  ('delicious', 'adj', '6|5|PRED')],\n",
        " [('do', 'mod', '1|3|AUX'),\n",
        "  ('you', 'pro', '2|3|SUBJ'),\n",
        "  ('want', 'v', '3|0|ROOT'),\n",
        "  ('a', 'art', '4|5|MOD'),\n",
        "  ('couple', 'n', '5|3|OBJ')],\n",
        " [('they', 'pro:sub', '1|2|SUBJ'),\n",
        "  ('taste', 'v', '2|0|ROOT'),\n",
        "  ('good-CP', 'adj', '3|2|JCT'),\n",
        "  ('when', 'conj', '4|7|LINK'),\n",
        "  ('they', 'pro:sub', '5|7|SUBJ'),\n",
        "  ('be-PRES', 'aux', '6|7|AUX'),\n",
        "  ('cook-PASTP', 'part', '7|2|CJCT')],\n",
        " [('xxx', '')],\n",
        " [('xxx', '')],\n",
        " [('just', 'adv', '1|0|INCROOT'), ('xxx', '')],\n",
        " [('here~be', 'pro:exist~cop', '1|2|SUBJ'),\n",
        "  ('a', 'art', '3|2|PRED'),\n",
        "  ('few', 'qn', '4|6|QUANT'),\n",
        "  ('squish-dv', 'adj', '5|6|MOD'),\n",
        "  ('one-PL', 'pro:indef', '6|3|OBJ')],\n",
        " [('eat', 'v', '1|0|ROOT'), ('it', 'pro', '2|1|OBJ')],\n",
        " [('xxx', '')],\n",
        " [('water', 'n', '1|0|INCROOT')],\n",
        " [('what', 'pro:wh', '1|0|INCROOT')],\n",
        " [('magic', 'adj', '1|2|MOD'), ('word', 'n', '2|0|INCROOT')],\n",
        " [('I~be', 'pro:sub~cop', '1|2|SUBJ'),\n",
        "  ('real-dadj', 'adv', '3|4|JCT'),\n",
        "  ('surprise-PAST', 'v', '4|0|ROOT'),\n",
        "  ('at', 'prep', '5|4|JCT'),\n",
        "  ('how', 'adv:wh', '6|9|LINK'),\n",
        "  ('good', 'adj', '7|9|JCT'),\n",
        "  ('they', 'pro:sub', '8|9|SUBJ'),\n",
        "  ('taste', 'v', '9|5|POBJ')],\n",
        " [('what', 'pro:wh', '1|4|LINK'),\n",
        "  ('do', 'mod', '2|4|AUX'),\n",
        "  ('you', 'pro', '3|4|SUBJ'),\n",
        "  ('call', 'v', '4|0|ROOT'),\n",
        "  ('this', ''),\n",
        "  ('those', 'pro:dem', '5|4|OBJ')],\n",
        " [('no', 'qn', '1|2|QUANT'), ('way', 'n', '2|0|INCROOT')],\n",
        " [('try', 'v', '1|0|INCROOT'), ('again', 'adv', '2|1|JCT')],\n",
        " [('what', 'pro:wh', '1|3|LINK'),\n",
        "  ('color', 'n', '2|3|SUBJ'),\n",
        "  ('be-PRES', 'cop', '3|0|ROOT'),\n",
        "  ('they', 'pro:sub', '4|3|PRED')],\n",
        " [('xxx', '')],\n",
        " [('so', 'adv', '1|5|JCT'),\n",
        "  ('what', 'pro:wh', '2|5|SUBJ'),\n",
        "  ('do', 'mod', '3|5|AUX'),\n",
        "  ('they', 'pro:sub', '4|5|SUBJ'),\n",
        "  ('call', 'v', '5|0|ROOT'),\n",
        "  ('them', 'pro:obj', '6|5|OBJ')],\n",
        " [('right', 'co', '1|0|INCROOT'), ('xxx', '')],\n",
        " [('no', 'co', '1|0|INCROOT')],\n",
        " [('xxx', '')],\n",
        " [('there~be', 'pro:exist~cop', '1|2|SUBJ'),\n",
        "  ('sugar', 'n', '3|2|PRED'),\n",
        "  ('in', 'adv', '4|2|JCT'),\n",
        "  ('xxx', '')],\n",
        " [('hand', 'v', '1|0|ROOT'),\n",
        "  ('those', 'det', '2|1|OBJ'),\n",
        "  ('to', 'prep', '3|2|JCT'),\n",
        "  ('Bob', 'n:prop', '4|3|POBJ')],\n",
        " [('xxx', '')],\n",
        " [('not', 'neg', '1|0|INCROOT'),\n",
        "  ('for', 'prep', '2|1|JCT'),\n",
        "  ('you', 'pro', '3|2|POBJ')],\n",
        " [],\n",
        " [('what', 'pro:wh', '3|4|SUBJ'),\n",
        "  ('what', 'pro:wh', '1|4|LINK'),\n",
        "  ('do', 'mod', '2|4|AUX'),\n",
        "  ('you', 'pro', '3|4|SUBJ'),\n",
        "  ('do', 'v', '4|0|ROOT'),\n",
        "  ('after', 'prep', '5|4|JCT'),\n",
        "  ('supper', 'n', '6|5|POBJ')],\n",
        " [('at', 'prep', '1|0|INCROOT'),\n",
        "  ('the', 'art', '2|3|MOD'),\n",
        "  ('mall', 'n', '3|1|POBJ')],\n",
        " [('I', 'pro:sub', '1|2|SUBJ'),\n",
        "  ('think', 'v', '2|0|ROOT'),\n",
        "  ('Eric', 'n:prop', '3|4|SUBJ'),\n",
        "  ('want-3S', 'v', '4|2|COMP'),\n",
        "  ('to', 'inf', '5|6|INF'),\n",
        "  ('see', 'v', '6|4|XCOMP'),\n",
        "  ('you', 'pro', '7|6|OBJ'),\n",
        "  ('up', 'prep', '8|6|JCT'),\n",
        "  ('the', 'art', '9|10|MOD'),\n",
        "  ('street', 'n', '10|8|POBJ')],\n",
        " [('I', 'pro:sub', '1|3|SUBJ'),\n",
        "  ('be-PAST', 'aux', '2|3|AUX'),\n",
        "  ('talk-PRESP', 'part', '3|0|ROOT'),\n",
        "  ('today', 'adv:tem', '4|3|OBJ'),\n",
        "  ('and', 'coord', '5|7|LINK'),\n",
        "  ('he', 'pro:sub', '6|7|SUBJ'),\n",
        "  ('ask-PAST', 'v', '7|4|CJCT'),\n",
        "  ('me', 'pro:obj', '8|7|OBJ'),\n",
        "  ('if', 'conj', '9|12|LINK'),\n",
        "  ('you', 'pro', '10|12|SUBJ'),\n",
        "  ('be-PAST', 'aux', '11|12|AUX'),\n",
        "  ('go-PRESP~to', 'part~inf', '12|7|COMP'),\n",
        "  ('come', 'v', '14|12|XCOMP'),\n",
        "  ('out', 'adv', '15|14|JCT'),\n",
        "  ('after', 'prep', '16|14|JCT'),\n",
        "  ('supper', 'n', '17|16|POBJ')],\n",
        " [('who', 'rel', '1|0|INCROOT')],\n",
        " [('Eric', 'n:prop', '1|0|INCROOT')],\n",
        " [('yeah', 'co', '1|0|INCROOT')],\n",
        " [('up', 'adv', '1|2|JCT'),\n",
        "  ('there', 'adv', '2|0|ROOT'),\n",
        "  ('by', 'prep', '3|2|JCT'),\n",
        "  ('himself', 'pro:refl', '4|3|POBJ')],\n",
        " [('xxx', '')],\n",
        " [('xxx', ''), ('xxx', '')],\n",
        " [('be-PAST', 'cop', '1|0|ROOT'),\n",
        "  ('that', 'rel', '2|1|PRED'),\n",
        "  ('yesterday', 'adv:tem', '3|2|INCROOT'),\n",
        "  ('or', 'coord', '4|3|CONJ'),\n",
        "  ('this', 'det', '5|6|DET'),\n",
        "  ('morning', 'n', '6|4|COORD')],\n",
        " [('yesterday', 'adv:tem', '1|7|LINK'),\n",
        "  ('that~be', 'pro:dem~aux', '3|7|SUBJ'),\n",
        "  ('when', 'conj', '5|7|LINK'),\n",
        "  ('you', 'pro', '6|7|SUBJ'),\n",
        "  ('go-PAST', 'v', '7|0|ROOT'),\n",
        "  ('xxx', '')],\n",
        " [('no', 'co', '1|6|COM'),\n",
        "  ('do~not', 'mod~neg', '3|6|AUX'),\n",
        "  ('you', 'pro', '5|6|SUBJ'),\n",
        "  ('understand', 'v', '6|0|ROOT')],\n",
        " [('oh', 'co', '1|4|COM'),\n",
        "  ('you', 'pro', '3|4|SUBJ'),\n",
        "  ('go-PAST', 'v', '4|0|ROOT'),\n",
        "  ('down', 'adv', '5|4|JCT'),\n",
        "  ('to', 'prep', '6|4|JCT'),\n",
        "  ('the', 'art', '7|9|MOD'),\n",
        "  ('beach', 'n', '8|9|MOD'),\n",
        "  ('yesterday', 'adv:tem', '9|6|POBJ')],\n",
        " [('xxx', '')],\n",
        " [('xxx', '')],\n",
        " [('angry', 'adj', '1|0|INCROOT')],\n",
        " [('oh', 'co', '1|0|INCROOT')],\n",
        " [],\n",
        " [('do', 'mod', '1|3|AUX'),\n",
        "  ('you', 'pro', '2|3|SUBJ'),\n",
        "  ('want', 'v', '3|0|ROOT'),\n",
        "  ('tea', 'n', '4|3|OBJ')],\n",
        " [('no', 'co', '1|0|INCROOT')],\n",
        " [('do~not', 'mod~neg', '1|3|AUX'),\n",
        "  ('be', 'cop', '3|0|ROOT'),\n",
        "  ('too', 'adv', '4|5|JCT'),\n",
        "  ('noise-DIM', 'n', '5|3|PRED')],\n",
        " [('sound', 'n', '1|0|INCROOT'), ('big-CP', 'adj', '2|1|XMOD')],\n",
        " [],\n",
        " [('ssh', 'co', '1|0|INCROOT'), ('xxx', '')],\n",
        " [('okay', 'co', '1|4|COM'),\n",
        "  ('that~be', 'pro:dem~cop', '3|4|SUBJ'),\n",
        "  ('enough', 'adv', '5|4|JCT')],\n",
        " [('do~not', 'mod~neg', '1|4|AUX'),\n",
        "  ('be', 'aux', '3|4|AUX'),\n",
        "  ('jump-PRESP', 'part', '4|0|ROOT'),\n",
        "  ('you~be', 'pro~aux', '6|8|SUBJ'),\n",
        "  ('go-PRESP~to', 'part~inf', '8|4|COMP'),\n",
        "  ('fall', 'v', '10|8|XCOMP'),\n",
        "  ('down', 'adv', '11|10|JCT')],\n",
        " [('you', ''),\n",
        "  ('you', 'pro', '1|2|SUBJ'),\n",
        "  ('have', 'v', '2|0|ROOT'),\n",
        "  ('a', 'art', '3|4|MOD'),\n",
        "  ('tan', 'n', '4|2|OBJ')],\n",
        " [('wow', 'co', '1|3|COM'),\n",
        "  ('look', 'v', '3|0|ROOT'),\n",
        "  ('at', 'prep', '4|3|JCT'),\n",
        "  ('your', 'pro:poss', '5|6|MOD'),\n",
        "  ('back', 'adj', '6|4|POBJ')],\n",
        " [('let-ZERO', 'v', '1|0|ROOT'),\n",
        "  ('me', 'pro:obj', '2|1|OBJ'),\n",
        "  ('see', 'v', '3|1|COMP'),\n",
        "  ('your', 'pro:poss', '4|5|MOD'),\n",
        "  ('back', 'adj', '5|3|OBJ'),\n",
        "  ('Jen', 'n:prop', '7|5|MOD')],\n",
        " [('wow', 'co', '1|0|INCROOT')],\n",
        " [('you', 'pro', '1|2|SUBJ'),\n",
        "  ('guy-PL', 'n', '2|3|SUBJ'),\n",
        "  ('be-PRES', 'cop', '3|0|ROOT'),\n",
        "  ('dark-CP', 'adj', '4|3|PRED')],\n",
        " [('turn', 'n', '1|0|INCROOT'), ('around', 'adv', '2|1|JCT')],\n",
        " [('no', 'co', '1|0|INCROOT')],\n",
        " [('see', 'v', '1|0|ROOT'), ('xxx', '')],\n",
        " [('no', 'co', '1|0|INCROOT')],\n",
        " [('that~be', 'pro:dem~cop', '1|2|SUBJ'),\n",
        "  ('dark-CP', 'adj', '3|2|PRED'),\n",
        "  ('than', 'prep', '4|2|JCT'),\n",
        "  ('there', 'adv', '5|4|POBJ')],\n",
        " [('see', 'v', '1|0|ROOT')],\n",
        " [('xxx', ''),\n",
        "  ('wear', 'v', '1|0|ROOT'),\n",
        "  ('a', 'art', '2|4|MOD'),\n",
        "  ('bathe-PRESP', 'part', '3|4|MOD'),\n",
        "  ('suit', 'n', '4|1|OBJ')],\n",
        " [('be-PAST', 'cop', '1|3|AUX'),\n",
        "  ('you', 'pro', '2|3|SUBJ'),\n",
        "  ('go-PRESP', 'part', '3|0|ROOT')],\n",
        " [('xxx', '')],\n",
        " [('what', 'pro:wh', '1|0|INCROOT')],\n",
        " [('it~be', 'pro~aux', '1|3|SUBJ'),\n",
        "  ('half', 'n', '3|0|INCROOT'),\n",
        "  ('past', 'adj', '4|3|XMOD'),\n",
        "  ('seven', 'det:num', '5|6|QUANT'),\n",
        "  ('already', 'adv', '6|4|JCT')],\n",
        " [('why', 'adv:wh', '1|2|LINK'),\n",
        "  ('do~not', 'mod~neg', '2|5|LINK'),\n",
        "  ('we', 'pro:sub', '4|5|SUBJ'),\n",
        "  ('take', 'v', '5|0|ROOT'),\n",
        "  ('a', 'art', '6|8|MOD'),\n",
        "  ('walk', 'n', '7|8|MOD'),\n",
        "  ('tonight', 'adv:tem', '8|5|OBJ')],\n",
        " [('what', 'pro:wh', '1|0|INCROOT')],\n",
        " [('let~us', 'v:obj~pro:obj', '1|0|ROOT'),\n",
        "  ('see', 'v', '3|1|COMP'),\n",
        "  ('if', 'conj', '4|6|LINK'),\n",
        "  ('there~be', 'pro:exist~cop', '5|6|SUBJ'),\n",
        "  ('a', 'art', '7|9|MOD'),\n",
        "  ('summer', 'n', '8|9|MOD'),\n",
        "  ('thing', 'n', '9|6|PRED'),\n",
        "  ('around', 'adv', '10|9|JCT')],\n",
        " [('usual-dadj', 'adv', '1|2|JCT'), ('there', 'adv', '2|0|ROOT')],\n",
        " [('Copley', 'n:prop', '1|0|INCROOT'),\n",
        "  ('Square', 'n:prop', '2|1|APP'),\n",
        "  ('or', 'coord', '3|1|CONJ'),\n",
        "  ('Prudential', 'n:prop', '4|3|COORD')],\n",
        " [('xxx', '')],\n",
        " [('maybe', 'adv', '1|4|JCT'),\n",
        "  ('after', 'prep', '2|4|JCT'),\n",
        "  ('we', 'pro:sub', '3|4|SUBJ'),\n",
        "  ('sit', 'v', '4|0|ROOT'),\n",
        "  ('on', 'prep', '5|4|JCT'),\n",
        "  ('the', 'art', '6|5|POBJ'),\n",
        "  ('bench', 'n', '7|6|OBJ'),\n",
        "  ('for', 'prep', '8|7|NJCT'),\n",
        "  ('awhile', 'adv', '9|8|POBJ')],\n",
        " [('xxx', '')],\n",
        " [('xxx', ''), ('xxx', '')],\n",
        " [('xxx', '')],\n",
        " [('xxx', '')],\n",
        " [('spill-PAST', 'v', '1|0|ROOT'),\n",
        "  ('it', 'pro', '2|1|OBJ'),\n",
        "  ('out_of', 'prep', '3|1|JCT'),\n",
        "  ('your', 'pro:poss', '4|5|MOD'),\n",
        "  ('mouth', 'n', '5|3|POBJ')],\n",
        " [('I~genmod', 'pro:sub~mod', '1|3|SUBJ'),\n",
        "  ('like', 'v', '3|0|ROOT'),\n",
        "  ('to', 'inf', '4|5|INF'),\n",
        "  ('see', 'v', '5|3|XCOMP'),\n",
        "  ('a', 'art', '6|7|MOD'),\n",
        "  ('concert', 'n', '7|5|OBJ')],\n",
        " [('hum', 'n', '1|0|INCROOT')],\n",
        " [('xxx', '')],\n",
        " [],\n",
        " [('xxx', '')],\n",
        " [('do~not', 'mod~neg', '1|0|INCROOT')],\n",
        " [('do~not', 'mod~neg', '1|3|AUX'),\n",
        "  ('let-ZERO', 'v', '3|0|ROOT'),\n",
        "  ('it', 'pro', '4|3|OBJ'),\n",
        "  ('leak', 'v', '5|3|COMP'),\n",
        "  ('out', 'adv', '6|5|JCT')],\n",
        " [('blah', 'co', '1|0|INCROOT')],\n",
        " [],\n",
        " [('that', 'pro:dem', '1|2|SUBJ'),\n",
        "  ('be-PAST', 'cop', '2|0|ROOT'),\n",
        "  ('terrible', 'adj', '3|2|PRED')],\n",
        " [('almost', 'adv', '1|0|INCROOT')],\n",
        " [('it', 'pro', '1|2|SUBJ'), ('spill-PAST', 'v', '2|0|ROOT')],\n",
        " [('almost', 'adv', '1|2|JCT'),\n",
        "  ('fall-PAST', 'v', '2|0|ROOT'),\n",
        "  ('out', 'adv', '3|2|JCT'),\n",
        "  ('do-PAST~not', 'mod~neg', '5|7|AUX'),\n",
        "  ('it', 'pro', '7|4|OBJ'),\n",
        "  ('Jennifer', 'n:prop', '8|7|OBJ')],\n",
        " [('hah', '')],\n",
        " [('swallow-PAST', 'v', '1|0|ROOT'), ('it', 'pro', '2|1|OBJ')],\n",
        " [('we~be', 'pro:sub~cop', '1|2|SUBJ'),\n",
        "  ('not', 'neg', '3|2|NEG'),\n",
        "  ('go-PRESP~to', 'part~inf', '4|2|PRED'),\n",
        "  ('play', 'v', '6|4|XCOMP'),\n",
        "  ('that', 'det', '7|8|DET'),\n",
        "  ('game', 'n', '8|6|OBJ'),\n",
        "  ('anymore', 'adv', '9|6|JCT')],\n",
        " [('no', 'co', '1|0|INCROOT')],\n",
        " [('xxx', ''),\n",
        "  ('that~be', 'pro:dem~cop', '1|2|SUBJ'),\n",
        "  ('enough', 'adv', '3|2|JCT')],\n",
        " [('no', 'co', '1|0|INCROOT')],\n",
        " [('xxx', '')],\n",
        " [('no', 'co', '1|0|INCROOT')],\n",
        " [('that', 'rel', '1|2|LINK'),\n",
        "  ('be-3S~not', 'cop~neg', '2|0|ROOT'),\n",
        "  ('very', 'adv', '4|5|JCT'),\n",
        "  ('nice', 'adj', '5|2|PRED')],\n",
        " [('you~will', 'pro~mod', '1|3|SUBJ'),\n",
        "  ('lose', 'v', '3|0|ROOT'),\n",
        "  ('your', 'pro:poss', '4|5|MOD'),\n",
        "  ('drink', 'n', '5|3|OBJ')],\n",
        " [('no', 'co', '1|0|INCROOT')],\n",
        " [('we', 'pro:sub', '1|2|SUBJ'),\n",
        "  ('tell-PAST', 'v', '2|0|ROOT'),\n",
        "  ('Bob', 'n:prop', '3|2|OBJ'),\n",
        "  ('to', ''),\n",
        "  ('not', 'neg', '4|3|NEG'),\n",
        "  ('to', 'inf', '5|6|INF'),\n",
        "  ('do', 'v', '6|3|XCOMP'),\n",
        "  ('it', 'pro', '7|6|OBJ')],\n",
        " [('do~not', 'mod~neg', '1|4|LINK'),\n",
        "  ('you', 'pro', '3|4|SUBJ'),\n",
        "  ('do', 'v', '4|0|ROOT'),\n",
        "  ('it', 'pro', '5|4|OBJ'),\n",
        "  ('either', 'adv', '6|4|JCT')],\n",
        " [('xxx', '')],\n",
        " [('you', 'pro', '1|2|SUBJ'), ('be-PRES', 'cop', '2|0|ROOT'), ('xxx', '')],\n",
        " [('xxx', '')],\n",
        " [('I', 'pro:sub', '1|2|SUBJ'),\n",
        "  ('get-PAST', 'v', '2|0|ROOT'),\n",
        "  ('a', 'art', '3|6|MOD'),\n",
        "  ('sunburn', 'n', '4|6|SUBJ'),\n",
        "  ('last', 'adv', '5|6|JCT'),\n",
        "  ('week', 'n', '6|2|COMP')],\n",
        " [('see', 'v', '1|0|ROOT')],\n",
        " [('I', 'pro:sub', '1|4|SUBJ'),\n",
        "  ('can~not', 'mod~neg', '2|4|AUX'),\n",
        "  ('go', 'v', '4|0|ROOT'),\n",
        "  ('to', 'prep', '5|4|JCT'),\n",
        "  ('the', 'art', '6|7|MOD'),\n",
        "  ('beach', 'n', '7|5|POBJ'),\n",
        "  ('everyday', 'adj', '8|4|XJCT'),\n",
        "  ('like', 'prep', '9|8|JCT'),\n",
        "  ('you', 'pro', '10|11|SUBJ'),\n",
        "  ('guy-PL', 'n', '11|9|POBJ')],\n",
        " [('my', 'pro:poss', '1|2|MOD'),\n",
        "  ('sunburn', 'n', '2|3|SUBJ'),\n",
        "  ('peel-3S', 'v', '3|0|ROOT'),\n",
        "  ('off', 'adv', '4|3|JCT')],\n",
        " [('do-PAST', 'v', '1|3|LINK'),\n",
        "  ('you', 'pro', '2|3|SUBJ'),\n",
        "  ('eat', 'v', '3|0|ROOT')],\n",
        " [('xxx', '')],\n",
        " [('be-3S', 'cop', '1|0|ROOT'),\n",
        "  ('that', 'pro:dem', '2|1|PRED'),\n",
        "  ('on', 'adv', '3|2|JCT')],\n",
        " [('no', 'co', '1|0|INCROOT')],\n",
        " [('be-3S', 'aux', '1|0|INCROOT'),\n",
        "  ('this', 'det', '2|3|DET'),\n",
        "  ('on', 'adv', '3|1|JCT')],\n",
        " [('they', 'pro:sub', '1|2|SUBJ'), ('burn-PAST', 'v', '2|0|ROOT')],\n",
        " [('catch-PAST', 'v', '1|0|ROOT'),\n",
        "  ('them', 'pro:obj', '2|1|OBJ'),\n",
        "  ('in', 'prep', '3|1|JCT'),\n",
        "  ('time', 'n', '4|3|POBJ'),\n",
        "  ('at', 'prep', '5|4|NJCT'),\n",
        "  ('least', 'n', '6|5|POBJ')],\n",
        " [('they', 'pro:sub', '1|3|SUBJ'),\n",
        "  ('certain-dadj', 'adv', '2|3|JCT'),\n",
        "  ('shrivel-PAST', 'v', '3|0|ROOT'),\n",
        "  ('up', 'adv', '4|3|JCT')],\n",
        " [('yeah', 'co', '1|4|COM'),\n",
        "  ('that~be', 'pro:dem~cop', '3|4|SUBJ'),\n",
        "  ('on', 'adv', '5|4|JCT')],\n",
        " [('xxx', '')],\n",
        " [('smell', 'v', '1|0|ROOT'),\n",
        "  ('a', 'art', '2|4|MOD'),\n",
        "  ('little', 'adj', '3|4|MOD'),\n",
        "  ('bit', 'n', '4|1|OBJ')],\n",
        " [('xxx', ''),\n",
        "  ('burn-PAST', 'v', '1|0|ROOT'),\n",
        "  ('on', 'prep', '2|1|JCT'),\n",
        "  ('the', 'art', '3|2|POBJ'),\n",
        "  ('ah', '')],\n",
        " [('okay', 'co', '1|0|INCROOT')],\n",
        " [('sit', 'v', '1|0|ROOT'),\n",
        "  ('down', 'adv', '2|3|JCT'),\n",
        "  ('kid-PL', 'n', '3|1|OBJ')],\n",
        " [('stop', 'n', '1|0|INCROOT')],\n",
        " [('in', ''),\n",
        "  ('in', 'prep', '1|0|INCROOT'),\n",
        "  ('the', 'art', '2|3|MOD'),\n",
        "  ('pan', 'n', '3|1|POBJ')],\n",
        " [('that~be', 'pro:dem~cop', '1|2|SUBJ'), ('cheese', 'n', '3|2|PRED')],\n",
        " [('good', 'adj', '1|0|INCROOT')],\n",
        " [('good', 'adj', '1|0|INCROOT')],\n",
        " [('what', 'pro:wh', '1|0|INCROOT')],\n",
        " [('cook', 'n', '1|0|INCROOT'), ('xxx', '')],\n",
        " [('want', 'v', '1|0|ROOT'), ('to', 'prep', '2|1|JCT'), ('xxx', '')],\n",
        " [('no', 'co', '1|0|INCROOT')],\n",
        " [('this', 'pro:dem', '1|2|SUBJ'),\n",
        "  ('be-3S', 'cop', '2|0|ROOT'),\n",
        "  ('Dad~s', 'n:prop~poss', '3|2|PRED'),\n",
        "  ('first', 'adv', '5|3|JCT')],\n",
        " [('wait', 'co', '1|0|INCROOT')],\n",
        " [('let~us', 'v:obj~pro:obj', '1|0|ROOT'),\n",
        "  ('put-ZERO', 'v', '3|1|COMP'),\n",
        "  ('the', 'art', '4|3|OBJ'),\n",
        "  ('blueberry-PL', 'n', '5|4|XMOD'),\n",
        "  ('on', 'adv', '6|5|NJCT')],\n",
        " [('Jennifer', 'n:prop', '1|0|INCROOT')],\n",
        " [('will-COND', 'mod', '1|3|AUX'),\n",
        "  ('you', 'pro', '2|3|SUBJ'),\n",
        "  ('like', 'v', '3|0|ROOT'),\n",
        "  ('some', 'qn', '4|3|OBJ')],\n",
        " [('do-3S', 'mod', '1|0|INCROOT'), ('it', 'pro', '2|1|OBJ')],\n",
        " [('I', 'pro:sub', '1|2|SUBJ'),\n",
        "  ('know-PAST', 'v', '2|0|ROOT'),\n",
        "  ('it', 'pro', '3|2|OBJ')],\n",
        " [('I', 'pro:sub', '1|2|SUBJ'),\n",
        "  ('know-PAST', 'v', '2|0|ROOT'),\n",
        "  ('it', 'pro', '3|2|OBJ')],\n",
        " [('what~genmod', 'pro:wh~mod', '1|4|LINK'),\n",
        "  ('you', 'pro', '3|4|SUBJ'),\n",
        "  ('do', 'v', '4|0|ROOT')],\n",
        " [('she', 'pro:sub', '1|2|SUBJ'),\n",
        "  ('stop-PAST', 'v', '2|0|ROOT'),\n",
        "  ('eat-PRESP', 'n:gerund', '3|2|OBJ')],\n",
        " [('xxx', '')],\n",
        " [('what~will', 'pro:wh~mod', '1|4|LINK'),\n",
        "  ('you', 'pro', '3|4|SUBJ'),\n",
        "  ('put-ZERO', 'v', '4|0|ROOT'),\n",
        "  ('blueberry-PL', 'n', '5|4|OBJ')],\n",
        " [('hey', 'co', '1|0|INCROOT')],\n",
        " [('wait', 'v', '1|0|ROOT'),\n",
        "  ('a', 'art', '2|1|OBJ'),\n",
        "  ('minute', 'n', '3|2|OBJ')],\n",
        " [('wait~will', 'co~mod', '1|4|COM'),\n",
        "  ('you', 'pro', '3|4|SUBJ'),\n",
        "  ('put-ZERO', 'v', '4|0|ROOT'),\n",
        "  ('blueberry-PL', 'n', '5|4|OBJ'),\n",
        "  ('on', 'prep', '6|4|JCT'),\n",
        "  ('top', 'n', '7|6|POBJ')],\n",
        " [('it~will', 'pro~mod', '1|3|SUBJ'),\n",
        "  ('taste', 'v', '3|0|ROOT'),\n",
        "  ('good-CP', 'adj', '4|3|JCT')],\n",
        " [('yeah', 'co', '1|0|INCROOT')],\n",
        " [('but', 'conj', '1|4|LINK'),\n",
        "  ('the', 'art', '2|4|JCT'),\n",
        "  ('blueberry-PL', 'n', '3|4|SUBJ'),\n",
        "  ('be-PRES', 'cop', '4|0|ROOT'),\n",
        "  ('delicious', 'adj', '5|4|PRED')],\n",
        " [('okay', 'co', '1|0|INCROOT')],\n",
        " [('wait', 'co', '1|0|INCROOT')],\n",
        " [('oh', 'co', '1|3|COM'), ('yeah', 'co', '3|0|INCROOT')],\n",
        " [('be', 'cop', '1|0|ROOT'), ('careful', 'co', '2|1|PRED')],\n",
        " [('they~be', 'pro:sub~cop', '1|2|SUBJ'),\n",
        "  ('a', 'art', '3|2|PRED'),\n",
        "  ('little', 'adj', '4|5|MOD'),\n",
        "  ('bit', 'n', '5|6|MOD'),\n",
        "  ('hot', 'adj', '6|3|PRED')],\n",
        " [('xxx', ''), ('good', 'adj', '1|0|INCROOT')],\n",
        " [('eh', '')],\n",
        " [('put-ZERO', 'v', '1|0|ROOT'),\n",
        "  ('the', 'art', '2|1|OBJ'),\n",
        "  ('whole', 'adj', '3|4|MOD'),\n",
        "  ('package', 'n', '4|2|OBJ'),\n",
        "  ('in', 'prep', '5|4|NJCT'),\n",
        "  ('there', 'pro:dem', '6|5|POBJ')],\n",
        " [('xxx', '')],\n",
        " [('mm', ''), ('mm', '')],\n",
        " [('mm', ''), ('mm', '')],\n",
        " [('xxx', '')],\n",
        " [('what', 'pro:wh', '1|0|INCROOT')],\n",
        " [('you', 'pro', '1|2|SUBJ'),\n",
        "  ('want~to', 'v~inf', '2|0|ROOT'),\n",
        "  ('wait', 'v', '4|2|XCOMP')],\n",
        " [('hafta', 'mod:aux', '1|2|SUBJ'),\n",
        "  ('breathe', 'v', '2|0|ROOT'),\n",
        "  ('on', 'prep', '3|2|JCT'),\n",
        "  ('them', 'pro:obj', '4|7|MOD'),\n",
        "  ('a', 'art', '5|7|MOD'),\n",
        "  ('little', 'adj', '6|7|MOD'),\n",
        "  ('bit', 'n', '7|3|POBJ')],\n",
        " [('where', 'adv:wh', '1|3|LINK'),\n",
        "  ('you', 'pro', '2|3|SUBJ'),\n",
        "  ('go-PRESP', 'part', '3|0|ROOT')],\n",
        " [('no', 'co', '1|0|INCROOT')],\n",
        " [('no', 'co', '1|0|INCROOT')],\n",
        " [('stay', 'n', '1|0|INCROOT'), ('here', 'adv', '2|1|JCT')],\n",
        " [('it~be', 'pro~cop', '1|2|SUBJ'),\n",
        "  ('not', 'neg', '3|2|NEG'),\n",
        "  ('go-PRESP~to', 'part~inf', '4|2|PRED'),\n",
        "  ('be', 'cop', '6|4|XCOMP'),\n",
        "  ('that', 'det', '7|8|DET'),\n",
        "  ('long', 'adj', '8|6|PRED')],\n",
        " [('stay', 'n', '1|0|INCROOT'),\n",
        "  ('at', 'prep', '2|1|NJCT'),\n",
        "  ('the', 'art', '3|4|MOD'),\n",
        "  ('table', 'n', '4|2|POBJ')],\n",
        " [('Bob', 'n:prop', '1|0|INCROOT')],\n",
        " [('Bob', 'n:prop', '1|0|INCROOT')],\n",
        " [('Bob', 'n:prop', '1|3|SUBJ'),\n",
        "  ('sit', 'v', '3|0|ROOT'),\n",
        "  ('down', 'adv', '4|3|JCT')],\n",
        " [('come', 'v', '1|0|ROOT'),\n",
        "  ('here', 'adv', '2|1|JCT'),\n",
        "  ('at', 'prep', '3|1|JCT'),\n",
        "  ('the', 'art', '4|5|MOD'),\n",
        "  ('table', 'n', '5|3|POBJ')],\n",
        " [('what', 'pro:wh', '1|2|SUBJ'),\n",
        "  ('be-PAST', 'cop', '2|0|ROOT'),\n",
        "  ('that', 'pro:dem', '3|2|PRED'),\n",
        "  ('about', 'adv', '4|3|JCT')],\n",
        " [('the', 'art', '1|3|MOD'),\n",
        "  ('um', ''),\n",
        "  ('check-PRESP', 'part', '2|3|MOD'),\n",
        "  ('account', 'n', '3|0|INCROOT')],\n",
        " [('mm', ''),\n",
        "  ('this', 'pro:dem', '2|3|SUBJ'),\n",
        "  ('be-3S', 'cop', '3|0|ROOT'),\n",
        "  ('delicious', 'adj', '4|3|PRED')],\n",
        " [('cool-PAST', 'v', '1|0|ROOT'), ('down', 'adv', '2|1|JCT')],\n",
        " [('good', 'adj', '1|3|MOD'), ('Jen', 'n:prop', '3|0|INCROOT')],\n",
        " [('mm', ''), ('mm', '')],\n",
        " [('good', 'adj', '1|2|MOD'),\n",
        "  ('job', 'n', '2|4|MOD'),\n",
        "  ('hon', 'n', '4|0|INCROOT')],\n",
        " [('mm', ''), ('mm', '')],\n",
        " [('mine~s', 'n~poss', '1|0|INCROOT'),\n",
        "  ('cool-PASTP', 'part', '3|1|XMOD'),\n",
        "  ('down', 'adv', '4|3|JCT')],\n",
        " [('it~be', 'pro~cop', '1|2|SUBJ'),\n",
        "  ('a', 'art', '3|2|PRED'),\n",
        "  ('little', 'adj', '4|5|MOD'),\n",
        "  ('cool', 'adj', '5|3|XMOD'),\n",
        "  ('now', 'adv', '6|5|JCT'),\n",
        "  ('Bob', 'n:prop', '8|5|OBJ')],\n",
        " [('what', 'pro:wh', '1|4|LINK'),\n",
        "  ('do', 'mod', '2|4|AUX'),\n",
        "  ('we', 'pro:sub', '3|4|SUBJ'),\n",
        "  ('have', 'v', '4|0|ROOT'),\n",
        "  ('a', 'art', '6|4|JCT'),\n",
        "  ('echo', 'n', '7|6|INCROOT'),\n",
        "  ('here', 'adv', '8|7|NJCT'),\n",
        "  ('tonight', 'adv:tem', '9|7|INCROOT')],\n",
        " [('echo', 'n', '1|0|INCROOT')],\n",
        " [('xxx', '')],\n",
        " [('she~genmod', 'pro:sub~mod', '1|2|SUBJ')],\n",
        " [('ah', '')],\n",
        " [('xxx', '')],\n",
        " [('xxx', '')],\n",
        " [('blueberry', 'n', '1|2|MOD'), ('top', 'n', '2|0|INCROOT')],\n",
        " [('look', 'v', '1|0|ROOT'),\n",
        "  ('at', 'prep', '2|1|JCT'),\n",
        "  ('mine', 'pro:poss', '3|2|POBJ'),\n",
        "  ('Bob', 'n:prop', '5|3|APP')],\n",
        " [('xxx', '')],\n",
        " [('xxx', '')],\n",
        " [('okay', 'co', '1|0|INCROOT')],\n",
        " [('eat', 'v', '1|0|ROOT'),\n",
        "  ('up', 'adv', '2|1|JCT'),\n",
        "  ('now', 'adv', '3|1|JCT')],\n",
        " [('let~us', 'v:obj~pro:obj', '1|0|ROOT'),\n",
        "  ('finish', 'v', '3|2|XMOD'),\n",
        "  ('and', 'coord', '4|3|CONJ'),\n",
        "  ('go', 'v', '5|4|COORD'),\n",
        "  ('out', 'adv', '6|5|JCT'),\n",
        "  ('and', 'coord', '7|5|CONJ'),\n",
        "  ('play', 'n', '8|7|COORD')],\n",
        " [('why', 'adv:wh', '1|2|LINK'),\n",
        "  ('do~not', 'mod~neg', '2|5|LINK'),\n",
        "  ('you', 'pro', '4|5|SUBJ'),\n",
        "  ('use', 'v', '5|0|ROOT'),\n",
        "  ('your', 'pro:poss', '6|7|MOD'),\n",
        "  ('spoon', 'n', '7|5|OBJ')],\n",
        " [('it~will', 'pro~mod', '1|3|SUBJ'),\n",
        "  ('be', 'cop', '3|0|ROOT'),\n",
        "  ('ease-dn', 'adj', '4|3|PRED')],\n",
        " [('xxx', '')],\n",
        " [('xxx', '')],\n",
        " [('xxx', ''), ('why', 'adv:wh', '1|0|INCROOT'), ('not', 'neg', '2|1|NEG')],\n",
        " [('later', 'adv', '1|0|INCROOT')],\n",
        " [('I~be', 'pro:sub~cop', '1|2|SUBJ'),\n",
        "  ('sick', 'adj', '3|2|PRED'),\n",
        "  ('of', 'prep', '4|3|JCT'),\n",
        "  ('it', 'pro', '5|4|POBJ')],\n",
        " [('why', 'adv:wh', '1|5|LINK'),\n",
        "  ('do~not', 'mod~neg', '2|5|AUX'),\n",
        "  ('you', 'pro', '4|5|SUBJ'),\n",
        "  ('use', 'v', '5|0|ROOT'),\n",
        "  ('your', 'pro:poss', '6|7|MOD'),\n",
        "  ('spoon', 'n', '7|5|OBJ'),\n",
        "  ('dear', 'co', '9|7|COM')],\n",
        " [('it~be', 'pro~aux', '1|3|SUBJ'), ('ease-dn', 'adj', '3|0|ROOT')],\n",
        " [('nope', 'co', '1|0|INCROOT')],\n",
        " [('haha', 'co', '1|0|INCROOT')],\n",
        " [('I', 'pro:sub', '1|2|SUBJ'),\n",
        "  ('think-PAST', 'v', '2|0|ROOT'),\n",
        "  ('you', 'pro', '3|2|OBJ'),\n",
        "  ('be-PAST', 'aux', '4|5|AUX'),\n",
        "  ('tell-PRESP', 'part', '5|2|COMP'),\n",
        "  ('him', 'pro:obj', '6|5|OBJ'),\n",
        "  ('red', 'n', '7|5|OBJ')],\n",
        " [('it', 'pro', '1|2|SUBJ'),\n",
        "  ('be-PAST', 'cop', '2|0|ROOT'),\n",
        "  ('red', 'adj', '3|2|PRED')],\n",
        " [('but', 'conj', '1|4|LINK'),\n",
        "  ('when', 'conj', '2|4|LINK'),\n",
        "  ('it', 'pro', '3|4|SUBJ'),\n",
        "  ('get-3S', 'v', '4|0|ROOT'),\n",
        "  ('you', 'pro', '6|7|SUBJ'),\n",
        "  ('know', 'v', '7|4|COMP'),\n",
        "  ('heavy', 'adj', '9|7|JCT'),\n",
        "  ('it', 'pro', '10|11|SUBJ'),\n",
        "  ('get-3S', 'v', '11|9|POBJ'),\n",
        "  ('purple', 'n', '12|11|OBJ'),\n",
        "  ('xxx', '')],\n",
        " [('ah', ''), ('cmon', 'co', '2|1|COM')],\n",
        " [('do~not', 'mod~neg', '1|3|AUX'),\n",
        "  ('put-ZERO', 'v', '3|0|ROOT'),\n",
        "  ('them', 'pro:obj', '4|3|OBJ'),\n",
        "  ('in', 'adv', '5|3|JCT'),\n",
        "  ('xxx', '')],\n",
        " [('that~be', 'pro:dem~cop', '1|2|SUBJ'),\n",
        "  ('for', 'conj', '3|2|PRED'),\n",
        "  ('sure', 'adj', '4|3|PRED')],\n",
        " [('yes', 'co', '1|4|COM'),\n",
        "  ('you', 'pro', '3|4|SUBJ'),\n",
        "  ('be-PRES', 'cop', '4|0|ROOT'),\n",
        "  ('xxx', ''),\n",
        "  ('down', 'adv', '5|4|JCT')],\n",
        " [('you~be', 'pro~cop', '1|2|SUBJ'),\n",
        "  ('also', 'adv', '3|2|JCT'),\n",
        "  ('a', 'art', '4|5|MOD'),\n",
        "  ('turkey', 'n', '5|2|PRED')],\n",
        " [('xxx', '')],\n",
        " [('hm', 'co', '1|0|INCROOT')],\n",
        " [('yeah', 'co', '1|0|INCROOT')],\n",
        " [('xxx', ''),\n",
        "  ('stop', 'n', '1|0|INCROOT'),\n",
        "  ('play-PRESP', 'part', '2|1|XMOD'),\n",
        "  ('around', 'adv', '3|2|JCT'),\n",
        "  ('and', 'coord', '4|2|CONJ'),\n",
        "  ('eat', 'v', '5|4|COORD'),\n",
        "  ('it', 'pro', '6|5|OBJ')],\n",
        " [('you', 'pro', '1|3|SUBJ'),\n",
        "  ('can', 'mod', '2|3|AUX'),\n",
        "  ('eat', 'v', '3|0|ROOT'),\n",
        "  ('it', 'pro', '4|3|OBJ'),\n",
        "  ('later', 'adv', '5|3|JCT')],\n",
        " [('what', 'pro:wh', '1|0|INCROOT')],\n",
        " [('please', 'co', '1|5|COM'),\n",
        "  ('could', 'mod', '3|5|AUX'),\n",
        "  ('you', 'pro', '4|5|SUBJ'),\n",
        "  ('pass', 'v', '5|0|ROOT'),\n",
        "  ('out', 'prep', '6|5|JCT'),\n",
        "  ('some', 'qn', '7|8|QUANT'),\n",
        "  ('napkin-PL', 'n', '8|6|POBJ'),\n",
        "  ('please', 'co', '10|5|COM')],\n",
        " [('yep', 'co', '1|0|INCROOT')],\n",
        " [('need', 'v', '1|0|ROOT'),\n",
        "  ('some', 'qn', '2|3|QUANT'),\n",
        "  ('help', 'co', '3|1|OBJ')],\n",
        " [('oh', 'co', '1|0|INCROOT')],\n",
        " [('be-3S', 'aux', '1|0|INCROOT'), ('it', 'pro', '2|1|OBJ'), ('xxx', '')],\n",
        " []]"
       ]
      }
     ],
     "prompt_number": 4
    },
    {
     "cell_type": "code",
     "collapsed": false,
     "input": [
      "def get_verbs(sent):\n",
      "    '''get all verbs in a sentence'''\n",
      "    \n",
      "    regex = re.compile('^([a-z]+?~)?v(~[a-z]+?)?$')\n",
      "    matcher = np.vectorize(lambda x: bool(regex.match(x)))\n",
      "    \n",
      "    return sent[matcher(sent[:,1])]\n",
      "\n",
      "def convert_sent_to_array(s):\n",
      "    \n",
      "    return np.array([list(item[:2]) + item[2].split('|') for item in s if len(item)==3])\n",
      "\n",
      "def extract_lexical(sent):\n",
      "    info = []\n",
      "    \n",
      "    for i, (verb, _, ind, _, rel) in enumerate(get_verbs(sent)):\n",
      "        verb = verb.split('~')[0].split('-')[0]\n",
      "        info += [[verb, w.split('-')[0].lower()] for item in sent for w in item[0].split('~') if w.split('-')[0] != verb]\n",
      "        \n",
      "    return info\n",
      "\n",
      "def extract_words(sents, children=children):\n",
      "    sents = [(c, j, convert_sent_to_array(s)) for i, c in enumerate(children) for j, s in enumerate(sents[i])]\n",
      "    sents_filtered = ((c, j, s) for c, j, s in sents if s.shape[0])\n",
      "    words = pd.DataFrame([[c, j] + line for c, j, s in sents_filtered for line in extract_lexical(s)], \n",
      "                           columns=['child', 'sentnum', 'verb', 'word'])\n",
      "    \n",
      "    return words\n",
      "\n",
      "lexical_dinner = extract_words(sents_dinner)\n",
      "lexical_mother = extract_words(sents_mother)\n",
      "lexical_father = extract_words(sents_father)\n",
      "\n",
      "lexical_dinner['context'] = 'dinner'\n",
      "lexical_mother['context'] = 'play'\n",
      "lexical_father['context'] = 'play'\n",
      "\n",
      "lexical = pd.concat([lexical_dinner, lexical_mother, lexical_father], axis=0)\n",
      "\n",
      "lexical.head()"
     ],
     "language": "python",
     "metadata": {},
     "outputs": [
      {
       "html": [
        "<div style=\"max-width:1500px;overflow:auto;\">\n",
        "<table border=\"1\" class=\"dataframe\">\n",
        "  <thead>\n",
        "    <tr style=\"text-align: right;\">\n",
        "      <th></th>\n",
        "      <th>child</th>\n",
        "      <th>sentnum</th>\n",
        "      <th>verb</th>\n",
        "      <th>word</th>\n",
        "      <th>context</th>\n",
        "    </tr>\n",
        "  </thead>\n",
        "  <tbody>\n",
        "    <tr>\n",
        "      <th>0</th>\n",
        "      <td>andy</td>\n",
        "      <td>0</td>\n",
        "      <td>want</td>\n",
        "      <td>okay</td>\n",
        "      <td>dinner</td>\n",
        "    </tr>\n",
        "    <tr>\n",
        "      <th>1</th>\n",
        "      <td>andy</td>\n",
        "      <td>0</td>\n",
        "      <td>want</td>\n",
        "      <td>you</td>\n",
        "      <td>dinner</td>\n",
        "    </tr>\n",
        "    <tr>\n",
        "      <th>2</th>\n",
        "      <td>andy</td>\n",
        "      <td>0</td>\n",
        "      <td>want</td>\n",
        "      <td>to</td>\n",
        "      <td>dinner</td>\n",
        "    </tr>\n",
        "    <tr>\n",
        "      <th>3</th>\n",
        "      <td>andy</td>\n",
        "      <td>0</td>\n",
        "      <td>want</td>\n",
        "      <td>sit</td>\n",
        "      <td>dinner</td>\n",
        "    </tr>\n",
        "    <tr>\n",
        "      <th>4</th>\n",
        "      <td>andy</td>\n",
        "      <td>0</td>\n",
        "      <td>want</td>\n",
        "      <td>there</td>\n",
        "      <td>dinner</td>\n",
        "    </tr>\n",
        "  </tbody>\n",
        "</table>\n",
        "</div>"
       ],
       "metadata": {},
       "output_type": "pyout",
       "prompt_number": 5,
       "text": [
        "  child  sentnum  verb   word context\n",
        "0  andy        0  want   okay  dinner\n",
        "1  andy        0  want    you  dinner\n",
        "2  andy        0  want     to  dinner\n",
        "3  andy        0  want    sit  dinner\n",
        "4  andy        0  want  there  dinner"
       ]
      }
     ],
     "prompt_number": 5
    },
    {
     "cell_type": "code",
     "collapsed": false,
     "input": [
      "heads = ['verb', 'subj', 'obj', 'prep1', 'pobj1', 'prep2', 'pobj2', 'prep3', 'pobj3', \n",
      "         'comp', 'embtense', 'embsubj', 'embpred']\n",
      "\n",
      "def extract_subcat_frames(sent):\n",
      "    all_info = []\n",
      "    \n",
      "    for i, (verb, _, ind, _, rel) in enumerate(get_verbs(sent)):\n",
      "        info = defaultdict(lambda: 'NONE')\n",
      "        dependents = sent[sent[:,3]==ind]\n",
      "        v = verb.split('-')[0].split('~')\n",
      "        info['verb'] = v[0]\n",
      "        \n",
      "        ppcount = 0\n",
      "        \n",
      "        if len(v) > 1:\n",
      "            if v[1] == 'to':\n",
      "                info['embtense'] = 'to'\n",
      "        \n",
      "        for word, pos, dind, _, rel in dependents:\n",
      "            word_list = word.split('~')\n",
      "            pos_list = pos.split('~')\n",
      "            \n",
      "            for w, p in zip(word_list, pos_list):\n",
      "                w = w.lower().split('-')\n",
      "                \n",
      "                if p in ['pro:wh'] and rel =='LINK':\n",
      "                    info['subj'] = w[0]\n",
      "                \n",
      "                if p in ['n', 'n:prop', 'pro', 'pro:obj', 'pro:wh'] and rel =='SUBJ':\n",
      "                    if info['subj'] in ['who', 'what']:\n",
      "                        info['obj'] = info['subj']\n",
      "                    \n",
      "                    info['subj'] = w[0]\n",
      "\n",
      "                if p in ['n', 'n:prop', 'pro', 'pro:obj', 'pro:wh'] and rel =='OBJ':\n",
      "                    info['obj'] = w[0]\n",
      "\n",
      "                    dependents2 = sent[sent[:,3]==dind]\n",
      "\n",
      "                    for word2, pos2, dind2, _, rel2 in dependents2:\n",
      "                        word2_list = word2.split('~')\n",
      "                        pos2_list = pos2.split('~')\n",
      "\n",
      "                        for w2, p2 in zip(word2_list, pos2_list):\n",
      "                            w2 = w2.lower().split('-')\n",
      "\n",
      "                            if p2 in ['v', 'cop'] and rel2 == 'XCOMP':\n",
      "                                info['embpred'] = w2[0]\n",
      "                                info['embtense'] = 'to'\n",
      "\n",
      "                            # overwrites WH (LINK) if find a SUBJ\n",
      "                            if p2 in ['n', 'pro', 'pro:obj', 'pro:wh'] and rel2 in ['SUBJ', 'LINK']:\n",
      "                                info['embsubj'] = info['obj']\n",
      "                    \n",
      "                if p == 'prep':\n",
      "                    ppcount += 1\n",
      "                    info['prep'+str(ppcount)] = w[0]\n",
      "                    \n",
      "                    dependents2 = sent[sent[:,3]==dind]\n",
      "                    \n",
      "                    for word2, pos2, dind2, _, rel2 in dependents2:\n",
      "                        word2_list = word2.split('~')\n",
      "                        pos2_list = pos2.split('~')\n",
      "                        \n",
      "                        for w2, p2 in zip(word2_list, pos2_list):\n",
      "                            w2 = w2.lower().split('-')\n",
      "                            \n",
      "                            if rel2 == 'POBJ':\n",
      "                                info['pobj'+str(ppcount)] = w2[0]\n",
      "                            \n",
      "                    \n",
      "                if rel in ['COMP', 'XCOMP'] or (rel == 'OBJ' and p=='part'):\n",
      "                    \n",
      "                    if p in ['v', 'cop']:\n",
      "                        info['embpred'] = w[0]\n",
      "                        \n",
      "                        if len(w) > 1 and info['embtense'] != 'to':\n",
      "                             info['embtense'] = 'TENSED'#w[1]\n",
      "                    \n",
      "                    dependents2 = sent[sent[:,3]==dind]\n",
      "                    \n",
      "                    for word2, pos2, dind2, _, rel2 in dependents2:\n",
      "                        word2_list = word2.split('~')\n",
      "                        pos2_list = pos2.split('~')\n",
      "                        \n",
      "                        for w2, p2 in zip(word2_list, pos2_list):\n",
      "                            w2 = w2.lower().split('-')\n",
      "                            \n",
      "                            if rel2 == 'LINK':\n",
      "                                if p2 == 'conj':\n",
      "                                    info['comp'] = w2[0]\n",
      "                                    \n",
      "                                if len(p2.split(':')) > 1: \n",
      "                                    if p2.split(':')[1]=='wh':\n",
      "                                        info['comp'] = w2[0]\n",
      "                                \n",
      "                            if rel2 == 'INF' and rel != 'COMP': #redundant\n",
      "                                info['tense'] = 'to'\n",
      "                            \n",
      "                            # overwrites WH (LINK) if find a SUBJ\n",
      "                            if p2 in ['n', 'pro', 'pro:obj', 'pro:wh'] and rel2 in ['SUBJ', 'LINK']:\n",
      "                                info['embsubj'] = w2[0]\n",
      "                \n",
      "                \n",
      "        all_info.append([info[h] for h in heads])\n",
      "        \n",
      "    return all_info\n",
      "\n",
      "def extract_syntax(sents, children=children):\n",
      "    rels_gen = ((c, convert_sent_to_array(s)) for i, c in enumerate(children) for s in sents[i])\n",
      "    rels_gen_filtered = ((c, sent) for c, sent in rels_gen if sent.shape[0])\n",
      "\n",
      "    subcats = np.array([[c] + frame + [' '.join(sent[:,0])] for c, sent in rels_gen_filtered for frame in extract_subcat_frames(sent)])\n",
      "    subcats = pd.DataFrame(subcats, columns=['child']+heads+['sent'])\n",
      "    \n",
      "    return subcats\n",
      "\n",
      "subcats_dinner = extract_syntax(sents_dinner)\n",
      "subcats_mother = extract_syntax(sents_mother)\n",
      "subcats_father = extract_syntax(sents_father)\n",
      "\n",
      "subcats_dinner['context'] = 'dinner'\n",
      "subcats_mother['context'] = 'play'\n",
      "subcats_father['context'] = 'play'\n",
      "\n",
      "subcats = pd.concat([subcats_dinner, subcats_mother, subcats_father], axis=0)\n",
      "\n",
      "subcats['subj'] = subcats.subj != 'NONE'\n",
      "subcats['obj'] = subcats.obj != 'NONE'\n",
      "subcats['embsubj'] = subcats.embsubj != 'NONE'\n",
      "\n",
      "subcats.head()"
     ],
     "language": "python",
     "metadata": {},
     "outputs": [
      {
       "html": [
        "<div style=\"max-width:1500px;overflow:auto;\">\n",
        "<table border=\"1\" class=\"dataframe\">\n",
        "  <thead>\n",
        "    <tr style=\"text-align: right;\">\n",
        "      <th></th>\n",
        "      <th>child</th>\n",
        "      <th>verb</th>\n",
        "      <th>subj</th>\n",
        "      <th>obj</th>\n",
        "      <th>prep1</th>\n",
        "      <th>pobj1</th>\n",
        "      <th>prep2</th>\n",
        "      <th>pobj2</th>\n",
        "      <th>prep3</th>\n",
        "      <th>pobj3</th>\n",
        "      <th>comp</th>\n",
        "      <th>embtense</th>\n",
        "      <th>embsubj</th>\n",
        "      <th>embpred</th>\n",
        "      <th>sent</th>\n",
        "      <th>context</th>\n",
        "    </tr>\n",
        "  </thead>\n",
        "  <tbody>\n",
        "    <tr>\n",
        "      <th>0</th>\n",
        "      <td>andy</td>\n",
        "      <td>want</td>\n",
        "      <td>True</td>\n",
        "      <td>False</td>\n",
        "      <td>NONE</td>\n",
        "      <td>NONE</td>\n",
        "      <td>NONE</td>\n",
        "      <td>NONE</td>\n",
        "      <td>NONE</td>\n",
        "      <td>NONE</td>\n",
        "      <td>NONE</td>\n",
        "      <td>to</td>\n",
        "      <td>False</td>\n",
        "      <td>sit</td>\n",
        "      <td>okay you want~to sit there</td>\n",
        "      <td>dinner</td>\n",
        "    </tr>\n",
        "    <tr>\n",
        "      <th>1</th>\n",
        "      <td>andy</td>\n",
        "      <td>sit</td>\n",
        "      <td>False</td>\n",
        "      <td>False</td>\n",
        "      <td>NONE</td>\n",
        "      <td>NONE</td>\n",
        "      <td>NONE</td>\n",
        "      <td>NONE</td>\n",
        "      <td>NONE</td>\n",
        "      <td>NONE</td>\n",
        "      <td>NONE</td>\n",
        "      <td>NONE</td>\n",
        "      <td>False</td>\n",
        "      <td>NONE</td>\n",
        "      <td>okay you want~to sit there</td>\n",
        "      <td>dinner</td>\n",
        "    </tr>\n",
        "    <tr>\n",
        "      <th>2</th>\n",
        "      <td>andy</td>\n",
        "      <td>go</td>\n",
        "      <td>False</td>\n",
        "      <td>False</td>\n",
        "      <td>NONE</td>\n",
        "      <td>NONE</td>\n",
        "      <td>NONE</td>\n",
        "      <td>NONE</td>\n",
        "      <td>NONE</td>\n",
        "      <td>NONE</td>\n",
        "      <td>NONE</td>\n",
        "      <td>NONE</td>\n",
        "      <td>False</td>\n",
        "      <td>NONE</td>\n",
        "      <td>now go tell Dad to come on huh</td>\n",
        "      <td>dinner</td>\n",
        "    </tr>\n",
        "    <tr>\n",
        "      <th>3</th>\n",
        "      <td>andy</td>\n",
        "      <td>tell</td>\n",
        "      <td>False</td>\n",
        "      <td>True</td>\n",
        "      <td>NONE</td>\n",
        "      <td>NONE</td>\n",
        "      <td>NONE</td>\n",
        "      <td>NONE</td>\n",
        "      <td>NONE</td>\n",
        "      <td>NONE</td>\n",
        "      <td>NONE</td>\n",
        "      <td>to</td>\n",
        "      <td>False</td>\n",
        "      <td>come</td>\n",
        "      <td>now go tell Dad to come on huh</td>\n",
        "      <td>dinner</td>\n",
        "    </tr>\n",
        "    <tr>\n",
        "      <th>4</th>\n",
        "      <td>andy</td>\n",
        "      <td>come</td>\n",
        "      <td>False</td>\n",
        "      <td>False</td>\n",
        "      <td>NONE</td>\n",
        "      <td>NONE</td>\n",
        "      <td>NONE</td>\n",
        "      <td>NONE</td>\n",
        "      <td>NONE</td>\n",
        "      <td>NONE</td>\n",
        "      <td>NONE</td>\n",
        "      <td>NONE</td>\n",
        "      <td>False</td>\n",
        "      <td>NONE</td>\n",
        "      <td>now go tell Dad to come on huh</td>\n",
        "      <td>dinner</td>\n",
        "    </tr>\n",
        "  </tbody>\n",
        "</table>\n",
        "</div>"
       ],
       "metadata": {},
       "output_type": "pyout",
       "prompt_number": 6,
       "text": [
        "  child  verb   subj    obj prep1 pobj1 prep2 pobj2 prep3 pobj3  comp  \\\n",
        "0  andy  want   True  False  NONE  NONE  NONE  NONE  NONE  NONE  NONE   \n",
        "1  andy   sit  False  False  NONE  NONE  NONE  NONE  NONE  NONE  NONE   \n",
        "2  andy    go  False  False  NONE  NONE  NONE  NONE  NONE  NONE  NONE   \n",
        "3  andy  tell  False   True  NONE  NONE  NONE  NONE  NONE  NONE  NONE   \n",
        "4  andy  come  False  False  NONE  NONE  NONE  NONE  NONE  NONE  NONE   \n",
        "\n",
        "  embtense embsubj embpred                            sent context  \n",
        "0       to   False     sit      okay you want~to sit there  dinner  \n",
        "1     NONE   False    NONE      okay you want~to sit there  dinner  \n",
        "2     NONE   False    NONE  now go tell Dad to come on huh  dinner  \n",
        "3       to   False    come  now go tell Dad to come on huh  dinner  \n",
        "4     NONE   False    NONE  now go tell Dad to come on huh  dinner  "
       ]
      }
     ],
     "prompt_number": 6
    },
    {
     "cell_type": "code",
     "collapsed": false,
     "input": [
      "ages = dict(zip(children, corpus_dinner.age(month=True)))\n",
      "mlus = dict(zip(children, corpus_dinner.MLU()))\n",
      "\n",
      "meta = pd.merge(pd.DataFrame(ages, index=['age']).T, \n",
      "                pd.DataFrame(mlus, index=['mlu']).T, \n",
      "                left_index=True, right_index=True)\n",
      "\n",
      "subcats = pd.merge(subcats, meta, left_on='child', right_index=True)\n",
      "lexical = pd.merge(lexical, meta, left_on='child', right_index=True)\n",
      "\n",
      "subcats['frame'] = subcats.subj.astype(str) + '_' + subcats.subj.astype(str) + '_' +\\\n",
      "                   subcats.prep1 + '_' + subcats.prep2 + '_' + subcats.prep3 + '_' +\\\n",
      "                   subcats.comp + '_' + subcats.embtense + '_' + subcats.embsubj.astype(str)\n",
      "        \n",
      "subcats = subcats[['child', 'context', 'verb', 'frame']]"
     ],
     "language": "python",
     "metadata": {},
     "outputs": [],
     "prompt_number": 7
    },
    {
     "cell_type": "code",
     "collapsed": false,
     "input": [
      "subcat_counts = subcats.pivot_table(index=['context', 'child', 'verb', 'frame'], \n",
      "                                    aggfunc=len, fill_value=0.).reset_index().rename(columns={0 : 'cnt'})\n",
      "\n",
      "def compute_entropy(cnts):\n",
      "    dist = cnts / cnts.sum() \n",
      "    return -np.sum(dist * np.log2(dist))\n",
      "\n",
      "entropy_subcat = subcat_counts.pivot_table(index=['context', 'child', 'verb'],\n",
      "                                           values='cnt', \n",
      "                                           aggfunc=[compute_entropy, np.sum], \n",
      "                                           fill_value=0).reset_index().rename(columns={'sum' : 'marginalsubcat',\n",
      "                                                                                       'compute_entropy' : 'entropysubcat'})\n",
      "\n",
      "print entropy_subcat.head()\n",
      "\n",
      "%Rpush entropy_subcat"
     ],
     "language": "python",
     "metadata": {},
     "outputs": [
      {
       "output_type": "stream",
       "stream": "stdout",
       "text": [
        "  context child   verb  entropysubcat  marginalsubcat\n",
        "0  dinner  andy  catch      -0.000000               1\n",
        "1  dinner  andy   come       1.298795               8\n",
        "2  dinner  andy     do       1.823068              11\n",
        "3  dinner  andy    eat      -0.000000               3\n",
        "4  dinner  andy  enjoy      -0.000000               1\n"
       ]
      }
     ],
     "prompt_number": 8
    },
    {
     "cell_type": "code",
     "collapsed": false,
     "input": [
      "lexical_counts = lexical.pivot_table(index=['context', 'child', 'verb', 'word'], \n",
      "                                     values='age', aggfunc=len, fill_value=0.).reset_index().rename(columns={'age' : 'cnt'})\n",
      "\n",
      "entropy_lexical = lexical_counts.pivot_table(index=['context', 'child', 'verb'],\n",
      "                                           values='cnt', \n",
      "                                           aggfunc=compute_entropy, \n",
      "                                           fill_value=0).reset_index().rename(columns={'cnt' : 'entropylexical'})\n",
      "\n",
      "lexical_marginals = lexical.pivot_table(index=['context', 'child', 'verb', 'sentnum'], \n",
      "                                        values='age', aggfunc=len, fill_value=0.).reset_index().rename(columns={'age' : 'persent'})\n",
      "\n",
      "lexical_marginals = lexical_marginals.pivot_table(index=['context', 'child', 'verb'], \n",
      "                                    values='persent', aggfunc=len, fill_value=0.).reset_index().rename(columns={'persent' : 'marginallexical'})\n",
      "\n",
      "entropy_lexical = pd.merge(entropy_lexical, lexical_marginals)\n",
      "\n",
      "print entropy_lexical.head()\n",
      "\n",
      "%Rpush entropy_lexical"
     ],
     "language": "python",
     "metadata": {},
     "outputs": [
      {
       "output_type": "stream",
       "stream": "stdout",
       "text": [
        "  context child   verb  entropylexical  marginallexical\n",
        "0  dinner  andy  catch        2.807355                1\n",
        "1  dinner  andy   come        4.075071                7\n",
        "2  dinner  andy     do        4.839372               10\n",
        "3  dinner  andy    eat        3.921928                3\n",
        "4  dinner  andy  enjoy        2.584963                1\n"
       ]
      }
     ],
     "prompt_number": 9
    },
    {
     "cell_type": "code",
     "collapsed": false,
     "input": [
      "entropy_both = pd.merge(entropy_subcat, entropy_lexical, on=['context', 'child', 'verb'])\n",
      "\n",
      "entropy_both['context'] = entropy_both['context'].astype('category', categories=['play', 'dinner'], ordered=False)\n",
      "entropy_both['child'] = entropy_both['child'].astype('category')\n",
      "entropy_both['verb'] = entropy_both['verb'].astype('category')\n",
      "\n",
      "print entropy_both.head()\n",
      "\n",
      "%Rpush entropy_both"
     ],
     "language": "python",
     "metadata": {},
     "outputs": [
      {
       "output_type": "stream",
       "stream": "stdout",
       "text": [
        "  context child   verb  entropysubcat  marginalsubcat  entropylexical  \\\n",
        "0  dinner  andy  catch      -0.000000               1        2.807355   \n",
        "1  dinner  andy   come       1.298795               8        4.075071   \n",
        "2  dinner  andy     do       1.823068              11        4.839372   \n",
        "3  dinner  andy    eat      -0.000000               3        3.921928   \n",
        "4  dinner  andy  enjoy      -0.000000               1        2.584963   \n",
        "\n",
        "   marginallexical  \n",
        "0                1  \n",
        "1                7  \n",
        "2               10  \n",
        "3                3  \n",
        "4                1  \n"
       ]
      }
     ],
     "prompt_number": 10
    },
    {
     "cell_type": "code",
     "collapsed": false,
     "input": [
      "#[entropy_both.marginalsubcat>1]\n",
      "entropy_subcat_counts = entropy_both.pivot_table(index=['marginalsubcat','entropysubcat', 'context'],\n",
      "                                                                                    values=['child'],\n",
      "                                                                                    aggfunc=len,\n",
      "                                                                                    fill_value=0).reset_index().rename(columns={'child' : 'n'})\n",
      "\n",
      "# [entropy_both.marginallexical>1]\n",
      "entropy_lexical_counts = entropy_both.pivot_table(index=['marginallexical','entropylexical', 'context'],\n",
      "                                                                                    values=['child'],\n",
      "                                                                                    aggfunc=len,\n",
      "                                                                                    fill_value=0).reset_index().rename(columns={'child' : 'n'})\n",
      "\n",
      "%Rpush entropy_subcat_counts entropy_lexical_counts"
     ],
     "language": "python",
     "metadata": {},
     "outputs": [],
     "prompt_number": 11
    },
    {
     "cell_type": "code",
     "collapsed": false,
     "input": [
      "%%R -w 8 -h 6 -u in\n",
      "\n",
      "library(ggplot2)\n",
      "library(dplyr)\n",
      "\n",
      "theme_set(theme_bw() + theme(panel.grid=element_blank()))\n",
      "\n",
      "entropy_subcat_counts$context <- relevel(entropy_subcat_counts$context, 'play')\n",
      "entropy_both$context <- relevel(entropy_both$context, 'play')\n",
      "\n",
      "ggplot(subset(entropy_subcat_counts, n>0), aes(x=marginalsubcat, y=entropysubcat, size=n)) +\n",
      "geom_point(aes(x=marginalsubcat+abs(rnorm(length(entropysubcat), 0, .05)), y=entropysubcat+abs(rnorm(length(entropysubcat), 0, .05)), shape=context), alpha=.25) +\n",
      "geom_smooth(data=entropy_both, aes(linetype=context), color=\"black\",  method=\"lm\", fullrange=T, se=F, size=1.5, alpha=.01) +\n",
      "scale_x_log10(name='Verb frequency', limits=c(1, 90), breaks=c(seq(1,9),seq(10,90,10),seq(100,900,100),seq(1000,9000,1000)), labels=c(1,rep('', 8),10,rep('', 8),100,rep('', 8),1000,rep('', 8))) + \n",
      "scale_y_continuous(name='Entropy (bits)', breaks=seq(0, 4), limits=c(0,4), labels=seq(0,4))+#, breaks=log(seq(1,30),2), labels=seq(1,30)) +\n",
      "#scale_color_brewer(name='Context of\\nUtterance', type=\"qual\", palette=6) +\n",
      "scale_shape_manual(name='Context of\\nUtterance', values=c(16,1), guide=F) +\n",
      "scale_linetype(name='Context of\\nUtterance') +\n",
      "scale_size(guide=F) + \n",
      "theme(legend.position=c(.9,.12), axis.text=element_text(size=13),axis.title=element_text(size=20), \n",
      "      legend.title=element_text(size=15),legend.text=element_text(size=13), plot.title=element_text(size=22)) +\n",
      "ggtitle('Subcategorization frame distributions')\n",
      "\n",
      "#ggsave('plots/entropysubcat.png', width=8,height=6)"
     ],
     "language": "python",
     "metadata": {},
     "outputs": [
      {
       "metadata": {},
       "output_type": "display_data",
       "png": "[encoded data removed]"
      }
     ],
     "prompt_number": 71
    },
    {
     "cell_type": "code",
     "collapsed": false,
     "input": [
      "%%R -w 8 -h 6 -u in\n",
      "\n",
      "library(ggplot2)\n",
      "library(dplyr)\n",
      "\n",
      "theme_set(theme_bw() + theme(panel.grid=element_blank()))\n",
      "\n",
      "entropy_lexical_counts$context <- relevel(entropy_lexical_counts$context, 'play')\n",
      "\n",
      "ggplot(subset(entropy_lexical_counts, n>0), aes(x=marginallexical, y=entropylexical, size=n)) +\n",
      "geom_point(aes(x=marginallexical+abs(rnorm(length(entropylexical), 0, .25)), y=entropylexical+abs(rnorm(length(entropylexical), 0, .1)), shape=context), alpha=.2) +\n",
      "geom_smooth(data=entropy_both, aes(linetype=context), color=\"black\",  method=\"lm\", fullrange=T, se=F,  size=1.5) +\n",
      "scale_x_log10(name='Verb frequency', limits=c(1, 90), breaks=c(seq(1,9),seq(10,90,10),seq(100,900,100),seq(1000,9000,1000)), labels=c(1,rep('', 8),10,rep('', 8),100,rep('', 8),1000,rep('', 8))) + \n",
      "scale_y_continuous(name='Entropy (bits)', breaks=seq(0, 9), limits=c(0,9), labels=seq(0,9))+#, breaks=log(seq(1,30),2), labels=seq(1,30)) +\n",
      "#scale_color_brewer(name='Context of\\nUtterance', type=\"qual\", palette=6) +\n",
      "scale_shape_manual(name='Context of\\nUtterance', values=c(16,1), guide=F) +\n",
      "scale_linetype(name='Context of\\nUtterance') +\n",
      "scale_size(guide=F) + \n",
      "theme(legend.position=c(.9,.12), axis.text=element_text(size=13),axis.title=element_text(size=20), \n",
      "      legend.title=element_text(size=15),legend.text=element_text(size=13), plot.title=element_text(size=22)) +\n",
      "ggtitle('Lexical distributions')\n",
      "\n",
      "#ggsave('plots/entropylexical.png', width=8,height=6)"
     ],
     "language": "python",
     "metadata": {},
     "outputs": [
      {
       "metadata": {},
       "output_type": "display_data",
       "png": "[encoded data removed]"
      }
     ],
     "prompt_number": 72
    },
    {
     "cell_type": "code",
     "collapsed": false,
     "input": [
      "%%R\n",
      "library(lme4)\n",
      "\n",
      "entropy_both$logmarginalsubcat <- log10(entropy_both$marginalsubcat)\n",
      "entropy_both$context <- relevel(entropy_both$context, 'play')\n",
      "\n",
      "m.full.subcat <- lmer(entropysubcat ~ context*logmarginalsubcat + (1+context+logmarginalsubcat|child) + (1+context+logmarginalsubcat|verb), \n",
      "                      data=entropy_both, REML=F)"
     ],
     "language": "python",
     "metadata": {},
     "outputs": [
      {
       "output_type": "stream",
       "stream": "stderr",
       "text": [
        "/usr/local/lib/python2.7/dist-packages/rpy2/robjects/functions.py:106: UserWarning: Loading required package: Matrix\n",
        "\n",
        "  res = super(Function, self).__call__(*new_args, **new_kwargs)\n"
       ]
      }
     ],
     "prompt_number": 21
    },
    {
     "cell_type": "code",
     "collapsed": false,
     "input": [
      "%%R\n",
      "\n",
      "m.nointer.subcat <- lmer(entropysubcat ~ context+logmarginalsubcat + (1+context+logmarginalsubcat|child) + (1+context+logmarginalsubcat|verb), \n",
      "                         data=entropy_both, REML=F)\n",
      "\n",
      "anova(m.nointer.subcat, m.full.subcat)"
     ],
     "language": "python",
     "metadata": {},
     "outputs": [
      {
       "metadata": {},
       "output_type": "display_data",
       "text": [
        "Data: entropy_both\n",
        "Models:\n",
        "m.nointer.subcat: entropysubcat ~ context + logmarginalsubcat + (1 + context + \n",
        "m.nointer.subcat:     logmarginalsubcat | child) + (1 + context + logmarginalsubcat | \n",
        "m.nointer.subcat:     verb)\n",
        "m.full.subcat: entropysubcat ~ context * logmarginalsubcat + (1 + context + \n",
        "m.full.subcat:     logmarginalsubcat | child) + (1 + context + logmarginalsubcat | \n",
        "m.full.subcat:     verb)\n",
        "                 Df    AIC    BIC  logLik deviance Chisq Chi Df Pr(>Chisq)    \n",
        "m.nointer.subcat 16 3713.4 3813.8 -1840.7   3681.4                            \n",
        "m.full.subcat    17 3647.6 3754.2 -1806.8   3613.6 67.78      1  < 2.2e-16 ***\n",
        "---\n",
        "Signif. codes:  0 \u2018***\u2019 0.001 \u2018**\u2019 0.01 \u2018*\u2019 0.05 \u2018.\u2019 0.1 \u2018 \u2019 1\n"
       ]
      }
     ],
     "prompt_number": 713
    },
    {
     "cell_type": "code",
     "collapsed": false,
     "input": [
      "%%R\n",
      "cat('($\\\\chi^2($1$)$ =', round(deviance(m.nointer.subcat)-deviance(m.full.subcat), 2), '), $p <$ 0.001)')"
     ],
     "language": "python",
     "metadata": {},
     "outputs": [
      {
       "metadata": {},
       "output_type": "display_data",
       "text": [
        "($\\chi^2($1$)$ = 67.78 ), $p <$ 0.001)"
       ]
      }
     ],
     "prompt_number": 811
    },
    {
     "cell_type": "code",
     "collapsed": false,
     "input": [
      "%%R\n",
      "summary(m.full.subcat)"
     ],
     "language": "python",
     "metadata": {},
     "outputs": [
      {
       "metadata": {},
       "output_type": "display_data",
       "text": [
        "Linear mixed model fit by maximum likelihood  ['lmerMod']\n",
        "Formula: entropysubcat ~ context * logmarginalsubcat + (1 + context +  \n",
        "    logmarginalsubcat | child) + (1 + context + logmarginalsubcat |      verb)\n",
        "   Data: entropy_both\n",
        "\n",
        "     AIC      BIC   logLik deviance df.resid \n",
        "  3647.6   3754.2  -1806.8   3613.6     3907 \n",
        "\n",
        "Scaled residuals: \n",
        "    Min      1Q  Median      3Q     Max \n",
        "-4.6847 -0.2199 -0.0990  0.4572  3.8739 \n",
        "\n",
        "Random effects:\n",
        " Groups   Name              Variance  Std.Dev. Corr       \n",
        " verb     (Intercept)       0.0022313 0.04724             \n",
        "          contextdinner     0.0089282 0.09449  -1.00      \n",
        "          logmarginalsubcat 0.2395322 0.48942   0.11 -0.08\n",
        " child    (Intercept)       0.0001576 0.01255             \n",
        "          contextdinner     0.0018778 0.04333  -0.94      \n",
        "          logmarginalsubcat 0.0051394 0.07169   0.56 -0.25\n",
        " Residual                   0.1323688 0.36383             \n",
        "Number of obs: 3924, groups:  verb, 578; child, 22\n",
        "\n",
        "Fixed effects:\n",
        "                                Estimate Std. Error t value\n",
        "(Intercept)                      0.04274    0.01195   3.578\n",
        "contextdinner                   -0.01240    0.01948  -0.637\n",
        "logmarginalsubcat                1.38438    0.04903  28.236\n",
        "contextdinner:logmarginalsubcat  0.24272    0.03164   7.670\n",
        "\n",
        "Correlation of Fixed Effects:\n",
        "            (Intr) cntxtd lgmrgn\n",
        "contextdnnr -0.691              \n",
        "lgmrgnlsbct -0.279  0.100       \n",
        "cntxtdnnr:l  0.334 -0.491 -0.247\n"
       ]
      }
     ],
     "prompt_number": 22
    },
    {
     "cell_type": "code",
     "collapsed": false,
     "input": [
      "%%R\n",
      "\n",
      "entropy_subcat_counts$logmarginalsubcat <- log10(entropy_subcat_counts$marginalsubcat)\n",
      "entropy_both$entropysubcat.pred <- entropy_both$entropysubcat-predict(m.full.subcat)\n",
      "\n",
      "ggplot(entropy_both, aes(x=marginalsubcat, y=entropysubcat.pred)) +\n",
      "geom_point(alpha=.1) +\n",
      "geom_smooth(method=\"lm\", se=F, color=\"black\", size=1.5) +\n",
      "#geom_smooth(method=\"lm\", formula=y~poly(x,2),se=F, color=\"black\", size=1.5, linetype=3, aes(x=marginalsubcat, y=2*sqrt((entropysubcat-predict(m.full.subcat))**2))) +\n",
      "#geom_smooth(method=\"lm\", formula=y~poly(x,2),se=F, color=\"black\", size=1.5, linetype=3, aes(x=marginalsubcat, y=-2*sqrt((entropysubcat-predict(m.full.subcat))**2))) +\n",
      "scale_x_log10(name='Verb frequency', limits=c(1, 90), breaks=c(seq(1,9),seq(10,90,10),seq(100,900,100),seq(1000,9000,1000)), labels=c(1,rep('', 8),10,rep('', 8),100,rep('', 8),1000,rep('', 8))) + \n",
      "scale_y_continuous(name='Residual entropy (bits)', breaks=seq(-2, 2), limits=c(-1.5,1.5), labels=seq(-2,2))+#, breaks=log(seq(1,30),2), labels=seq(1,30)) +\n",
      "scale_color_brewer(name='Context of\\nUtterance', type=\"qual\", palette=6) +\n",
      "scale_linetype(name='Context of\\nUtterance') +\n",
      "scale_size(guide=F) + \n",
      "theme(legend.position=c(.85,.15))"
     ],
     "language": "python",
     "metadata": {},
     "outputs": [
      {
       "metadata": {},
       "output_type": "display_data",
       "png": "[encoded data removed]"
      }
     ],
     "prompt_number": 24
    },
    {
     "cell_type": "code",
     "collapsed": false,
     "input": [
      "%%R\n",
      "cat(mean(entropy_both$entropysubcat.pred), median(entropy_both$entropysubcat.pred))"
     ],
     "language": "python",
     "metadata": {},
     "outputs": [
      {
       "metadata": {},
       "output_type": "display_data",
       "text": [
        "-4.306376e-16 -0.03601239"
       ]
      }
     ],
     "prompt_number": 33
    },
    {
     "cell_type": "code",
     "collapsed": false,
     "input": [
      "%%R\n",
      "cor.test(log10(entropy_both$marginalsubcat), entropy_both$entropysubcat.pred)"
     ],
     "language": "python",
     "metadata": {},
     "outputs": [
      {
       "metadata": {},
       "output_type": "display_data",
       "text": [
        "\n",
        "\tPearson's product-moment correlation\n",
        "\n",
        "data:  log10(entropy_both$marginalsubcat) and entropy_both$entropysubcat.pred\n",
        "t = 2.808e-13, df = 3922, p-value = 1\n",
        "alternative hypothesis: true correlation is not equal to 0\n",
        "95 percent confidence interval:\n",
        " -0.03129017  0.03129017\n",
        "sample estimates:\n",
        "         cor \n",
        "4.483727e-15 \n",
        "\n"
       ]
      }
     ],
     "prompt_number": 808
    },
    {
     "cell_type": "code",
     "collapsed": false,
     "input": [
      "%%R\n",
      "\n",
      "m.white.interonly <- lm(entropysubcat.pred ~ 1, data=entropy_both)\n",
      "m.white.full <- lm(entropysubcat.pred ~ context*poly(logmarginalsubcat, 2, raw=T), data=entropy_both)\n",
      "\n",
      "chisq.stat <- deviance(m.white.interonly) - deviance(m.white.full)\n",
      "\n",
      "cat('($\\\\chi^2($5$)$ =', round(chisq.stat, 2), '), $p <$ 0.001)')"
     ],
     "language": "python",
     "metadata": {},
     "outputs": [
      {
       "metadata": {},
       "output_type": "display_data",
       "text": [
        "($\\chi^2($5$)$ = 9.11 ), $p <$ 0.001)"
       ]
      }
     ],
     "prompt_number": 809
    },
    {
     "cell_type": "code",
     "collapsed": false,
     "input": [
      "%%R\n",
      "library(lme4)\n",
      "\n",
      "summary(m.full.lexical <- lmer(entropylexical ~ context*log10(marginallexical) + (1+context*log10(marginallexical)|child) + (1+context*log10(marginallexical)|verb), data=entropy_both, REML=F))"
     ],
     "language": "python",
     "metadata": {},
     "outputs": [
      {
       "metadata": {},
       "output_type": "display_data",
       "text": [
        "Linear mixed model fit by maximum likelihood  ['lmerMod']\n",
        "Formula: entropylexical ~ context * log10(marginallexical) + (1 + context *  \n",
        "    log10(marginallexical) | child) + (1 + context * log10(marginallexical) |  \n",
        "    verb)\n",
        "   Data: entropy_both\n",
        "\n",
        "     AIC      BIC   logLik deviance df.resid \n",
        "  9031.7   9188.6  -4490.8   8981.7     3899 \n",
        "\n",
        "Scaled residuals: \n",
        "    Min      1Q  Median      3Q     Max \n",
        "-6.1432 -0.4924  0.0722  0.5947  3.6059 \n",
        "\n",
        "Random effects:\n",
        " Groups   Name                                 Variance Std.Dev. Corr       \n",
        " verb     (Intercept)                          0.299263 0.54705             \n",
        "          contextdinner                        0.199524 0.44668  -0.48      \n",
        "          log10(marginallexical)               0.241654 0.49158  -0.90  0.47\n",
        "          contextdinner:log10(marginallexical) 0.098225 0.31341   0.53 -1.00\n",
        " child    (Intercept)                          0.022074 0.14857             \n",
        "          contextdinner                        0.085047 0.29163  -0.37      \n",
        "          log10(marginallexical)               0.004167 0.06455   0.05  0.42\n",
        "          contextdinner:log10(marginallexical) 0.021193 0.14558   0.01 -0.91\n",
        " Residual                                      0.470084 0.68563             \n",
        "      \n",
        "      \n",
        "      \n",
        "      \n",
        " -0.54\n",
        "      \n",
        "      \n",
        "      \n",
        " -0.30\n",
        "      \n",
        "Number of obs: 3924, groups:  verb, 578; child, 22\n",
        "\n",
        "Fixed effects:\n",
        "                                     Estimate Std. Error t value\n",
        "(Intercept)                           2.49355    0.04835   51.57\n",
        "contextdinner                         0.12581    0.07565    1.66\n",
        "log10(marginallexical)                2.23472    0.05175   43.19\n",
        "contextdinner:log10(marginallexical)  0.21110    0.06679    3.16\n",
        "\n",
        "Correlation of Fixed Effects:\n",
        "            (Intr) cntxtd lg10()\n",
        "contextdnnr -0.461              \n",
        "lg10(mrgnl) -0.477  0.324       \n",
        "cntxtd:10()  0.249 -0.677 -0.441\n"
       ]
      }
     ],
     "prompt_number": 27
    },
    {
     "cell_type": "code",
     "collapsed": false,
     "input": [
      "%%R\n",
      "\n",
      "m.nointer.lexical <- lmer(entropylexical ~ context+log10(marginallexical) + (1+context*log10(marginallexical)|child) + (1+context*log10(marginallexical)|verb), data=entropy_both, REML=F)\n",
      "\n",
      "anova(m.nointer.lexical, m.full.lexical)"
     ],
     "language": "python",
     "metadata": {},
     "outputs": [
      {
       "metadata": {},
       "output_type": "display_data",
       "text": [
        "Data: entropy_both\n",
        "Models:\n",
        "m.nointer.lexical: entropylexical ~ context + log10(marginallexical) + (1 + context * \n",
        "m.nointer.lexical:     log10(marginallexical) | child) + (1 + context * log10(marginallexical) | \n",
        "m.nointer.lexical:     verb)\n",
        "m.full.lexical: entropylexical ~ context * log10(marginallexical) + (1 + context * \n",
        "m.full.lexical:     log10(marginallexical) | child) + (1 + context * log10(marginallexical) | \n",
        "m.full.lexical:     verb)\n",
        "                  Df    AIC    BIC  logLik deviance  Chisq Chi Df Pr(>Chisq)  \n",
        "m.nointer.lexical 24 9035.7 9186.3 -4493.9   8987.7                           \n",
        "m.full.lexical    25 9031.7 9188.6 -4490.8   8981.7 6.0354      1    0.01402 *\n",
        "---\n",
        "Signif. codes:  0 \u2018***\u2019 0.001 \u2018**\u2019 0.01 \u2018*\u2019 0.05 \u2018.\u2019 0.1 \u2018 \u2019 1\n"
       ]
      }
     ],
     "prompt_number": 746
    },
    {
     "cell_type": "code",
     "collapsed": false,
     "input": [
      "%%R\n",
      "cat('($\\\\chi^2($1$)$ =', round(deviance(m.nointer.lexical)-deviance(m.full.lexical), 2), '), $p <$ 0.05)')"
     ],
     "language": "python",
     "metadata": {},
     "outputs": [
      {
       "metadata": {},
       "output_type": "display_data",
       "text": [
        "($\\chi^2($1$)$ = 6.04 ), $p <$ 0.05)"
       ]
      }
     ],
     "prompt_number": 812
    },
    {
     "cell_type": "code",
     "collapsed": false,
     "input": [
      "%%R\n",
      "\n",
      "entropy_lexical_counts$logmarginallexical <- log10(entropy_lexical_counts$marginallexical)\n",
      "entropy_both$entropylexical.pred <- entropy_both$entropylexical-predict(m.full.lexical)\n",
      "\n",
      "ggplot(entropy_both, aes(x=marginallexical, y=entropylexical.pred)) +\n",
      "geom_point(alpha=.1) +\n",
      "geom_smooth(method=\"lm\", se=F, color=\"black\", size=1.5) +\n",
      "geom_smooth(method=\"rlm\", se=F, color=\"black\", size=1.5) +\n",
      "#geom_smooth(method=\"lm\", formula=y~poly(x,2),se=F, color=\"black\", size=1.5, linetype=3, aes(x=marginallexical, y=2*sqrt((entropylexical-predict(m.full.lexical))**2))) +\n",
      "#geom_smooth(method=\"lm\", formula=y~poly(x,2),se=F, color=\"black\", size=1.5, linetype=3, aes(x=marginallexical, y=-2*sqrt((entropylexical-predict(m.full.lexical))**2))) +\n",
      "scale_x_log10(name='Verb frequency', limits=c(1, 90), breaks=c(seq(1,9),seq(10,90,10),seq(100,900,100),seq(1000,9000,1000)), labels=c(1,rep('', 8),10,rep('', 8),100,rep('', 8),1000,rep('', 8))) + \n",
      "scale_y_continuous(name='Residual entropy (bits)', breaks=seq(-2, 2), limits=c(-1.5,1.5), labels=seq(-2,2))+#, breaks=log(seq(1,30),2), labels=seq(1,30)) +\n",
      "scale_color_brewer(name='Context of\\nUtterance', type=\"qual\", palette=6) +\n",
      "scale_linetype(name='Context of\\nUtterance') +\n",
      "scale_size(guide=F) + \n",
      "theme(legend.position=c(.85,.15))"
     ],
     "language": "python",
     "metadata": {},
     "outputs": [
      {
       "metadata": {},
       "output_type": "display_data",
       "png": "[encoded data removed]"
      }
     ],
     "prompt_number": 28
    },
    {
     "cell_type": "code",
     "collapsed": false,
     "input": [
      "%%R\n",
      "m.white.interonly <- lm(entropylexical.pred ~ 1, data=entropy_both)\n",
      "m.white.full <- lm(entropylexical.pred ~ context*poly(logmarginalsubcat, 2, raw=T), data=entropy_both)\n",
      "\n",
      "chisq.stat <- deviance(m.white.interonly) - deviance(m.white.full)\n",
      "\n",
      "cat('($\\\\chi^2($5$)$ =', round(chisq.stat, 2), '), $p <$ 0.01)')\n",
      "\n",
      "anova(m.white.interonly, m.white.full)"
     ],
     "language": "python",
     "metadata": {},
     "outputs": [
      {
       "metadata": {},
       "output_type": "display_data",
       "text": [
        "($\\chi^2($5$)$ = 7.6 ), $p <$ 0.01)Analysis of Variance Table\n",
        "\n",
        "Model 1: entropylexical.pred ~ 1\n",
        "Model 2: entropylexical.pred ~ context * poly(logmarginalsubcat, 2, raw = T)\n",
        "  Res.Df    RSS Df Sum of Sq      F   Pr(>F)   \n",
        "1   3923 1621.0                                \n",
        "2   3918 1613.4  5    7.5956 3.6891 0.002475 **\n",
        "---\n",
        "Signif. codes:  0 \u2018***\u2019 0.001 \u2018**\u2019 0.01 \u2018*\u2019 0.05 \u2018.\u2019 0.1 \u2018 \u2019 1\n"
       ]
      }
     ],
     "prompt_number": 36
    },
    {
     "cell_type": "code",
     "collapsed": false,
     "input": [
      "%%R\n",
      "cat(mean(entropy_both$entropylexical.pred), median(entropy_both$entropylexical.pred))"
     ],
     "language": "python",
     "metadata": {},
     "outputs": [
      {
       "metadata": {},
       "output_type": "display_data",
       "text": [
        "1.566806e-15 0.04948431"
       ]
      }
     ],
     "prompt_number": 31
    },
    {
     "cell_type": "code",
     "collapsed": false,
     "input": [
      "%%R\n",
      "cor.test(log10(entropy_both$marginallexical), entropy_both$entropylexical.pred)"
     ],
     "language": "python",
     "metadata": {},
     "outputs": [
      {
       "metadata": {},
       "output_type": "display_data",
       "text": [
        "\n",
        "\tPearson's product-moment correlation\n",
        "\n",
        "data:  log10(entropy_both$marginallexical) and entropy_both$entropylexical.pred\n",
        "t = -1.1904e-12, df = 3922, p-value = 1\n",
        "alternative hypothesis: true correlation is not equal to 0\n",
        "95 percent confidence interval:\n",
        " -0.03129017  0.03129017\n",
        "sample estimates:\n",
        "          cor \n",
        "-1.900885e-14 \n",
        "\n"
       ]
      }
     ],
     "prompt_number": 32
    },
    {
     "cell_type": "code",
     "collapsed": false,
     "input": [
      "%%R\n",
      "cor.test(log10(entropy_both$marginallexical), entropy_both$entropylexical.pred)"
     ],
     "language": "python",
     "metadata": {},
     "outputs": [
      {
       "metadata": {},
       "output_type": "display_data",
       "text": [
        "\n",
        "\tPearson's product-moment correlation\n",
        "\n",
        "data:  log10(entropy_both$marginallexical) and entropy_both$entropylexical.pred\n",
        "t = -1.1904e-12, df = 3922, p-value = 1\n",
        "alternative hypothesis: true correlation is not equal to 0\n",
        "95 percent confidence interval:\n",
        " -0.03129017  0.03129017\n",
        "sample estimates:\n",
        "          cor \n",
        "-1.900885e-14 \n",
        "\n"
       ]
      }
     ],
     "prompt_number": 817
    },
    {
     "cell_type": "code",
     "collapsed": false,
     "input": [
      "%%R\n",
      "\n",
      "m.white.interonly <- lm(entropylexical.pred ~ 1, data=entropy_both)\n",
      "m.white.full <- lm(entropylexical.pred ~ context*poly(log10(marginallexical), 2, raw=T), data=entropy_both)\n",
      "\n",
      "chisq.stat <- deviance(m.white.interonly) - deviance(m.white.full)\n",
      "\n",
      "cat('($\\\\chi^2($5$)$ =', round(chisq.stat, 2), '), $p <$ 0.001)')"
     ],
     "language": "python",
     "metadata": {},
     "outputs": [
      {
       "metadata": {},
       "output_type": "display_data",
       "text": [
        "($\\chi^2($5$)$ = 7.17 ), $p <$ 0.001)"
       ]
      }
     ],
     "prompt_number": 819
    },
    {
     "cell_type": "code",
     "collapsed": false,
     "input": [
      "%%R\n",
      "\n",
      "ggplot(entropy_both, aes(x=entropy_x, y=entropy_y)) + \n",
      "geom_point(aes(color=context), size=.5) +\n",
      "geom_smooth(aes(linetype=context), color=\"black\",  method=\"lm\", formula=y~poly(x,1), fullrange=T, se=F, size=1.5) +\n",
      "#geom_label(data=entropy.sub, aes(x=marginal, y=log(entropy,2), label=verb), inherit.aes=F) +\n",
      "scale_x_continuous(name='Subcategorization frame entropy (bits)', breaks=seq(0,7)) +\n",
      "scale_y_continuous(name='Lexical entropy (bits)', breaks=seq(0,7)) +\n",
      "scale_color_brewer(type=\"qual\", palette=6)"
     ],
     "language": "python",
     "metadata": {},
     "outputs": [
      {
       "metadata": {},
       "output_type": "display_data",
       "png": "[encoded data removed]"
      }
     ],
     "prompt_number": 51
    },
    {
     "cell_type": "code",
     "collapsed": false,
     "input": [],
     "language": "python",
     "metadata": {},
     "outputs": []
    },
    {
     "cell_type": "code",
     "collapsed": false,
     "input": [
      "def compute_entropy(cnts):\n",
      "    dist = cnts / cnts.sum() \n",
      "    return -np.sum(dist * np.log2(dist))\n",
      "\n",
      "entropy_resampled = []\n",
      "\n",
      "subcats_np = np.array(subcats)\n",
      "\n",
      "subcats_resampled = []\n",
      "\n",
      "for i in range(99):\n",
      "    \n",
      "    data_resampled_temp = []\n",
      "    \n",
      "    for child in children:\n",
      "        subcats_child = subcats_np[subcats_np[:,0]==child]\n",
      "        \n",
      "        dinner_count = subcats_child[subcats_child[:,1]=='dinner',1].shape[0]\n",
      "        play_count = subcats_child.shape[0] - dinner_count\n",
      "        \n",
      "        smaller = np.min([dinner_count, play_count])\n",
      "        \n",
      "        for context in ['dinner', 'play']:\n",
      "            subcats_child_context = subcats_child[subcats_child[:,1]==context]\n",
      "            subcats_child_context = subcats_child_context[np.random.choice(subcats_child_context.shape[0],\n",
      "                                                                           size=smaller, replace=False)]\n",
      "\n",
      "            child_verbs = np.unique(subcats_child_context[:,2])\n",
      "\n",
      "            for verb in child_verbs:\n",
      "                subcats_child_context_verb = subcats_child_context[subcats_child_context[:,2]==verb]\n",
      "                subcats_child_context_verb = subcats_child_context_verb[np.random.choice(subcats_child_context_verb.shape[0],\n",
      "                                                                                         subcats_child_context_verb.shape[0], \n",
      "                                                                                         replace=True)]\n",
      "\n",
      "                data_resampled_temp.append(subcats_child_context_verb)\n",
      "            \n",
      "    data_resampled_temp = np.concatenate(data_resampled_temp, axis=0)\n",
      "    \n",
      "    data_resampled_temp[:,4] = i\n",
      "    \n",
      "    subcats_resampled.append(data_resampled_temp)\n",
      "    \n",
      "subcats_resampled = np.concatenate(subcats_resampled, axis=0)\n",
      "\n",
      "\n",
      "subcats_resampled = pd.DataFrame(subcats_resampled, columns=['child', 'context', 'verb', 'frame', 'sample'])"
     ],
     "language": "python",
     "metadata": {},
     "outputs": [],
     "prompt_number": 579
    },
    {
     "cell_type": "code",
     "collapsed": false,
     "input": [
      "def fit_zeroinfl_gamma(dv):\n",
      "    predictors_fixed = np.concatenate([np.ones(entropy_both.shape[0])[:,None],\n",
      "                                       np.array(entropy_both.context.cat.codes)[:,None], \n",
      "                                       np.log10(np.array(entropy_both.marginallexical))[:,None],\n",
      "                                       np.array(entropy_both.context.cat.codes)[:,None]*\\\n",
      "                                       np.log10(np.array(entropy_both.marginallexical))[:,None]], \n",
      "                                      axis=1)\n",
      "    \n",
      "    predictors_random = predictors_fixed[:,[0,1]]\n",
      "    \n",
      "    ## logit model\n",
      "    \n",
      "    fixed_logit = pm.MvNormal('fixed_logit', \n",
      "                        np.zeros(predictors_fixed.shape[1]), \n",
      "                        np.eye(predictors_fixed.shape[1]), \n",
      "                        value=[-5., 5., 0., 0.])\n",
      "\n",
      "    random_child_prior_logit = pm.Wishart('childprior_logit',\n",
      "                                    #entropy_both.child.cat.categories.shape[0],\n",
      "                                    predictors_random.shape[1],\n",
      "                                    np.eye(predictors_random.shape[1]))\n",
      "    random_child_logit = pm.MvNormal('child_logit', \n",
      "                               np.zeros(predictors_random.shape[1]), \n",
      "                               random_child_prior_logit, \n",
      "                               value=np.zeros([entropy_both.child.cat.categories.shape[0], \n",
      "                                               predictors_random.shape[1]]))\n",
      "    \n",
      "    random_verb_prior_logit = pm.Wishart('verbprior_logit',\n",
      "                                   #entropy_both.verb.cat.categories.shape[0],\n",
      "                                   predictors_random.shape[1],\n",
      "                                   np.eye(predictors_random.shape[1]))\n",
      "    random_verb_logit = pm.MvNormal('verb_logit', \n",
      "                               np.zeros(predictors_random.shape[1]), \n",
      "                               random_verb_prior_logit, \n",
      "                               value=np.zeros([entropy_both.verb.cat.categories.shape[0], \n",
      "                                               predictors_random.shape[1]]))\n",
      "\n",
      "    @pm.deterministic\n",
      "    def expected_logit(f=fixed_logit, rc=random_child_logit, rv=random_verb_logit):\n",
      "        rawval = np.dot(predictors_fixed, f[:,None]) +\\\n",
      "                 np.sum(predictors_random*rc[entropy_both.child.cat.codes], axis=1)[:,None] +\\\n",
      "                 np.sum(predictors_random*rv[entropy_both.verb.cat.codes], axis=1)[:,None]\n",
      "        \n",
      "        return 1. / (1. + np.exp(rawval))\n",
      "\n",
      "    zero = pm.Bernoulli('zero',\n",
      "                 expected_logit,\n",
      "                 value=np.array(entropy_both[dv]==0.)[:,None])\n",
      "    \n",
      "    \n",
      "        ## gamma model\n",
      "    \n",
      "    fixed_gamma = pm.MvNormal('fixed_gamma', \n",
      "                        np.zeros(predictors_fixed.shape[1]), \n",
      "                        np.eye(predictors_fixed.shape[1]), \n",
      "                        value=[0.78235, -0.06880, 0.64980, 0.16832])\n",
      "    \n",
      "    random_child_prior_gamma = pm.Wishart('childprior_gamma',\n",
      "                                    #entropy_both.child.cat.categories.shape[0],\n",
      "                                    predictors_random.shape[1],\n",
      "                                    np.eye(predictors_random.shape[1]))\n",
      "    random_child_gamma = pm.MvNormal('child_gamma', \n",
      "                               np.zeros(predictors_random.shape[1]), \n",
      "                               random_child_prior_gamma, \n",
      "                               value=np.zeros([entropy_both.child.cat.categories.shape[0], \n",
      "                                               predictors_random.shape[1]]))\n",
      "    \n",
      "    random_verb_prior_gamma = pm.Wishart('verbprior_gamma',\n",
      "                                   #entropy_both.verb.cat.categories.shape[0],\n",
      "                                   predictors_random.shape[1],\n",
      "                                   np.eye(predictors_random.shape[1]))\n",
      "    random_verb_gamma = pm.MvNormal('verb_gamma', \n",
      "                               np.zeros(predictors_random.shape[1]), \n",
      "                               random_verb_prior_gamma, \n",
      "                               value=np.zeros([entropy_both.verb.cat.categories.shape[0], \n",
      "                                               predictors_random.shape[1]]))\n",
      "    \n",
      "    @pm.deterministic\n",
      "    def expected_gamma(f=fixed_gamma, rc=random_child_gamma, rv=random_verb_gamma, z=zero):\n",
      "        rawval = np.dot(predictors_fixed, f[:,None]) +\\\n",
      "                 np.sum(predictors_random*rc[entropy_both.child.cat.codes], axis=1)[:,None] +\\\n",
      "                 np.sum(predictors_random*rv[entropy_both.verb.cat.codes], axis=1)[:,None]\n",
      "                \n",
      "        return np.where(z[:,0]==0., 1e-6, rawval[:,0])\n",
      "    \n",
      "#     fixed_rate = pm.Gamma(name='fixed_rate',\n",
      "#                           alpha=0.001,\n",
      "#                           beta=0.001,\n",
      "#                           value=1.,\n",
      "#                           observed=False)\n",
      "\n",
      "#     @pm.deterministic\n",
      "#     def alpha(mean=expected_gamma, beta=fixed_rate):\n",
      "#         return beta*mean\n",
      "        \n",
      "    gamma_obs = pm.Gamma(name='gammaobs',\n",
      "                         alpha=expected_gamma,#alpha,\n",
      "                         beta=1.,#fixed_rate,\n",
      "                         value=np.array(entropy_both[dv])[:,None],\n",
      "                         observed=True)\n",
      "    \n",
      "    v = [random_child_prior_gamma, random_child_gamma, random_verb_prior_gamma, random_verb_gamma,\n",
      "         random_child_prior_logit, random_child_logit, random_verb_prior_logit, random_verb_logit, zero,\n",
      "         expected_logit, expected_gamma, gamma_obs]#, fixed_rate]\n",
      "        \n",
      "    m_mcmc = pm.MCMC(v)\n",
      "    m_mcmc.sample(11000, 1000, 100)\n",
      "    \n",
      "    v += [fixed_gamma, fixed_logit]\n",
      "    \n",
      "    m_mcmc = pm.MCMC(v)\n",
      "    m_mcmc.sample(11000, 1000, 100)\n",
      "    \n",
      "    return v\n",
      "\n",
      "v = fit_zeroinfl_gamma('entropysubcat')"
     ],
     "language": "python",
     "metadata": {},
     "outputs": [
      {
       "output_type": "stream",
       "stream": "stdout",
       "text": [
        "\r",
        " [                  0%                  ] 33 of 11000 complete in 0.5 sec"
       ]
      },
      {
       "output_type": "stream",
       "stream": "stdout",
       "text": [
        "\r",
        " [                  0%                  ] 68 of 11000 complete in 1.0 sec"
       ]
      },
      {
       "output_type": "stream",
       "stream": "stdout",
       "text": [
        "\r",
        " [                  0%                  ] 102 of 11000 complete in 1.5 sec"
       ]
      },
      {
       "output_type": "stream",
       "stream": "stdout",
       "text": [
        "\r",
        " [                  1%                  ] 130 of 11000 complete in 2.0 sec"
       ]
      },
      {
       "output_type": "stream",
       "stream": "stdout",
       "text": [
        "\r",
        " [                  1%                  ] 164 of 11000 complete in 2.6 sec"
       ]
      },
      {
       "output_type": "stream",
       "stream": "stdout",
       "text": [
        "\r",
        " [                  1%                  ] 197 of 11000 complete in 3.1 sec"
       ]
      },
      {
       "output_type": "stream",
       "stream": "stdout",
       "text": [
        "\r",
        " [                  2%                  ] 232 of 11000 complete in 3.6 sec"
       ]
      },
      {
       "output_type": "stream",
       "stream": "stdout",
       "text": [
        "\r",
        " [                  2%                  ] 267 of 11000 complete in 4.1 sec"
       ]
      },
      {
       "output_type": "stream",
       "stream": "stdout",
       "text": [
        "\r",
        " [-                 2%                  ] 302 of 11000 complete in 4.6 sec"
       ]
      },
      {
       "output_type": "stream",
       "stream": "stdout",
       "text": [
        "\r",
        " [-                 3%                  ] 337 of 11000 complete in 5.1 sec"
       ]
      },
      {
       "output_type": "stream",
       "stream": "stdout",
       "text": [
        "\r",
        " [-                 3%                  ] 371 of 11000 complete in 5.6 sec"
       ]
      },
      {
       "output_type": "stream",
       "stream": "stdout",
       "text": [
        "\r",
        " [-                 3%                  ] 405 of 11000 complete in 6.1 sec"
       ]
      },
      {
       "output_type": "stream",
       "stream": "stdout",
       "text": [
        "\r",
        " [-                 4%                  ] 440 of 11000 complete in 6.6 sec"
       ]
      },
      {
       "output_type": "stream",
       "stream": "stdout",
       "text": [
        "\r",
        " [-                 4%                  ] 474 of 11000 complete in 7.1 sec"
       ]
      },
      {
       "output_type": "stream",
       "stream": "stdout",
       "text": [
        "\r",
        " [-                 4%                  ] 509 of 11000 complete in 7.6 sec"
       ]
      },
      {
       "output_type": "stream",
       "stream": "stdout",
       "text": [
        "\r",
        " [-                 4%                  ] 535 of 11000 complete in 8.1 sec"
       ]
      },
      {
       "output_type": "stream",
       "stream": "stdout",
       "text": [
        "\r",
        " [-                 5%                  ] 570 of 11000 complete in 8.6 sec"
       ]
      },
      {
       "output_type": "stream",
       "stream": "stdout",
       "text": [
        "\r",
        " [--                5%                  ] 605 of 11000 complete in 9.2 sec"
       ]
      },
      {
       "output_type": "stream",
       "stream": "stdout",
       "text": [
        "\r",
        " [--                5%                  ] 639 of 11000 complete in 9.7 sec"
       ]
      },
      {
       "output_type": "stream",
       "stream": "stdout",
       "text": [
        "\r",
        " [--                6%                  ] 673 of 11000 complete in 10.2 sec"
       ]
      },
      {
       "output_type": "stream",
       "stream": "stdout",
       "text": [
        "\r",
        " [--                6%                  ] 708 of 11000 complete in 10.7 sec"
       ]
      },
      {
       "output_type": "stream",
       "stream": "stdout",
       "text": [
        "\r",
        " [--                6%                  ] 744 of 11000 complete in 11.2 sec"
       ]
      },
      {
       "output_type": "stream",
       "stream": "stdout",
       "text": [
        "\r",
        " [--                7%                  ] 779 of 11000 complete in 11.7 sec"
       ]
      },
      {
       "output_type": "stream",
       "stream": "stdout",
       "text": [
        "\r",
        " [--                7%                  ] 814 of 11000 complete in 12.2 sec"
       ]
      },
      {
       "output_type": "stream",
       "stream": "stdout",
       "text": [
        "\r",
        " [--                7%                  ] 850 of 11000 complete in 12.7 sec"
       ]
      },
      {
       "output_type": "stream",
       "stream": "stdout",
       "text": [
        "\r",
        " [---               8%                  ] 885 of 11000 complete in 13.2 sec"
       ]
      },
      {
       "output_type": "stream",
       "stream": "stdout",
       "text": [
        "\r",
        " [---               8%                  ] 921 of 11000 complete in 13.7 sec"
       ]
      },
      {
       "output_type": "stream",
       "stream": "stdout",
       "text": [
        "\r",
        " [---               8%                  ] 957 of 11000 complete in 14.2 sec"
       ]
      },
      {
       "output_type": "stream",
       "stream": "stdout",
       "text": [
        "\r",
        " [---               9%                  ] 993 of 11000 complete in 14.7 sec"
       ]
      },
      {
       "output_type": "stream",
       "stream": "stdout",
       "text": [
        "\r",
        " [---               9%                  ] 1027 of 11000 complete in 15.3 sec"
       ]
      },
      {
       "output_type": "stream",
       "stream": "stdout",
       "text": [
        "\r",
        " [---               9%                  ] 1063 of 11000 complete in 15.8 sec"
       ]
      },
      {
       "output_type": "stream",
       "stream": "stdout",
       "text": [
        "\r",
        " [---               9%                  ] 1099 of 11000 complete in 16.3 sec"
       ]
      },
      {
       "output_type": "stream",
       "stream": "stdout",
       "text": [
        "\r",
        " [---              10%                  ] 1135 of 11000 complete in 16.8 sec"
       ]
      },
      {
       "output_type": "stream",
       "stream": "stdout",
       "text": [
        "\r",
        " [----             10%                  ] 1171 of 11000 complete in 17.3 sec"
       ]
      },
      {
       "output_type": "stream",
       "stream": "stdout",
       "text": [
        "\r",
        " [----             10%                  ] 1207 of 11000 complete in 17.8 sec"
       ]
      },
      {
       "output_type": "stream",
       "stream": "stdout",
       "text": [
        "\r",
        " [----             11%                  ] 1242 of 11000 complete in 18.3 sec"
       ]
      },
      {
       "output_type": "stream",
       "stream": "stdout",
       "text": [
        "\r",
        " [----             11%                  ] 1278 of 11000 complete in 18.8 sec"
       ]
      },
      {
       "output_type": "stream",
       "stream": "stdout",
       "text": [
        "\r",
        " [----             11%                  ] 1314 of 11000 complete in 19.3 sec"
       ]
      },
      {
       "output_type": "stream",
       "stream": "stdout",
       "text": [
        "\r",
        " [----             12%                  ] 1349 of 11000 complete in 19.8 sec"
       ]
      },
      {
       "output_type": "stream",
       "stream": "stdout",
       "text": [
        "\r",
        " [----             12%                  ] 1384 of 11000 complete in 20.3 sec"
       ]
      },
      {
       "output_type": "stream",
       "stream": "stdout",
       "text": [
        "\r",
        " [----             12%                  ] 1419 of 11000 complete in 20.8 sec"
       ]
      },
      {
       "output_type": "stream",
       "stream": "stdout",
       "text": [
        "\r",
        " [-----            13%                  ] 1455 of 11000 complete in 21.4 sec"
       ]
      },
      {
       "output_type": "stream",
       "stream": "stdout",
       "text": [
        "\r",
        " [-----            13%                  ] 1491 of 11000 complete in 21.9 sec"
       ]
      },
      {
       "output_type": "stream",
       "stream": "stdout",
       "text": [
        "\r",
        " [-----            13%                  ] 1527 of 11000 complete in 22.4 sec"
       ]
      },
      {
       "output_type": "stream",
       "stream": "stdout",
       "text": [
        "\r",
        " [-----            14%                  ] 1563 of 11000 complete in 22.9 sec"
       ]
      },
      {
       "output_type": "stream",
       "stream": "stdout",
       "text": [
        "\r",
        " [-----            14%                  ] 1599 of 11000 complete in 23.4 sec"
       ]
      },
      {
       "output_type": "stream",
       "stream": "stdout",
       "text": [
        "\r",
        " [-----            14%                  ] 1634 of 11000 complete in 23.9 sec"
       ]
      },
      {
       "output_type": "stream",
       "stream": "stdout",
       "text": [
        "\r",
        " [-----            15%                  ] 1670 of 11000 complete in 24.4 sec"
       ]
      },
      {
       "output_type": "stream",
       "stream": "stdout",
       "text": [
        "\r",
        " [-----            15%                  ] 1705 of 11000 complete in 24.9 sec"
       ]
      },
      {
       "output_type": "stream",
       "stream": "stdout",
       "text": [
        "\r",
        " [------           15%                  ] 1740 of 11000 complete in 25.4 sec"
       ]
      },
      {
       "output_type": "stream",
       "stream": "stdout",
       "text": [
        "\r",
        " [------           16%                  ] 1775 of 11000 complete in 25.9 sec"
       ]
      },
      {
       "output_type": "stream",
       "stream": "stdout",
       "text": [
        "\r",
        " [------           16%                  ] 1807 of 11000 complete in 26.4 sec"
       ]
      },
      {
       "output_type": "stream",
       "stream": "stdout",
       "text": [
        "\r",
        " [------           16%                  ] 1843 of 11000 complete in 26.9 sec"
       ]
      },
      {
       "output_type": "stream",
       "stream": "stdout",
       "text": [
        "\r",
        " [------           17%                  ] 1878 of 11000 complete in 27.4 sec"
       ]
      },
      {
       "output_type": "stream",
       "stream": "stdout",
       "text": [
        "\r",
        " [------           17%                  ] 1913 of 11000 complete in 27.9 sec"
       ]
      },
      {
       "output_type": "stream",
       "stream": "stdout",
       "text": [
        "\r",
        " [------           17%                  ] 1948 of 11000 complete in 28.5 sec"
       ]
      },
      {
       "output_type": "stream",
       "stream": "stdout",
       "text": [
        "\r",
        " [------           17%                  ] 1979 of 11000 complete in 29.0 sec"
       ]
      },
      {
       "output_type": "stream",
       "stream": "stdout",
       "text": [
        "\r",
        " [------           18%                  ] 2015 of 11000 complete in 29.5 sec"
       ]
      },
      {
       "output_type": "stream",
       "stream": "stdout",
       "text": [
        "\r",
        " [-------          18%                  ] 2050 of 11000 complete in 30.0 sec"
       ]
      },
      {
       "output_type": "stream",
       "stream": "stdout",
       "text": [
        "\r",
        " [-------          18%                  ] 2086 of 11000 complete in 30.5 sec"
       ]
      },
      {
       "output_type": "stream",
       "stream": "stdout",
       "text": [
        "\r",
        " [-------          19%                  ] 2121 of 11000 complete in 31.0 sec"
       ]
      },
      {
       "output_type": "stream",
       "stream": "stdout",
       "text": [
        "\r",
        " [-------          19%                  ] 2156 of 11000 complete in 31.5 sec"
       ]
      },
      {
       "output_type": "stream",
       "stream": "stdout",
       "text": [
        "\r",
        " [-------          19%                  ] 2192 of 11000 complete in 32.0 sec"
       ]
      },
      {
       "output_type": "stream",
       "stream": "stdout",
       "text": [
        "\r",
        " [-------          20%                  ] 2228 of 11000 complete in 32.5 sec"
       ]
      },
      {
       "output_type": "stream",
       "stream": "stdout",
       "text": [
        "\r",
        " [-------          20%                  ] 2264 of 11000 complete in 33.0 sec"
       ]
      },
      {
       "output_type": "stream",
       "stream": "stdout",
       "text": [
        "\r",
        " [-------          20%                  ] 2300 of 11000 complete in 33.5 sec"
       ]
      },
      {
       "output_type": "stream",
       "stream": "stdout",
       "text": [
        "\r",
        " [--------         21%                  ] 2336 of 11000 complete in 34.0 sec"
       ]
      },
      {
       "output_type": "stream",
       "stream": "stdout",
       "text": [
        "\r",
        " [--------         21%                  ] 2371 of 11000 complete in 34.5 sec"
       ]
      },
      {
       "output_type": "stream",
       "stream": "stdout",
       "text": [
        "\r",
        " [--------         21%                  ] 2407 of 11000 complete in 35.1 sec"
       ]
      },
      {
       "output_type": "stream",
       "stream": "stdout",
       "text": [
        "\r",
        " [--------         22%                  ] 2442 of 11000 complete in 35.6 sec"
       ]
      },
      {
       "output_type": "stream",
       "stream": "stdout",
       "text": [
        "\r",
        " [--------         22%                  ] 2477 of 11000 complete in 36.1 sec"
       ]
      },
      {
       "output_type": "stream",
       "stream": "stdout",
       "text": [
        "\r",
        " [--------         22%                  ] 2513 of 11000 complete in 36.6 sec"
       ]
      },
      {
       "output_type": "stream",
       "stream": "stdout",
       "text": [
        "\r",
        " [--------         23%                  ] 2548 of 11000 complete in 37.1 sec"
       ]
      },
      {
       "output_type": "stream",
       "stream": "stdout",
       "text": [
        "\r",
        " [--------         23%                  ] 2584 of 11000 complete in 37.6 sec"
       ]
      },
      {
       "output_type": "stream",
       "stream": "stdout",
       "text": [
        "\r",
        " [---------        23%                  ] 2620 of 11000 complete in 38.1 sec"
       ]
      },
      {
       "output_type": "stream",
       "stream": "stdout",
       "text": [
        "\r",
        " [---------        24%                  ] 2656 of 11000 complete in 38.6 sec"
       ]
      },
      {
       "output_type": "stream",
       "stream": "stdout",
       "text": [
        "\r",
        " [---------        24%                  ] 2692 of 11000 complete in 39.1 sec"
       ]
      },
      {
       "output_type": "stream",
       "stream": "stdout",
       "text": [
        "\r",
        " [---------        24%                  ] 2727 of 11000 complete in 39.6 sec"
       ]
      },
      {
       "output_type": "stream",
       "stream": "stdout",
       "text": [
        "\r",
        " [---------        25%                  ] 2762 of 11000 complete in 40.1 sec"
       ]
      },
      {
       "output_type": "stream",
       "stream": "stdout",
       "text": [
        "\r",
        " [---------        25%                  ] 2798 of 11000 complete in 40.6 sec"
       ]
      },
      {
       "output_type": "stream",
       "stream": "stdout",
       "text": [
        "\r",
        " [---------        25%                  ] 2833 of 11000 complete in 41.1 sec"
       ]
      },
      {
       "output_type": "stream",
       "stream": "stdout",
       "text": [
        "\r",
        " [---------        26%                  ] 2868 of 11000 complete in 41.6 sec"
       ]
      },
      {
       "output_type": "stream",
       "stream": "stdout",
       "text": [
        "\r",
        " [----------       26%                  ] 2903 of 11000 complete in 42.1 sec"
       ]
      },
      {
       "output_type": "stream",
       "stream": "stdout",
       "text": [
        "\r",
        " [----------       26%                  ] 2939 of 11000 complete in 42.7 sec"
       ]
      },
      {
       "output_type": "stream",
       "stream": "stdout",
       "text": [
        "\r",
        " [----------       27%                  ] 2974 of 11000 complete in 43.2 sec"
       ]
      },
      {
       "output_type": "stream",
       "stream": "stdout",
       "text": [
        "\r",
        " [----------       27%                  ] 3010 of 11000 complete in 43.7 sec"
       ]
      },
      {
       "output_type": "stream",
       "stream": "stdout",
       "text": [
        "\r",
        " [----------       27%                  ] 3047 of 11000 complete in 44.2 sec"
       ]
      },
      {
       "output_type": "stream",
       "stream": "stdout",
       "text": [
        "\r",
        " [----------       28%                  ] 3084 of 11000 complete in 44.7 sec"
       ]
      },
      {
       "output_type": "stream",
       "stream": "stdout",
       "text": [
        "\r",
        " [----------       28%                  ] 3121 of 11000 complete in 45.2 sec"
       ]
      },
      {
       "output_type": "stream",
       "stream": "stdout",
       "text": [
        "\r",
        " [----------       28%                  ] 3157 of 11000 complete in 45.7 sec"
       ]
      },
      {
       "output_type": "stream",
       "stream": "stdout",
       "text": [
        "\r",
        " [-----------      29%                  ] 3194 of 11000 complete in 46.2 sec"
       ]
      },
      {
       "output_type": "stream",
       "stream": "stdout",
       "text": [
        "\r",
        " [-----------      29%                  ] 3231 of 11000 complete in 46.7 sec"
       ]
      },
      {
       "output_type": "stream",
       "stream": "stdout",
       "text": [
        "\r",
        " [-----------      29%                  ] 3268 of 11000 complete in 47.2 sec"
       ]
      },
      {
       "output_type": "stream",
       "stream": "stdout",
       "text": [
        "\r",
        " [-----------      30%                  ] 3305 of 11000 complete in 47.7 sec"
       ]
      },
      {
       "output_type": "stream",
       "stream": "stdout",
       "text": [
        "\r",
        " [-----------      30%                  ] 3342 of 11000 complete in 48.2 sec"
       ]
      },
      {
       "output_type": "stream",
       "stream": "stdout",
       "text": [
        "\r",
        " [-----------      30%                  ] 3380 of 11000 complete in 48.7 sec"
       ]
      },
      {
       "output_type": "stream",
       "stream": "stdout",
       "text": [
        "\r",
        " [-----------      31%                  ] 3417 of 11000 complete in 49.2 sec"
       ]
      },
      {
       "output_type": "stream",
       "stream": "stdout",
       "text": [
        "\r",
        " [-----------      31%                  ] 3454 of 11000 complete in 49.7 sec"
       ]
      },
      {
       "output_type": "stream",
       "stream": "stdout",
       "text": [
        "\r",
        " [------------     31%                  ] 3491 of 11000 complete in 50.2 sec"
       ]
      },
      {
       "output_type": "stream",
       "stream": "stdout",
       "text": [
        "\r",
        " [------------     32%                  ] 3528 of 11000 complete in 50.7 sec"
       ]
      },
      {
       "output_type": "stream",
       "stream": "stdout",
       "text": [
        "\r",
        " [------------     32%                  ] 3565 of 11000 complete in 51.2 sec"
       ]
      },
      {
       "output_type": "stream",
       "stream": "stdout",
       "text": [
        "\r",
        " [------------     32%                  ] 3602 of 11000 complete in 51.8 sec"
       ]
      },
      {
       "output_type": "stream",
       "stream": "stdout",
       "text": [
        "\r",
        " [------------     33%                  ] 3639 of 11000 complete in 52.3 sec"
       ]
      },
      {
       "output_type": "stream",
       "stream": "stdout",
       "text": [
        "\r",
        " [------------     33%                  ] 3677 of 11000 complete in 52.8 sec"
       ]
      },
      {
       "output_type": "stream",
       "stream": "stdout",
       "text": [
        "\r",
        " [------------     33%                  ] 3715 of 11000 complete in 53.3 sec"
       ]
      },
      {
       "output_type": "stream",
       "stream": "stdout",
       "text": [
        "\r",
        " [------------     34%                  ] 3753 of 11000 complete in 53.8 sec"
       ]
      },
      {
       "output_type": "stream",
       "stream": "stdout",
       "text": [
        "\r",
        " [-------------    34%                  ] 3791 of 11000 complete in 54.3 sec"
       ]
      },
      {
       "output_type": "stream",
       "stream": "stdout",
       "text": [
        "\r",
        " [-------------    34%                  ] 3828 of 11000 complete in 54.8 sec"
       ]
      },
      {
       "output_type": "stream",
       "stream": "stdout",
       "text": [
        "\r",
        " [-------------    35%                  ] 3865 of 11000 complete in 55.3 sec"
       ]
      },
      {
       "output_type": "stream",
       "stream": "stdout",
       "text": [
        "\r",
        " [-------------    35%                  ] 3902 of 11000 complete in 55.8 sec"
       ]
      },
      {
       "output_type": "stream",
       "stream": "stdout",
       "text": [
        "\r",
        " [-------------    35%                  ] 3938 of 11000 complete in 56.3 sec"
       ]
      },
      {
       "output_type": "stream",
       "stream": "stdout",
       "text": [
        "\r",
        " [-------------    36%                  ] 3974 of 11000 complete in 56.8 sec"
       ]
      },
      {
       "output_type": "stream",
       "stream": "stdout",
       "text": [
        "\r",
        " [-------------    36%                  ] 4006 of 11000 complete in 57.3 sec"
       ]
      },
      {
       "output_type": "stream",
       "stream": "stdout",
       "text": [
        "\r",
        " [-------------    36%                  ] 4044 of 11000 complete in 57.9 sec"
       ]
      },
      {
       "output_type": "stream",
       "stream": "stdout",
       "text": [
        "\r",
        " [--------------   37%                  ] 4081 of 11000 complete in 58.4 sec"
       ]
      },
      {
       "output_type": "stream",
       "stream": "stdout",
       "text": [
        "\r",
        " [--------------   37%                  ] 4118 of 11000 complete in 58.9 sec"
       ]
      },
      {
       "output_type": "stream",
       "stream": "stdout",
       "text": [
        "\r",
        " [--------------   37%                  ] 4153 of 11000 complete in 59.4 sec"
       ]
      },
      {
       "output_type": "stream",
       "stream": "stdout",
       "text": [
        "\r",
        " [--------------   38%                  ] 4191 of 11000 complete in 59.9 sec"
       ]
      },
      {
       "output_type": "stream",
       "stream": "stdout",
       "text": [
        "\r",
        " [--------------   38%                  ] 4229 of 11000 complete in 60.4 sec"
       ]
      },
      {
       "output_type": "stream",
       "stream": "stdout",
       "text": [
        "\r",
        " [--------------   38%                  ] 4266 of 11000 complete in 60.9 sec"
       ]
      },
      {
       "output_type": "stream",
       "stream": "stdout",
       "text": [
        "\r",
        " [--------------   39%                  ] 4303 of 11000 complete in 61.4 sec"
       ]
      },
      {
       "output_type": "stream",
       "stream": "stdout",
       "text": [
        "\r",
        " [--------------   39%                  ] 4341 of 11000 complete in 61.9 sec"
       ]
      },
      {
       "output_type": "stream",
       "stream": "stdout",
       "text": [
        "\r",
        " [---------------  39%                  ] 4378 of 11000 complete in 62.4 sec"
       ]
      },
      {
       "output_type": "stream",
       "stream": "stdout",
       "text": [
        "\r",
        " [---------------  40%                  ] 4416 of 11000 complete in 62.9 sec"
       ]
      },
      {
       "output_type": "stream",
       "stream": "stdout",
       "text": [
        "\r",
        " [---------------  40%                  ] 4451 of 11000 complete in 63.4 sec"
       ]
      },
      {
       "output_type": "stream",
       "stream": "stdout",
       "text": [
        "\r",
        " [---------------  40%                  ] 4487 of 11000 complete in 63.9 sec"
       ]
      },
      {
       "output_type": "stream",
       "stream": "stdout",
       "text": [
        "\r",
        " [---------------  41%                  ] 4523 of 11000 complete in 64.4 sec"
       ]
      },
      {
       "output_type": "stream",
       "stream": "stdout",
       "text": [
        "\r",
        " [---------------  41%                  ] 4557 of 11000 complete in 64.9 sec"
       ]
      },
      {
       "output_type": "stream",
       "stream": "stdout",
       "text": [
        "\r",
        " [---------------  41%                  ] 4593 of 11000 complete in 65.5 sec"
       ]
      },
      {
       "output_type": "stream",
       "stream": "stdout",
       "text": [
        "\r",
        " [---------------  42%                  ] 4628 of 11000 complete in 66.0 sec"
       ]
      },
      {
       "output_type": "stream",
       "stream": "stdout",
       "text": [
        "\r",
        " [---------------- 42%                  ] 4661 of 11000 complete in 66.5 sec"
       ]
      },
      {
       "output_type": "stream",
       "stream": "stdout",
       "text": [
        "\r",
        " [---------------- 42%                  ] 4693 of 11000 complete in 67.0 sec"
       ]
      },
      {
       "output_type": "stream",
       "stream": "stdout",
       "text": [
        "\r",
        " [---------------- 42%                  ] 4728 of 11000 complete in 67.5 sec"
       ]
      },
      {
       "output_type": "stream",
       "stream": "stdout",
       "text": [
        "\r",
        " [---------------- 43%                  ] 4765 of 11000 complete in 68.0 sec"
       ]
      },
      {
       "output_type": "stream",
       "stream": "stdout",
       "text": [
        "\r",
        " [---------------- 43%                  ] 4802 of 11000 complete in 68.5 sec"
       ]
      },
      {
       "output_type": "stream",
       "stream": "stdout",
       "text": [
        "\r",
        " [---------------- 43%                  ] 4839 of 11000 complete in 69.0 sec"
       ]
      },
      {
       "output_type": "stream",
       "stream": "stdout",
       "text": [
        "\r",
        " [---------------- 44%                  ] 4876 of 11000 complete in 69.5 sec"
       ]
      },
      {
       "output_type": "stream",
       "stream": "stdout",
       "text": [
        "\r",
        " [---------------- 44%                  ] 4912 of 11000 complete in 70.0 sec"
       ]
      },
      {
       "output_type": "stream",
       "stream": "stdout",
       "text": [
        "\r",
        " [-----------------44%                  ] 4948 of 11000 complete in 70.5 sec"
       ]
      },
      {
       "output_type": "stream",
       "stream": "stdout",
       "text": [
        "\r",
        " [-----------------45%                  ] 4984 of 11000 complete in 71.0 sec"
       ]
      },
      {
       "output_type": "stream",
       "stream": "stdout",
       "text": [
        "\r",
        " [-----------------45%                  ] 5021 of 11000 complete in 71.5 sec"
       ]
      },
      {
       "output_type": "stream",
       "stream": "stdout",
       "text": [
        "\r",
        " [-----------------45%                  ] 5057 of 11000 complete in 72.0 sec"
       ]
      },
      {
       "output_type": "stream",
       "stream": "stdout",
       "text": [
        "\r",
        " [-----------------46%                  ] 5094 of 11000 complete in 72.5 sec"
       ]
      },
      {
       "output_type": "stream",
       "stream": "stdout",
       "text": [
        "\r",
        " [-----------------46%                  ] 5131 of 11000 complete in 73.0 sec"
       ]
      },
      {
       "output_type": "stream",
       "stream": "stdout",
       "text": [
        "\r",
        " [-----------------46%                  ] 5167 of 11000 complete in 73.6 sec"
       ]
      },
      {
       "output_type": "stream",
       "stream": "stdout",
       "text": [
        "\r",
        " [-----------------47%                  ] 5202 of 11000 complete in 74.1 sec"
       ]
      },
      {
       "output_type": "stream",
       "stream": "stdout",
       "text": [
        "\r",
        " [-----------------47%                  ] 5236 of 11000 complete in 74.6 sec"
       ]
      },
      {
       "output_type": "stream",
       "stream": "stdout",
       "text": [
        "\r",
        " [-----------------47%                  ] 5272 of 11000 complete in 75.1 sec"
       ]
      },
      {
       "output_type": "stream",
       "stream": "stdout",
       "text": [
        "\r",
        " [-----------------48%                  ] 5307 of 11000 complete in 75.6 sec"
       ]
      },
      {
       "output_type": "stream",
       "stream": "stdout",
       "text": [
        "\r",
        " [-----------------48%                  ] 5342 of 11000 complete in 76.1 sec"
       ]
      },
      {
       "output_type": "stream",
       "stream": "stdout",
       "text": [
        "\r",
        " [-----------------48%                  ] 5379 of 11000 complete in 76.6 sec"
       ]
      },
      {
       "output_type": "stream",
       "stream": "stdout",
       "text": [
        "\r",
        " [-----------------49%                  ] 5415 of 11000 complete in 77.1 sec"
       ]
      },
      {
       "output_type": "stream",
       "stream": "stdout",
       "text": [
        "\r",
        " [-----------------49%                  ] 5452 of 11000 complete in 77.6 sec"
       ]
      },
      {
       "output_type": "stream",
       "stream": "stdout",
       "text": [
        "\r",
        " [-----------------49%                  ] 5489 of 11000 complete in 78.1 sec"
       ]
      },
      {
       "output_type": "stream",
       "stream": "stdout",
       "text": [
        "\r",
        " [-----------------50%                  ] 5526 of 11000 complete in 78.6 sec"
       ]
      },
      {
       "output_type": "stream",
       "stream": "stdout",
       "text": [
        "\r",
        " [-----------------50%                  ] 5563 of 11000 complete in 79.1 sec"
       ]
      },
      {
       "output_type": "stream",
       "stream": "stdout",
       "text": [
        "\r",
        " [-----------------50%                  ] 5599 of 11000 complete in 79.6 sec"
       ]
      },
      {
       "output_type": "stream",
       "stream": "stdout",
       "text": [
        "\r",
        " [-----------------51%                  ] 5636 of 11000 complete in 80.2 sec"
       ]
      },
      {
       "output_type": "stream",
       "stream": "stdout",
       "text": [
        "\r",
        " [-----------------51%                  ] 5673 of 11000 complete in 80.7 sec"
       ]
      },
      {
       "output_type": "stream",
       "stream": "stdout",
       "text": [
        "\r",
        " [-----------------51%                  ] 5710 of 11000 complete in 81.2 sec"
       ]
      },
      {
       "output_type": "stream",
       "stream": "stdout",
       "text": [
        "\r",
        " [-----------------52%                  ] 5746 of 11000 complete in 81.7 sec"
       ]
      },
      {
       "output_type": "stream",
       "stream": "stdout",
       "text": [
        "\r",
        " [-----------------52%                  ] 5782 of 11000 complete in 82.2 sec"
       ]
      },
      {
       "output_type": "stream",
       "stream": "stdout",
       "text": [
        "\r",
        " [-----------------52%                  ] 5819 of 11000 complete in 82.7 sec"
       ]
      },
      {
       "output_type": "stream",
       "stream": "stdout",
       "text": [
        "\r",
        " [-----------------53%                  ] 5855 of 11000 complete in 83.2 sec"
       ]
      },
      {
       "output_type": "stream",
       "stream": "stdout",
       "text": [
        "\r",
        " [-----------------53%                  ] 5892 of 11000 complete in 83.7 sec"
       ]
      },
      {
       "output_type": "stream",
       "stream": "stdout",
       "text": [
        "\r",
        " [-----------------53%                  ] 5929 of 11000 complete in 84.2 sec"
       ]
      },
      {
       "output_type": "stream",
       "stream": "stdout",
       "text": [
        "\r",
        " [-----------------54%                  ] 5966 of 11000 complete in 84.7 sec"
       ]
      },
      {
       "output_type": "stream",
       "stream": "stdout",
       "text": [
        "\r",
        " [-----------------54%                  ] 6002 of 11000 complete in 85.2 sec"
       ]
      },
      {
       "output_type": "stream",
       "stream": "stdout",
       "text": [
        "\r",
        " [-----------------54%                  ] 6038 of 11000 complete in 85.8 sec"
       ]
      },
      {
       "output_type": "stream",
       "stream": "stdout",
       "text": [
        "\r",
        " [-----------------55%                  ] 6072 of 11000 complete in 86.3 sec"
       ]
      },
      {
       "output_type": "stream",
       "stream": "stdout",
       "text": [
        "\r",
        " [-----------------55%-                 ] 6107 of 11000 complete in 86.8 sec"
       ]
      },
      {
       "output_type": "stream",
       "stream": "stdout",
       "text": [
        "\r",
        " [-----------------55%-                 ] 6144 of 11000 complete in 87.3 sec"
       ]
      },
      {
       "output_type": "stream",
       "stream": "stdout",
       "text": [
        "\r",
        " [-----------------56%-                 ] 6180 of 11000 complete in 87.8 sec"
       ]
      },
      {
       "output_type": "stream",
       "stream": "stdout",
       "text": [
        "\r",
        " [-----------------56%-                 ] 6217 of 11000 complete in 88.3 sec"
       ]
      },
      {
       "output_type": "stream",
       "stream": "stdout",
       "text": [
        "\r",
        " [-----------------56%-                 ] 6254 of 11000 complete in 88.8 sec"
       ]
      },
      {
       "output_type": "stream",
       "stream": "stdout",
       "text": [
        "\r",
        " [-----------------57%-                 ] 6291 of 11000 complete in 89.3 sec"
       ]
      },
      {
       "output_type": "stream",
       "stream": "stdout",
       "text": [
        "\r",
        " [-----------------57%-                 ] 6328 of 11000 complete in 89.8 sec"
       ]
      },
      {
       "output_type": "stream",
       "stream": "stdout",
       "text": [
        "\r",
        " [-----------------57%-                 ] 6365 of 11000 complete in 90.3 sec"
       ]
      },
      {
       "output_type": "stream",
       "stream": "stdout",
       "text": [
        "\r",
        " [-----------------58%--                ] 6401 of 11000 complete in 90.8 sec"
       ]
      },
      {
       "output_type": "stream",
       "stream": "stdout",
       "text": [
        "\r",
        " [-----------------58%--                ] 6438 of 11000 complete in 91.3 sec"
       ]
      },
      {
       "output_type": "stream",
       "stream": "stdout",
       "text": [
        "\r",
        " [-----------------58%--                ] 6475 of 11000 complete in 91.8 sec"
       ]
      },
      {
       "output_type": "stream",
       "stream": "stdout",
       "text": [
        "\r",
        " [-----------------59%--                ] 6512 of 11000 complete in 92.4 sec"
       ]
      },
      {
       "output_type": "stream",
       "stream": "stdout",
       "text": [
        "\r",
        " [-----------------59%--                ] 6549 of 11000 complete in 92.9 sec"
       ]
      },
      {
       "output_type": "stream",
       "stream": "stdout",
       "text": [
        "\r",
        " [-----------------59%--                ] 6586 of 11000 complete in 93.4 sec"
       ]
      },
      {
       "output_type": "stream",
       "stream": "stdout",
       "text": [
        "\r",
        " [-----------------60%--                ] 6623 of 11000 complete in 93.9 sec"
       ]
      },
      {
       "output_type": "stream",
       "stream": "stdout",
       "text": [
        "\r",
        " [-----------------60%---               ] 6659 of 11000 complete in 94.4 sec"
       ]
      },
      {
       "output_type": "stream",
       "stream": "stdout",
       "text": [
        "\r",
        " [-----------------60%---               ] 6696 of 11000 complete in 94.9 sec"
       ]
      },
      {
       "output_type": "stream",
       "stream": "stdout",
       "text": [
        "\r",
        " [-----------------61%---               ] 6733 of 11000 complete in 95.4 sec"
       ]
      },
      {
       "output_type": "stream",
       "stream": "stdout",
       "text": [
        "\r",
        " [-----------------61%---               ] 6769 of 11000 complete in 95.9 sec"
       ]
      },
      {
       "output_type": "stream",
       "stream": "stdout",
       "text": [
        "\r",
        " [-----------------61%---               ] 6806 of 11000 complete in 96.4 sec"
       ]
      },
      {
       "output_type": "stream",
       "stream": "stdout",
       "text": [
        "\r",
        " [-----------------62%---               ] 6843 of 11000 complete in 96.9 sec"
       ]
      },
      {
       "output_type": "stream",
       "stream": "stdout",
       "text": [
        "\r",
        " [-----------------62%---               ] 6880 of 11000 complete in 97.4 sec"
       ]
      },
      {
       "output_type": "stream",
       "stream": "stdout",
       "text": [
        "\r",
        " [-----------------62%---               ] 6915 of 11000 complete in 97.9 sec"
       ]
      },
      {
       "output_type": "stream",
       "stream": "stdout",
       "text": [
        "\r",
        " [-----------------63%----              ] 6952 of 11000 complete in 98.4 sec"
       ]
      },
      {
       "output_type": "stream",
       "stream": "stdout",
       "text": [
        "\r",
        " [-----------------63%----              ] 6989 of 11000 complete in 98.9 sec"
       ]
      },
      {
       "output_type": "stream",
       "stream": "stdout",
       "text": [
        "\r",
        " [-----------------63%----              ] 7026 of 11000 complete in 99.5 sec"
       ]
      },
      {
       "output_type": "stream",
       "stream": "stdout",
       "text": [
        "\r",
        " [-----------------64%----              ] 7063 of 11000 complete in 100.0 sec"
       ]
      },
      {
       "output_type": "stream",
       "stream": "stdout",
       "text": [
        "\r",
        " [-----------------64%----              ] 7094 of 11000 complete in 100.5 sec"
       ]
      },
      {
       "output_type": "stream",
       "stream": "stdout",
       "text": [
        "\r",
        " [-----------------64%----              ] 7130 of 11000 complete in 101.0 sec"
       ]
      },
      {
       "output_type": "stream",
       "stream": "stdout",
       "text": [
        "\r",
        " [-----------------65%----              ] 7166 of 11000 complete in 101.5 sec"
       ]
      },
      {
       "output_type": "stream",
       "stream": "stdout",
       "text": [
        "\r",
        " [-----------------65%----              ] 7202 of 11000 complete in 102.0 sec"
       ]
      },
      {
       "output_type": "stream",
       "stream": "stdout",
       "text": [
        "\r",
        " [-----------------65%-----             ] 7237 of 11000 complete in 102.5 sec"
       ]
      },
      {
       "output_type": "stream",
       "stream": "stdout",
       "text": [
        "\r",
        " [-----------------66%-----             ] 7273 of 11000 complete in 103.0 sec"
       ]
      },
      {
       "output_type": "stream",
       "stream": "stdout",
       "text": [
        "\r",
        " [-----------------66%-----             ] 7306 of 11000 complete in 103.5 sec"
       ]
      },
      {
       "output_type": "stream",
       "stream": "stdout",
       "text": [
        "\r",
        " [-----------------66%-----             ] 7342 of 11000 complete in 104.0 sec"
       ]
      },
      {
       "output_type": "stream",
       "stream": "stdout",
       "text": [
        "\r",
        " [-----------------67%-----             ] 7379 of 11000 complete in 104.5 sec"
       ]
      },
      {
       "output_type": "stream",
       "stream": "stdout",
       "text": [
        "\r",
        " [-----------------67%-----             ] 7416 of 11000 complete in 105.0 sec"
       ]
      },
      {
       "output_type": "stream",
       "stream": "stdout",
       "text": [
        "\r",
        " [-----------------67%-----             ] 7453 of 11000 complete in 105.5 sec"
       ]
      },
      {
       "output_type": "stream",
       "stream": "stdout",
       "text": [
        "\r",
        " [-----------------68%-----             ] 7490 of 11000 complete in 106.1 sec"
       ]
      },
      {
       "output_type": "stream",
       "stream": "stdout",
       "text": [
        "\r",
        " [-----------------68%------            ] 7527 of 11000 complete in 106.6 sec"
       ]
      },
      {
       "output_type": "stream",
       "stream": "stdout",
       "text": [
        "\r",
        " [-----------------68%------            ] 7563 of 11000 complete in 107.1 sec"
       ]
      },
      {
       "output_type": "stream",
       "stream": "stdout",
       "text": [
        "\r",
        " [-----------------69%------            ] 7600 of 11000 complete in 107.6 sec"
       ]
      },
      {
       "output_type": "stream",
       "stream": "stdout",
       "text": [
        "\r",
        " [-----------------69%------            ] 7637 of 11000 complete in 108.1 sec"
       ]
      },
      {
       "output_type": "stream",
       "stream": "stdout",
       "text": [
        "\r",
        " [-----------------69%------            ] 7674 of 11000 complete in 108.6 sec"
       ]
      },
      {
       "output_type": "stream",
       "stream": "stdout",
       "text": [
        "\r",
        " [-----------------70%------            ] 7711 of 11000 complete in 109.1 sec"
       ]
      },
      {
       "output_type": "stream",
       "stream": "stdout",
       "text": [
        "\r",
        " [-----------------70%------            ] 7748 of 11000 complete in 109.6 sec"
       ]
      },
      {
       "output_type": "stream",
       "stream": "stdout",
       "text": [
        "\r",
        " [-----------------70%------            ] 7785 of 11000 complete in 110.1 sec"
       ]
      },
      {
       "output_type": "stream",
       "stream": "stdout",
       "text": [
        "\r",
        " [-----------------71%-------           ] 7822 of 11000 complete in 110.6 sec"
       ]
      },
      {
       "output_type": "stream",
       "stream": "stdout",
       "text": [
        "\r",
        " [-----------------71%-------           ] 7858 of 11000 complete in 111.1 sec"
       ]
      },
      {
       "output_type": "stream",
       "stream": "stdout",
       "text": [
        "\r",
        " [-----------------71%-------           ] 7895 of 11000 complete in 111.6 sec"
       ]
      },
      {
       "output_type": "stream",
       "stream": "stdout",
       "text": [
        "\r",
        " [-----------------72%-------           ] 7932 of 11000 complete in 112.2 sec"
       ]
      },
      {
       "output_type": "stream",
       "stream": "stdout",
       "text": [
        "\r",
        " [-----------------72%-------           ] 7969 of 11000 complete in 112.7 sec"
       ]
      },
      {
       "output_type": "stream",
       "stream": "stdout",
       "text": [
        "\r",
        " [-----------------72%-------           ] 8006 of 11000 complete in 113.2 sec"
       ]
      },
      {
       "output_type": "stream",
       "stream": "stdout",
       "text": [
        "\r",
        " [-----------------73%-------           ] 8042 of 11000 complete in 113.7 sec"
       ]
      },
      {
       "output_type": "stream",
       "stream": "stdout",
       "text": [
        "\r",
        " [-----------------73%-------           ] 8079 of 11000 complete in 114.2 sec"
       ]
      },
      {
       "output_type": "stream",
       "stream": "stdout",
       "text": [
        "\r",
        " [-----------------73%--------          ] 8116 of 11000 complete in 114.7 sec"
       ]
      },
      {
       "output_type": "stream",
       "stream": "stdout",
       "text": [
        "\r",
        " [-----------------74%--------          ] 8153 of 11000 complete in 115.2 sec"
       ]
      },
      {
       "output_type": "stream",
       "stream": "stdout",
       "text": [
        "\r",
        " [-----------------74%--------          ] 8186 of 11000 complete in 115.7 sec"
       ]
      },
      {
       "output_type": "stream",
       "stream": "stdout",
       "text": [
        "\r",
        " [-----------------74%--------          ] 8222 of 11000 complete in 116.2 sec"
       ]
      },
      {
       "output_type": "stream",
       "stream": "stdout",
       "text": [
        "\r",
        " [-----------------75%--------          ] 8256 of 11000 complete in 116.7 sec"
       ]
      },
      {
       "output_type": "stream",
       "stream": "stdout",
       "text": [
        "\r",
        " [-----------------75%--------          ] 8293 of 11000 complete in 117.2 sec"
       ]
      },
      {
       "output_type": "stream",
       "stream": "stdout",
       "text": [
        "\r",
        " [-----------------75%--------          ] 8330 of 11000 complete in 117.7 sec"
       ]
      },
      {
       "output_type": "stream",
       "stream": "stdout",
       "text": [
        "\r",
        " [-----------------76%--------          ] 8367 of 11000 complete in 118.3 sec"
       ]
      },
      {
       "output_type": "stream",
       "stream": "stdout",
       "text": [
        "\r",
        " [-----------------76%---------         ] 8404 of 11000 complete in 118.8 sec"
       ]
      },
      {
       "output_type": "stream",
       "stream": "stdout",
       "text": [
        "\r",
        " [-----------------76%---------         ] 8441 of 11000 complete in 119.3 sec"
       ]
      },
      {
       "output_type": "stream",
       "stream": "stdout",
       "text": [
        "\r",
        " [-----------------77%---------         ] 8477 of 11000 complete in 119.8 sec"
       ]
      },
      {
       "output_type": "stream",
       "stream": "stdout",
       "text": [
        "\r",
        " [-----------------77%---------         ] 8512 of 11000 complete in 120.3 sec"
       ]
      },
      {
       "output_type": "stream",
       "stream": "stdout",
       "text": [
        "\r",
        " [-----------------77%---------         ] 8545 of 11000 complete in 120.8 sec"
       ]
      },
      {
       "output_type": "stream",
       "stream": "stdout",
       "text": [
        "\r",
        " [-----------------78%---------         ] 8582 of 11000 complete in 121.3 sec"
       ]
      },
      {
       "output_type": "stream",
       "stream": "stdout",
       "text": [
        "\r",
        " [-----------------78%---------         ] 8619 of 11000 complete in 121.8 sec"
       ]
      },
      {
       "output_type": "stream",
       "stream": "stdout",
       "text": [
        "\r",
        " [-----------------78%---------         ] 8655 of 11000 complete in 122.3 sec"
       ]
      },
      {
       "output_type": "stream",
       "stream": "stdout",
       "text": [
        "\r",
        " [-----------------79%----------        ] 8691 of 11000 complete in 122.8 sec"
       ]
      },
      {
       "output_type": "stream",
       "stream": "stdout",
       "text": [
        "\r",
        " [-----------------79%----------        ] 8728 of 11000 complete in 123.3 sec"
       ]
      },
      {
       "output_type": "stream",
       "stream": "stdout",
       "text": [
        "\r",
        " [-----------------79%----------        ] 8764 of 11000 complete in 123.8 sec"
       ]
      },
      {
       "output_type": "stream",
       "stream": "stdout",
       "text": [
        "\r",
        " [-----------------80%----------        ] 8800 of 11000 complete in 124.3 sec"
       ]
      },
      {
       "output_type": "stream",
       "stream": "stdout",
       "text": [
        "\r",
        " [-----------------80%----------        ] 8836 of 11000 complete in 124.8 sec"
       ]
      },
      {
       "output_type": "stream",
       "stream": "stdout",
       "text": [
        "\r",
        " [-----------------80%----------        ] 8873 of 11000 complete in 125.4 sec"
       ]
      },
      {
       "output_type": "stream",
       "stream": "stdout",
       "text": [
        "\r",
        " [-----------------80%----------        ] 8909 of 11000 complete in 125.9 sec"
       ]
      },
      {
       "output_type": "stream",
       "stream": "stdout",
       "text": [
        "\r",
        " [-----------------81%----------        ] 8945 of 11000 complete in 126.4 sec"
       ]
      },
      {
       "output_type": "stream",
       "stream": "stdout",
       "text": [
        "\r",
        " [-----------------81%-----------       ] 8982 of 11000 complete in 126.9 sec"
       ]
      },
      {
       "output_type": "stream",
       "stream": "stdout",
       "text": [
        "\r",
        " [-----------------81%-----------       ] 9017 of 11000 complete in 127.4 sec"
       ]
      },
      {
       "output_type": "stream",
       "stream": "stdout",
       "text": [
        "\r",
        " [-----------------82%-----------       ] 9052 of 11000 complete in 127.9 sec"
       ]
      },
      {
       "output_type": "stream",
       "stream": "stdout",
       "text": [
        "\r",
        " [-----------------82%-----------       ] 9087 of 11000 complete in 128.4 sec"
       ]
      },
      {
       "output_type": "stream",
       "stream": "stdout",
       "text": [
        "\r",
        " [-----------------82%-----------       ] 9122 of 11000 complete in 128.9 sec"
       ]
      },
      {
       "output_type": "stream",
       "stream": "stdout",
       "text": [
        "\r",
        " [-----------------83%-----------       ] 9158 of 11000 complete in 129.4 sec"
       ]
      },
      {
       "output_type": "stream",
       "stream": "stdout",
       "text": [
        "\r",
        " [-----------------83%-----------       ] 9193 of 11000 complete in 129.9 sec"
       ]
      },
      {
       "output_type": "stream",
       "stream": "stdout",
       "text": [
        "\r",
        " [-----------------83%-----------       ] 9228 of 11000 complete in 130.4 sec"
       ]
      },
      {
       "output_type": "stream",
       "stream": "stdout",
       "text": [
        "\r",
        " [-----------------84%-----------       ] 9263 of 11000 complete in 130.9 sec"
       ]
      },
      {
       "output_type": "stream",
       "stream": "stdout",
       "text": [
        "\r",
        " [-----------------84%------------      ] 9297 of 11000 complete in 131.4 sec"
       ]
      },
      {
       "output_type": "stream",
       "stream": "stdout",
       "text": [
        "\r",
        " [-----------------84%------------      ] 9332 of 11000 complete in 131.9 sec"
       ]
      },
      {
       "output_type": "stream",
       "stream": "stdout",
       "text": [
        "\r",
        " [-----------------85%------------      ] 9369 of 11000 complete in 132.4 sec"
       ]
      },
      {
       "output_type": "stream",
       "stream": "stdout",
       "text": [
        "\r",
        " [-----------------85%------------      ] 9404 of 11000 complete in 133.0 sec"
       ]
      },
      {
       "output_type": "stream",
       "stream": "stdout",
       "text": [
        "\r",
        " [-----------------85%------------      ] 9439 of 11000 complete in 133.5 sec"
       ]
      },
      {
       "output_type": "stream",
       "stream": "stdout",
       "text": [
        "\r",
        " [-----------------86%------------      ] 9475 of 11000 complete in 134.0 sec"
       ]
      },
      {
       "output_type": "stream",
       "stream": "stdout",
       "text": [
        "\r",
        " [-----------------86%------------      ] 9511 of 11000 complete in 134.5 sec"
       ]
      },
      {
       "output_type": "stream",
       "stream": "stdout",
       "text": [
        "\r",
        " [-----------------86%------------      ] 9547 of 11000 complete in 135.0 sec"
       ]
      },
      {
       "output_type": "stream",
       "stream": "stdout",
       "text": [
        "\r",
        " [-----------------87%-------------     ] 9584 of 11000 complete in 135.5 sec"
       ]
      },
      {
       "output_type": "stream",
       "stream": "stdout",
       "text": [
        "\r",
        " [-----------------87%-------------     ] 9620 of 11000 complete in 136.0 sec"
       ]
      },
      {
       "output_type": "stream",
       "stream": "stdout",
       "text": [
        "\r",
        " [-----------------87%-------------     ] 9657 of 11000 complete in 136.5 sec"
       ]
      },
      {
       "output_type": "stream",
       "stream": "stdout",
       "text": [
        "\r",
        " [-----------------88%-------------     ] 9694 of 11000 complete in 137.0 sec"
       ]
      },
      {
       "output_type": "stream",
       "stream": "stdout",
       "text": [
        "\r",
        " [-----------------88%-------------     ] 9730 of 11000 complete in 137.5 sec"
       ]
      },
      {
       "output_type": "stream",
       "stream": "stdout",
       "text": [
        "\r",
        " [-----------------88%-------------     ] 9765 of 11000 complete in 138.0 sec"
       ]
      },
      {
       "output_type": "stream",
       "stream": "stdout",
       "text": [
        "\r",
        " [-----------------89%-------------     ] 9798 of 11000 complete in 138.5 sec"
       ]
      },
      {
       "output_type": "stream",
       "stream": "stdout",
       "text": [
        "\r",
        " [-----------------89%-------------     ] 9835 of 11000 complete in 139.0 sec"
       ]
      },
      {
       "output_type": "stream",
       "stream": "stdout",
       "text": [
        "\r",
        " [-----------------89%--------------    ] 9871 of 11000 complete in 139.5 sec"
       ]
      },
      {
       "output_type": "stream",
       "stream": "stdout",
       "text": [
        "\r",
        " [-----------------90%--------------    ] 9908 of 11000 complete in 140.0 sec"
       ]
      },
      {
       "output_type": "stream",
       "stream": "stdout",
       "text": [
        "\r",
        " [-----------------90%--------------    ] 9944 of 11000 complete in 140.5 sec"
       ]
      },
      {
       "output_type": "stream",
       "stream": "stdout",
       "text": [
        "\r",
        " [-----------------90%--------------    ] 9981 of 11000 complete in 141.1 sec"
       ]
      },
      {
       "output_type": "stream",
       "stream": "stdout",
       "text": [
        "\r",
        " [-----------------91%--------------    ] 10018 of 11000 complete in 141.6 sec"
       ]
      },
      {
       "output_type": "stream",
       "stream": "stdout",
       "text": [
        "\r",
        " [-----------------91%--------------    ] 10055 of 11000 complete in 142.1 sec"
       ]
      },
      {
       "output_type": "stream",
       "stream": "stdout",
       "text": [
        "\r",
        " [-----------------91%--------------    ] 10092 of 11000 complete in 142.6 sec"
       ]
      },
      {
       "output_type": "stream",
       "stream": "stdout",
       "text": [
        "\r",
        " [-----------------92%--------------    ] 10129 of 11000 complete in 143.1 sec"
       ]
      },
      {
       "output_type": "stream",
       "stream": "stdout",
       "text": [
        "\r",
        " [-----------------92%---------------   ] 10166 of 11000 complete in 143.6 sec"
       ]
      },
      {
       "output_type": "stream",
       "stream": "stdout",
       "text": [
        "\r",
        " [-----------------92%---------------   ] 10203 of 11000 complete in 144.1 sec"
       ]
      },
      {
       "output_type": "stream",
       "stream": "stdout",
       "text": [
        "\r",
        " [-----------------93%---------------   ] 10240 of 11000 complete in 144.6 sec"
       ]
      },
      {
       "output_type": "stream",
       "stream": "stdout",
       "text": [
        "\r",
        " [-----------------93%---------------   ] 10277 of 11000 complete in 145.1 sec"
       ]
      },
      {
       "output_type": "stream",
       "stream": "stdout",
       "text": [
        "\r",
        " [-----------------93%---------------   ] 10314 of 11000 complete in 145.6 sec"
       ]
      },
      {
       "output_type": "stream",
       "stream": "stdout",
       "text": [
        "\r",
        " [-----------------94%---------------   ] 10350 of 11000 complete in 146.1 sec"
       ]
      },
      {
       "output_type": "stream",
       "stream": "stdout",
       "text": [
        "\r",
        " [-----------------94%---------------   ] 10386 of 11000 complete in 146.6 sec"
       ]
      },
      {
       "output_type": "stream",
       "stream": "stdout",
       "text": [
        "\r",
        " [-----------------94%----------------  ] 10422 of 11000 complete in 147.1 sec"
       ]
      },
      {
       "output_type": "stream",
       "stream": "stdout",
       "text": [
        "\r",
        " [-----------------95%----------------  ] 10459 of 11000 complete in 147.7 sec"
       ]
      },
      {
       "output_type": "stream",
       "stream": "stdout",
       "text": [
        "\r",
        " [-----------------95%----------------  ] 10495 of 11000 complete in 148.2 sec"
       ]
      },
      {
       "output_type": "stream",
       "stream": "stdout",
       "text": [
        "\r",
        " [-----------------95%----------------  ] 10532 of 11000 complete in 148.7 sec"
       ]
      },
      {
       "output_type": "stream",
       "stream": "stdout",
       "text": [
        "\r",
        " [-----------------96%----------------  ] 10569 of 11000 complete in 149.2 sec"
       ]
      },
      {
       "output_type": "stream",
       "stream": "stdout",
       "text": [
        "\r",
        " [-----------------96%----------------  ] 10606 of 11000 complete in 149.7 sec"
       ]
      },
      {
       "output_type": "stream",
       "stream": "stdout",
       "text": [
        "\r",
        " [-----------------96%----------------  ] 10642 of 11000 complete in 150.2 sec"
       ]
      },
      {
       "output_type": "stream",
       "stream": "stdout",
       "text": [
        "\r",
        " [-----------------97%----------------  ] 10679 of 11000 complete in 150.7 sec"
       ]
      },
      {
       "output_type": "stream",
       "stream": "stdout",
       "text": [
        "\r",
        " [-----------------97%----------------- ] 10716 of 11000 complete in 151.2 sec"
       ]
      },
      {
       "output_type": "stream",
       "stream": "stdout",
       "text": [
        "\r",
        " [-----------------97%----------------- ] 10753 of 11000 complete in 151.7 sec"
       ]
      },
      {
       "output_type": "stream",
       "stream": "stdout",
       "text": [
        "\r",
        " [-----------------98%----------------- ] 10790 of 11000 complete in 152.2 sec"
       ]
      },
      {
       "output_type": "stream",
       "stream": "stdout",
       "text": [
        "\r",
        " [-----------------98%----------------- ] 10827 of 11000 complete in 152.7 sec"
       ]
      },
      {
       "output_type": "stream",
       "stream": "stdout",
       "text": [
        "\r",
        " [-----------------98%----------------- ] 10863 of 11000 complete in 153.2 sec"
       ]
      },
      {
       "output_type": "stream",
       "stream": "stdout",
       "text": [
        "\r",
        " [-----------------99%----------------- ] 10900 of 11000 complete in 153.7 sec"
       ]
      },
      {
       "output_type": "stream",
       "stream": "stdout",
       "text": [
        "\r",
        " [-----------------99%----------------- ] 10937 of 11000 complete in 154.2 sec"
       ]
      },
      {
       "output_type": "stream",
       "stream": "stdout",
       "text": [
        "\r",
        " [-----------------99%----------------- ] 10974 of 11000 complete in 154.7 sec"
       ]
      },
      {
       "output_type": "stream",
       "stream": "stdout",
       "text": [
        "\r",
        " [-----------------100%-----------------] 11000 of 11000 complete in 155.1 sec"
       ]
      },
      {
       "output_type": "stream",
       "stream": "stdout",
       "text": [
        "\r",
        " [                  0%                  ] 30 of 11000 complete in 0.5 sec"
       ]
      },
      {
       "output_type": "stream",
       "stream": "stdout",
       "text": [
        "\r",
        " [                  0%                  ] 60 of 11000 complete in 1.0 sec"
       ]
      },
      {
       "output_type": "stream",
       "stream": "stdout",
       "text": [
        "\r",
        " [                  0%                  ] 91 of 11000 complete in 1.5 sec"
       ]
      },
      {
       "output_type": "stream",
       "stream": "stdout",
       "text": [
        "\r",
        " [                  1%                  ] 122 of 11000 complete in 2.0 sec"
       ]
      },
      {
       "output_type": "stream",
       "stream": "stdout",
       "text": [
        "\r",
        " [                  1%                  ] 153 of 11000 complete in 2.5 sec"
       ]
      },
      {
       "output_type": "stream",
       "stream": "stdout",
       "text": [
        "\r",
        " [                  1%                  ] 184 of 11000 complete in 3.1 sec"
       ]
      },
      {
       "output_type": "stream",
       "stream": "stdout",
       "text": [
        "\r",
        " [                  1%                  ] 215 of 11000 complete in 3.6 sec"
       ]
      },
      {
       "output_type": "stream",
       "stream": "stdout",
       "text": [
        "\r",
        " [                  2%                  ] 245 of 11000 complete in 4.1 sec"
       ]
      },
      {
       "output_type": "stream",
       "stream": "stdout",
       "text": [
        "\r",
        " [                  2%                  ] 276 of 11000 complete in 4.6 sec"
       ]
      },
      {
       "output_type": "stream",
       "stream": "stdout",
       "text": [
        "\r",
        " [-                 2%                  ] 307 of 11000 complete in 5.1 sec"
       ]
      },
      {
       "output_type": "stream",
       "stream": "stdout",
       "text": [
        "\r",
        " [-                 3%                  ] 338 of 11000 complete in 5.6 sec"
       ]
      },
      {
       "output_type": "stream",
       "stream": "stdout",
       "text": [
        "\r",
        " [-                 3%                  ] 368 of 11000 complete in 6.1 sec"
       ]
      },
      {
       "output_type": "stream",
       "stream": "stdout",
       "text": [
        "\r",
        " [-                 3%                  ] 399 of 11000 complete in 6.6 sec"
       ]
      },
      {
       "output_type": "stream",
       "stream": "stdout",
       "text": [
        "\r",
        " [-                 3%                  ] 430 of 11000 complete in 7.1 sec"
       ]
      },
      {
       "output_type": "stream",
       "stream": "stdout",
       "text": [
        "\r",
        " [-                 4%                  ] 461 of 11000 complete in 7.6 sec"
       ]
      },
      {
       "output_type": "stream",
       "stream": "stdout",
       "text": [
        "\r",
        " [-                 4%                  ] 492 of 11000 complete in 8.1 sec"
       ]
      },
      {
       "output_type": "stream",
       "stream": "stdout",
       "text": [
        "\r",
        " [-                 4%                  ] 523 of 11000 complete in 8.6 sec"
       ]
      },
      {
       "output_type": "stream",
       "stream": "stdout",
       "text": [
        "\r",
        " [-                 5%                  ] 554 of 11000 complete in 9.1 sec"
       ]
      },
      {
       "output_type": "stream",
       "stream": "stdout",
       "text": [
        "\r",
        " [--                5%                  ] 585 of 11000 complete in 9.6 sec"
       ]
      },
      {
       "output_type": "stream",
       "stream": "stdout",
       "text": [
        "\r",
        " [--                5%                  ] 616 of 11000 complete in 10.2 sec"
       ]
      },
      {
       "output_type": "stream",
       "stream": "stdout",
       "text": [
        "\r",
        " [--                5%                  ] 647 of 11000 complete in 10.7 sec"
       ]
      },
      {
       "output_type": "stream",
       "stream": "stdout",
       "text": [
        "\r",
        " [--                6%                  ] 678 of 11000 complete in 11.2 sec"
       ]
      },
      {
       "output_type": "stream",
       "stream": "stdout",
       "text": [
        "\r",
        " [--                6%                  ] 709 of 11000 complete in 11.7 sec"
       ]
      },
      {
       "output_type": "stream",
       "stream": "stdout",
       "text": [
        "\r",
        " [--                6%                  ] 740 of 11000 complete in 12.2 sec"
       ]
      },
      {
       "output_type": "stream",
       "stream": "stdout",
       "text": [
        "\r",
        " [--                7%                  ] 771 of 11000 complete in 12.7 sec"
       ]
      },
      {
       "output_type": "stream",
       "stream": "stdout",
       "text": [
        "\r",
        " [--                7%                  ] 802 of 11000 complete in 13.2 sec"
       ]
      },
      {
       "output_type": "stream",
       "stream": "stdout",
       "text": [
        "\r",
        " [--                7%                  ] 833 of 11000 complete in 13.7 sec"
       ]
      },
      {
       "output_type": "stream",
       "stream": "stdout",
       "text": [
        "\r",
        " [--                7%                  ] 864 of 11000 complete in 14.2 sec"
       ]
      },
      {
       "output_type": "stream",
       "stream": "stdout",
       "text": [
        "\r",
        " [---               8%                  ] 894 of 11000 complete in 14.7 sec"
       ]
      },
      {
       "output_type": "stream",
       "stream": "stdout",
       "text": [
        "\r",
        " [---               8%                  ] 925 of 11000 complete in 15.2 sec"
       ]
      },
      {
       "output_type": "stream",
       "stream": "stdout",
       "text": [
        "\r",
        " [---               8%                  ] 956 of 11000 complete in 15.7 sec"
       ]
      },
      {
       "output_type": "stream",
       "stream": "stdout",
       "text": [
        "\r",
        " [---               8%                  ] 987 of 11000 complete in 16.2 sec"
       ]
      },
      {
       "output_type": "stream",
       "stream": "stdout",
       "text": [
        "\r",
        " [---               9%                  ] 1018 of 11000 complete in 16.7 sec"
       ]
      },
      {
       "output_type": "stream",
       "stream": "stdout",
       "text": [
        "\r",
        " [---               9%                  ] 1049 of 11000 complete in 17.2 sec"
       ]
      },
      {
       "output_type": "stream",
       "stream": "stdout",
       "text": [
        "\r",
        " [---               9%                  ] 1080 of 11000 complete in 17.8 sec"
       ]
      },
      {
       "output_type": "stream",
       "stream": "stdout",
       "text": [
        "\r",
        " [---              10%                  ] 1110 of 11000 complete in 18.3 sec"
       ]
      },
      {
       "output_type": "stream",
       "stream": "stdout",
       "text": [
        "\r",
        " [---              10%                  ] 1141 of 11000 complete in 18.8 sec"
       ]
      },
      {
       "output_type": "stream",
       "stream": "stdout",
       "text": [
        "\r",
        " [----             10%                  ] 1172 of 11000 complete in 19.3 sec"
       ]
      },
      {
       "output_type": "stream",
       "stream": "stdout",
       "text": [
        "\r",
        " [----             10%                  ] 1203 of 11000 complete in 19.8 sec"
       ]
      },
      {
       "output_type": "stream",
       "stream": "stdout",
       "text": [
        "\r",
        " [----             11%                  ] 1234 of 11000 complete in 20.3 sec"
       ]
      },
      {
       "output_type": "stream",
       "stream": "stdout",
       "text": [
        "\r",
        " [----             11%                  ] 1265 of 11000 complete in 20.8 sec"
       ]
      },
      {
       "output_type": "stream",
       "stream": "stdout",
       "text": [
        "\r",
        " [----             11%                  ] 1295 of 11000 complete in 21.3 sec"
       ]
      },
      {
       "output_type": "stream",
       "stream": "stdout",
       "text": [
        "\r",
        " [----             12%                  ] 1326 of 11000 complete in 21.8 sec"
       ]
      },
      {
       "output_type": "stream",
       "stream": "stdout",
       "text": [
        "\r",
        " [----             12%                  ] 1356 of 11000 complete in 22.3 sec"
       ]
      },
      {
       "output_type": "stream",
       "stream": "stdout",
       "text": [
        "\r",
        " [----             12%                  ] 1387 of 11000 complete in 22.8 sec"
       ]
      },
      {
       "output_type": "stream",
       "stream": "stdout",
       "text": [
        "\r",
        " [----             12%                  ] 1417 of 11000 complete in 23.3 sec"
       ]
      },
      {
       "output_type": "stream",
       "stream": "stdout",
       "text": [
        "\r",
        " [----             13%                  ] 1442 of 11000 complete in 23.8 sec"
       ]
      },
      {
       "output_type": "stream",
       "stream": "stdout",
       "text": [
        "\r",
        " [-----            13%                  ] 1472 of 11000 complete in 24.4 sec"
       ]
      },
      {
       "output_type": "stream",
       "stream": "stdout",
       "text": [
        "\r",
        " [-----            13%                  ] 1503 of 11000 complete in 24.9 sec"
       ]
      },
      {
       "output_type": "stream",
       "stream": "stdout",
       "text": [
        "\r",
        " [-----            13%                  ] 1534 of 11000 complete in 25.4 sec"
       ]
      },
      {
       "output_type": "stream",
       "stream": "stdout",
       "text": [
        "\r",
        " [-----            14%                  ] 1565 of 11000 complete in 25.9 sec"
       ]
      },
      {
       "output_type": "stream",
       "stream": "stdout",
       "text": [
        "\r",
        " [-----            14%                  ] 1596 of 11000 complete in 26.4 sec"
       ]
      },
      {
       "output_type": "stream",
       "stream": "stdout",
       "text": [
        "\r",
        " [-----            14%                  ] 1627 of 11000 complete in 26.9 sec"
       ]
      },
      {
       "output_type": "stream",
       "stream": "stdout",
       "text": [
        "\r",
        " [-----            15%                  ] 1658 of 11000 complete in 27.4 sec"
       ]
      },
      {
       "output_type": "stream",
       "stream": "stdout",
       "text": [
        "\r",
        " [-----            15%                  ] 1689 of 11000 complete in 27.9 sec"
       ]
      },
      {
       "output_type": "stream",
       "stream": "stdout",
       "text": [
        "\r",
        " [-----            15%                  ] 1720 of 11000 complete in 28.4 sec"
       ]
      },
      {
       "output_type": "stream",
       "stream": "stdout",
       "text": [
        "\r",
        " [------           15%                  ] 1751 of 11000 complete in 28.9 sec"
       ]
      },
      {
       "output_type": "stream",
       "stream": "stdout",
       "text": [
        "\r",
        " [------           16%                  ] 1782 of 11000 complete in 29.5 sec"
       ]
      },
      {
       "output_type": "stream",
       "stream": "stdout",
       "text": [
        "\r",
        " [------           16%                  ] 1813 of 11000 complete in 30.0 sec"
       ]
      },
      {
       "output_type": "stream",
       "stream": "stdout",
       "text": [
        "\r",
        " [------           16%                  ] 1844 of 11000 complete in 30.5 sec"
       ]
      },
      {
       "output_type": "stream",
       "stream": "stdout",
       "text": [
        "\r",
        " [------           17%                  ] 1875 of 11000 complete in 31.0 sec"
       ]
      },
      {
       "output_type": "stream",
       "stream": "stdout",
       "text": [
        "\r",
        " [------           17%                  ] 1906 of 11000 complete in 31.5 sec"
       ]
      },
      {
       "output_type": "stream",
       "stream": "stdout",
       "text": [
        "\r",
        " [------           17%                  ] 1937 of 11000 complete in 32.0 sec"
       ]
      },
      {
       "output_type": "stream",
       "stream": "stdout",
       "text": [
        "\r",
        " [------           17%                  ] 1968 of 11000 complete in 32.5 sec"
       ]
      },
      {
       "output_type": "stream",
       "stream": "stdout",
       "text": [
        "\r",
        " [------           18%                  ] 1999 of 11000 complete in 33.0 sec"
       ]
      },
      {
       "output_type": "stream",
       "stream": "stdout",
       "text": [
        "\r",
        " [-------          18%                  ] 2030 of 11000 complete in 33.5 sec"
       ]
      },
      {
       "output_type": "stream",
       "stream": "stdout",
       "text": [
        "\r",
        " [-------          18%                  ] 2061 of 11000 complete in 34.0 sec"
       ]
      },
      {
       "output_type": "stream",
       "stream": "stdout",
       "text": [
        "\r",
        " [-------          19%                  ] 2092 of 11000 complete in 34.6 sec"
       ]
      },
      {
       "output_type": "stream",
       "stream": "stdout",
       "text": [
        "\r",
        " [-------          19%                  ] 2123 of 11000 complete in 35.1 sec"
       ]
      },
      {
       "output_type": "stream",
       "stream": "stdout",
       "text": [
        "\r",
        " [-------          19%                  ] 2154 of 11000 complete in 35.6 sec"
       ]
      },
      {
       "output_type": "stream",
       "stream": "stdout",
       "text": [
        "\r",
        " [-------          19%                  ] 2186 of 11000 complete in 36.1 sec"
       ]
      },
      {
       "output_type": "stream",
       "stream": "stdout",
       "text": [
        "\r",
        " [-------          20%                  ] 2215 of 11000 complete in 36.6 sec"
       ]
      },
      {
       "output_type": "stream",
       "stream": "stdout",
       "text": [
        "\r",
        " [-------          20%                  ] 2246 of 11000 complete in 37.1 sec"
       ]
      },
      {
       "output_type": "stream",
       "stream": "stdout",
       "text": [
        "\r",
        " [-------          20%                  ] 2278 of 11000 complete in 37.6 sec"
       ]
      },
      {
       "output_type": "stream",
       "stream": "stdout",
       "text": [
        "\r",
        " [-------          21%                  ] 2310 of 11000 complete in 38.1 sec"
       ]
      },
      {
       "output_type": "stream",
       "stream": "stdout",
       "text": [
        "\r",
        " [--------         21%                  ] 2342 of 11000 complete in 38.6 sec"
       ]
      },
      {
       "output_type": "stream",
       "stream": "stdout",
       "text": [
        "\r",
        " [--------         21%                  ] 2373 of 11000 complete in 39.1 sec"
       ]
      },
      {
       "output_type": "stream",
       "stream": "stdout",
       "text": [
        "\r",
        " [--------         21%                  ] 2405 of 11000 complete in 39.6 sec"
       ]
      },
      {
       "output_type": "stream",
       "stream": "stdout",
       "text": [
        "\r",
        " [--------         22%                  ] 2437 of 11000 complete in 40.1 sec"
       ]
      },
      {
       "output_type": "stream",
       "stream": "stdout",
       "text": [
        "\r",
        " [--------         22%                  ] 2468 of 11000 complete in 40.6 sec"
       ]
      },
      {
       "output_type": "stream",
       "stream": "stdout",
       "text": [
        "\r",
        " [--------         22%                  ] 2499 of 11000 complete in 41.1 sec"
       ]
      },
      {
       "output_type": "stream",
       "stream": "stdout",
       "text": [
        "\r",
        " [--------         23%                  ] 2531 of 11000 complete in 41.7 sec"
       ]
      },
      {
       "output_type": "stream",
       "stream": "stdout",
       "text": [
        "\r",
        " [--------         23%                  ] 2563 of 11000 complete in 42.2 sec"
       ]
      },
      {
       "output_type": "stream",
       "stream": "stdout",
       "text": [
        "\r",
        " [--------         23%                  ] 2595 of 11000 complete in 42.7 sec"
       ]
      },
      {
       "output_type": "stream",
       "stream": "stdout",
       "text": [
        "\r",
        " [---------        23%                  ] 2627 of 11000 complete in 43.2 sec"
       ]
      },
      {
       "output_type": "stream",
       "stream": "stdout",
       "text": [
        "\r",
        " [---------        24%                  ] 2657 of 11000 complete in 43.7 sec"
       ]
      },
      {
       "output_type": "stream",
       "stream": "stdout",
       "text": [
        "\r",
        " [---------        24%                  ] 2687 of 11000 complete in 44.2 sec"
       ]
      },
      {
       "output_type": "stream",
       "stream": "stdout",
       "text": [
        "\r",
        " [---------        24%                  ] 2717 of 11000 complete in 44.7 sec"
       ]
      },
      {
       "output_type": "stream",
       "stream": "stdout",
       "text": [
        "\r",
        " [---------        24%                  ] 2747 of 11000 complete in 45.2 sec"
       ]
      },
      {
       "output_type": "stream",
       "stream": "stdout",
       "text": [
        "\r",
        " [---------        25%                  ] 2777 of 11000 complete in 45.7 sec"
       ]
      },
      {
       "output_type": "stream",
       "stream": "stdout",
       "text": [
        "\r",
        " [---------        25%                  ] 2807 of 11000 complete in 46.2 sec"
       ]
      },
      {
       "output_type": "stream",
       "stream": "stdout",
       "text": [
        "\r",
        " [---------        25%                  ] 2836 of 11000 complete in 46.7 sec"
       ]
      },
      {
       "output_type": "stream",
       "stream": "stdout",
       "text": [
        "\r",
        " [---------        26%                  ] 2866 of 11000 complete in 47.3 sec"
       ]
      },
      {
       "output_type": "stream",
       "stream": "stdout",
       "text": [
        "\r",
        " [----------       26%                  ] 2897 of 11000 complete in 47.8 sec"
       ]
      },
      {
       "output_type": "stream",
       "stream": "stdout",
       "text": [
        "\r",
        " [----------       26%                  ] 2928 of 11000 complete in 48.3 sec"
       ]
      },
      {
       "output_type": "stream",
       "stream": "stdout",
       "text": [
        "\r",
        " [----------       26%                  ] 2958 of 11000 complete in 48.8 sec"
       ]
      },
      {
       "output_type": "stream",
       "stream": "stdout",
       "text": [
        "\r",
        " [----------       27%                  ] 2989 of 11000 complete in 49.3 sec"
       ]
      },
      {
       "output_type": "stream",
       "stream": "stdout",
       "text": [
        "\r",
        " [----------       27%                  ] 3020 of 11000 complete in 49.8 sec"
       ]
      },
      {
       "output_type": "stream",
       "stream": "stdout",
       "text": [
        "\r",
        " [----------       27%                  ] 3051 of 11000 complete in 50.3 sec"
       ]
      },
      {
       "output_type": "stream",
       "stream": "stdout",
       "text": [
        "\r",
        " [----------       28%                  ] 3082 of 11000 complete in 50.8 sec"
       ]
      },
      {
       "output_type": "stream",
       "stream": "stdout",
       "text": [
        "\r",
        " [----------       28%                  ] 3113 of 11000 complete in 51.3 sec"
       ]
      },
      {
       "output_type": "stream",
       "stream": "stdout",
       "text": [
        "\r",
        " [----------       28%                  ] 3143 of 11000 complete in 51.8 sec"
       ]
      },
      {
       "output_type": "stream",
       "stream": "stdout",
       "text": [
        "\r",
        " [----------       28%                  ] 3172 of 11000 complete in 52.3 sec"
       ]
      },
      {
       "output_type": "stream",
       "stream": "stdout",
       "text": [
        "\r",
        " [-----------      29%                  ] 3202 of 11000 complete in 52.8 sec"
       ]
      },
      {
       "output_type": "stream",
       "stream": "stdout",
       "text": [
        "\r",
        " [-----------      29%                  ] 3230 of 11000 complete in 53.3 sec"
       ]
      },
      {
       "output_type": "stream",
       "stream": "stdout",
       "text": [
        "\r",
        " [-----------      29%                  ] 3258 of 11000 complete in 53.9 sec"
       ]
      },
      {
       "output_type": "stream",
       "stream": "stdout",
       "text": [
        "\r",
        " [-----------      29%                  ] 3289 of 11000 complete in 54.4 sec"
       ]
      },
      {
       "output_type": "stream",
       "stream": "stdout",
       "text": [
        "\r",
        " [-----------      30%                  ] 3321 of 11000 complete in 54.9 sec"
       ]
      },
      {
       "output_type": "stream",
       "stream": "stdout",
       "text": [
        "\r",
        " [-----------      30%                  ] 3353 of 11000 complete in 55.4 sec"
       ]
      },
      {
       "output_type": "stream",
       "stream": "stdout",
       "text": [
        "\r",
        " [-----------      30%                  ] 3385 of 11000 complete in 55.9 sec"
       ]
      },
      {
       "output_type": "stream",
       "stream": "stdout",
       "text": [
        "\r",
        " [-----------      31%                  ] 3415 of 11000 complete in 56.4 sec"
       ]
      },
      {
       "output_type": "stream",
       "stream": "stdout",
       "text": [
        "\r",
        " [-----------      31%                  ] 3447 of 11000 complete in 56.9 sec"
       ]
      },
      {
       "output_type": "stream",
       "stream": "stdout",
       "text": [
        "\r",
        " [------------     31%                  ] 3479 of 11000 complete in 57.4 sec"
       ]
      },
      {
       "output_type": "stream",
       "stream": "stdout",
       "text": [
        "\r",
        " [------------     31%                  ] 3510 of 11000 complete in 57.9 sec"
       ]
      },
      {
       "output_type": "stream",
       "stream": "stdout",
       "text": [
        "\r",
        " [------------     32%                  ] 3541 of 11000 complete in 58.4 sec"
       ]
      },
      {
       "output_type": "stream",
       "stream": "stdout",
       "text": [
        "\r",
        " [------------     32%                  ] 3572 of 11000 complete in 59.0 sec"
       ]
      },
      {
       "output_type": "stream",
       "stream": "stdout",
       "text": [
        "\r",
        " [------------     32%                  ] 3604 of 11000 complete in 59.5 sec"
       ]
      },
      {
       "output_type": "stream",
       "stream": "stdout",
       "text": [
        "\r",
        " [------------     33%                  ] 3635 of 11000 complete in 60.0 sec"
       ]
      },
      {
       "output_type": "stream",
       "stream": "stdout",
       "text": [
        "\r",
        " [------------     33%                  ] 3666 of 11000 complete in 60.5 sec"
       ]
      },
      {
       "output_type": "stream",
       "stream": "stdout",
       "text": [
        "\r",
        " [------------     33%                  ] 3696 of 11000 complete in 61.0 sec"
       ]
      },
      {
       "output_type": "stream",
       "stream": "stdout",
       "text": [
        "\r",
        " [------------     33%                  ] 3726 of 11000 complete in 61.5 sec"
       ]
      },
      {
       "output_type": "stream",
       "stream": "stdout",
       "text": [
        "\r",
        " [------------     34%                  ] 3757 of 11000 complete in 62.0 sec"
       ]
      },
      {
       "output_type": "stream",
       "stream": "stdout",
       "text": [
        "\r",
        " [-------------    34%                  ] 3788 of 11000 complete in 62.5 sec"
       ]
      },
      {
       "output_type": "stream",
       "stream": "stdout",
       "text": [
        "\r",
        " [-------------    34%                  ] 3819 of 11000 complete in 63.1 sec"
       ]
      },
      {
       "output_type": "stream",
       "stream": "stdout",
       "text": [
        "\r",
        " [-------------    34%                  ] 3849 of 11000 complete in 63.6 sec"
       ]
      },
      {
       "output_type": "stream",
       "stream": "stdout",
       "text": [
        "\r",
        " [-------------    35%                  ] 3876 of 11000 complete in 64.1 sec"
       ]
      },
      {
       "output_type": "stream",
       "stream": "stdout",
       "text": [
        "\r",
        " [-------------    35%                  ] 3905 of 11000 complete in 64.6 sec"
       ]
      },
      {
       "output_type": "stream",
       "stream": "stdout",
       "text": [
        "\r",
        " [-------------    35%                  ] 3935 of 11000 complete in 65.1 sec"
       ]
      },
      {
       "output_type": "stream",
       "stream": "stdout",
       "text": [
        "\r",
        " [-------------    36%                  ] 3965 of 11000 complete in 65.6 sec"
       ]
      },
      {
       "output_type": "stream",
       "stream": "stdout",
       "text": [
        "\r",
        " [-------------    36%                  ] 3996 of 11000 complete in 66.1 sec"
       ]
      },
      {
       "output_type": "stream",
       "stream": "stdout",
       "text": [
        "\r",
        " [-------------    36%                  ] 4027 of 11000 complete in 66.6 sec"
       ]
      },
      {
       "output_type": "stream",
       "stream": "stdout",
       "text": [
        "\r",
        " [--------------   36%                  ] 4058 of 11000 complete in 67.1 sec"
       ]
      },
      {
       "output_type": "stream",
       "stream": "stdout",
       "text": [
        "\r",
        " [--------------   37%                  ] 4090 of 11000 complete in 67.6 sec"
       ]
      },
      {
       "output_type": "stream",
       "stream": "stdout",
       "text": [
        "\r",
        " [--------------   37%                  ] 4122 of 11000 complete in 68.2 sec"
       ]
      },
      {
       "output_type": "stream",
       "stream": "stdout",
       "text": [
        "\r",
        " [--------------   37%                  ] 4154 of 11000 complete in 68.7 sec"
       ]
      },
      {
       "output_type": "stream",
       "stream": "stdout",
       "text": [
        "\r",
        " [--------------   38%                  ] 4186 of 11000 complete in 69.2 sec"
       ]
      },
      {
       "output_type": "stream",
       "stream": "stdout",
       "text": [
        "\r",
        " [--------------   38%                  ] 4218 of 11000 complete in 69.7 sec"
       ]
      },
      {
       "output_type": "stream",
       "stream": "stdout",
       "text": [
        "\r",
        " [--------------   38%                  ] 4250 of 11000 complete in 70.2 sec"
       ]
      },
      {
       "output_type": "stream",
       "stream": "stdout",
       "text": [
        "\r",
        " [--------------   38%                  ] 4282 of 11000 complete in 70.7 sec"
       ]
      },
      {
       "output_type": "stream",
       "stream": "stdout",
       "text": [
        "\r",
        " [--------------   39%                  ] 4312 of 11000 complete in 71.2 sec"
       ]
      },
      {
       "output_type": "stream",
       "stream": "stdout",
       "text": [
        "\r",
        " [---------------  39%                  ] 4344 of 11000 complete in 71.7 sec"
       ]
      },
      {
       "output_type": "stream",
       "stream": "stdout",
       "text": [
        "\r",
        " [---------------  39%                  ] 4375 of 11000 complete in 72.2 sec"
       ]
      },
      {
       "output_type": "stream",
       "stream": "stdout",
       "text": [
        "\r",
        " [---------------  40%                  ] 4406 of 11000 complete in 72.7 sec"
       ]
      },
      {
       "output_type": "stream",
       "stream": "stdout",
       "text": [
        "\r",
        " [---------------  40%                  ] 4437 of 11000 complete in 73.2 sec"
       ]
      },
      {
       "output_type": "stream",
       "stream": "stdout",
       "text": [
        "\r",
        " [---------------  40%                  ] 4468 of 11000 complete in 73.8 sec"
       ]
      },
      {
       "output_type": "stream",
       "stream": "stdout",
       "text": [
        "\r",
        " [---------------  40%                  ] 4500 of 11000 complete in 74.3 sec"
       ]
      },
      {
       "output_type": "stream",
       "stream": "stdout",
       "text": [
        "\r",
        " [---------------  41%                  ] 4531 of 11000 complete in 74.8 sec"
       ]
      },
      {
       "output_type": "stream",
       "stream": "stdout",
       "text": [
        "\r",
        " [---------------  41%                  ] 4563 of 11000 complete in 75.3 sec"
       ]
      },
      {
       "output_type": "stream",
       "stream": "stdout",
       "text": [
        "\r",
        " [---------------  41%                  ] 4595 of 11000 complete in 75.8 sec"
       ]
      },
      {
       "output_type": "stream",
       "stream": "stdout",
       "text": [
        "\r",
        " [---------------  42%                  ] 4627 of 11000 complete in 76.3 sec"
       ]
      },
      {
       "output_type": "stream",
       "stream": "stdout",
       "text": [
        "\r",
        " [---------------- 42%                  ] 4659 of 11000 complete in 76.8 sec"
       ]
      },
      {
       "output_type": "stream",
       "stream": "stdout",
       "text": [
        "\r",
        " [---------------- 42%                  ] 4690 of 11000 complete in 77.3 sec"
       ]
      },
      {
       "output_type": "stream",
       "stream": "stdout",
       "text": [
        "\r",
        " [---------------- 42%                  ] 4721 of 11000 complete in 77.8 sec"
       ]
      },
      {
       "output_type": "stream",
       "stream": "stdout",
       "text": [
        "\r",
        " [---------------- 43%                  ] 4752 of 11000 complete in 78.3 sec"
       ]
      },
      {
       "output_type": "stream",
       "stream": "stdout",
       "text": [
        "\r",
        " [---------------- 43%                  ] 4784 of 11000 complete in 78.8 sec"
       ]
      },
      {
       "output_type": "stream",
       "stream": "stdout",
       "text": [
        "\r",
        " [---------------- 43%                  ] 4816 of 11000 complete in 79.3 sec"
       ]
      },
      {
       "output_type": "stream",
       "stream": "stdout",
       "text": [
        "\r",
        " [---------------- 44%                  ] 4847 of 11000 complete in 79.8 sec"
       ]
      },
      {
       "output_type": "stream",
       "stream": "stdout",
       "text": [
        "\r",
        " [---------------- 44%                  ] 4878 of 11000 complete in 80.3 sec"
       ]
      },
      {
       "output_type": "stream",
       "stream": "stdout",
       "text": [
        "\r",
        " [---------------- 44%                  ] 4909 of 11000 complete in 80.9 sec"
       ]
      },
      {
       "output_type": "stream",
       "stream": "stdout",
       "text": [
        "\r",
        " [-----------------44%                  ] 4940 of 11000 complete in 81.4 sec"
       ]
      },
      {
       "output_type": "stream",
       "stream": "stdout",
       "text": [
        "\r",
        " [-----------------45%                  ] 4972 of 11000 complete in 81.9 sec"
       ]
      },
      {
       "output_type": "stream",
       "stream": "stdout",
       "text": [
        "\r",
        " [-----------------45%                  ] 5004 of 11000 complete in 82.4 sec"
       ]
      },
      {
       "output_type": "stream",
       "stream": "stdout",
       "text": [
        "\r",
        " [-----------------45%                  ] 5036 of 11000 complete in 82.9 sec"
       ]
      },
      {
       "output_type": "stream",
       "stream": "stdout",
       "text": [
        "\r",
        " [-----------------46%                  ] 5068 of 11000 complete in 83.4 sec"
       ]
      },
      {
       "output_type": "stream",
       "stream": "stdout",
       "text": [
        "\r",
        " [-----------------46%                  ] 5099 of 11000 complete in 83.9 sec"
       ]
      },
      {
       "output_type": "stream",
       "stream": "stdout",
       "text": [
        "\r",
        " [-----------------46%                  ] 5130 of 11000 complete in 84.4 sec"
       ]
      },
      {
       "output_type": "stream",
       "stream": "stdout",
       "text": [
        "\r",
        " [-----------------46%                  ] 5162 of 11000 complete in 84.9 sec"
       ]
      },
      {
       "output_type": "stream",
       "stream": "stdout",
       "text": [
        "\r",
        " [-----------------47%                  ] 5193 of 11000 complete in 85.4 sec"
       ]
      },
      {
       "output_type": "stream",
       "stream": "stdout",
       "text": [
        "\r",
        " [-----------------47%                  ] 5224 of 11000 complete in 85.9 sec"
       ]
      },
      {
       "output_type": "stream",
       "stream": "stdout",
       "text": [
        "\r",
        " [-----------------47%                  ] 5256 of 11000 complete in 86.4 sec"
       ]
      },
      {
       "output_type": "stream",
       "stream": "stdout",
       "text": [
        "\r",
        " [-----------------48%                  ] 5288 of 11000 complete in 87.0 sec"
       ]
      },
      {
       "output_type": "stream",
       "stream": "stdout",
       "text": [
        "\r",
        " [-----------------48%                  ] 5319 of 11000 complete in 87.5 sec"
       ]
      },
      {
       "output_type": "stream",
       "stream": "stdout",
       "text": [
        "\r",
        " [-----------------48%                  ] 5350 of 11000 complete in 88.0 sec"
       ]
      },
      {
       "output_type": "stream",
       "stream": "stdout",
       "text": [
        "\r",
        " [-----------------48%                  ] 5381 of 11000 complete in 88.5 sec"
       ]
      },
      {
       "output_type": "stream",
       "stream": "stdout",
       "text": [
        "\r",
        " [-----------------49%                  ] 5412 of 11000 complete in 89.0 sec"
       ]
      },
      {
       "output_type": "stream",
       "stream": "stdout",
       "text": [
        "\r",
        " [-----------------49%                  ] 5444 of 11000 complete in 89.5 sec"
       ]
      },
      {
       "output_type": "stream",
       "stream": "stdout",
       "text": [
        "\r",
        " [-----------------49%                  ] 5476 of 11000 complete in 90.0 sec"
       ]
      },
      {
       "output_type": "stream",
       "stream": "stdout",
       "text": [
        "\r",
        " [-----------------50%                  ] 5507 of 11000 complete in 90.5 sec"
       ]
      },
      {
       "output_type": "stream",
       "stream": "stdout",
       "text": [
        "\r",
        " [-----------------50%                  ] 5536 of 11000 complete in 91.0 sec"
       ]
      },
      {
       "output_type": "stream",
       "stream": "stdout",
       "text": [
        "\r",
        " [-----------------50%                  ] 5563 of 11000 complete in 91.5 sec"
       ]
      },
      {
       "output_type": "stream",
       "stream": "stdout",
       "text": [
        "\r",
        " [-----------------50%                  ] 5586 of 11000 complete in 92.0 sec"
       ]
      },
      {
       "output_type": "stream",
       "stream": "stdout",
       "text": [
        "\r",
        " [-----------------51%                  ] 5613 of 11000 complete in 92.5 sec"
       ]
      },
      {
       "output_type": "stream",
       "stream": "stdout",
       "text": [
        "\r",
        " [-----------------51%                  ] 5642 of 11000 complete in 93.0 sec"
       ]
      },
      {
       "output_type": "stream",
       "stream": "stdout",
       "text": [
        "\r",
        " [-----------------51%                  ] 5673 of 11000 complete in 93.5 sec"
       ]
      },
      {
       "output_type": "stream",
       "stream": "stdout",
       "text": [
        "\r",
        " [-----------------51%                  ] 5704 of 11000 complete in 94.0 sec"
       ]
      },
      {
       "output_type": "stream",
       "stream": "stdout",
       "text": [
        "\r",
        " [-----------------52%                  ] 5734 of 11000 complete in 94.6 sec"
       ]
      },
      {
       "output_type": "stream",
       "stream": "stdout",
       "text": [
        "\r",
        " [-----------------52%                  ] 5761 of 11000 complete in 95.1 sec"
       ]
      },
      {
       "output_type": "stream",
       "stream": "stdout",
       "text": [
        "\r",
        " [-----------------52%                  ] 5786 of 11000 complete in 95.6 sec"
       ]
      },
      {
       "output_type": "stream",
       "stream": "stdout",
       "text": [
        "\r",
        " [-----------------52%                  ] 5811 of 11000 complete in 96.1 sec"
       ]
      },
      {
       "output_type": "stream",
       "stream": "stdout",
       "text": [
        "\r",
        " [-----------------53%                  ] 5838 of 11000 complete in 96.6 sec"
       ]
      },
      {
       "output_type": "stream",
       "stream": "stdout",
       "text": [
        "\r",
        " [-----------------53%                  ] 5864 of 11000 complete in 97.1 sec"
       ]
      },
      {
       "output_type": "stream",
       "stream": "stdout",
       "text": [
        "\r",
        " [-----------------53%                  ] 5889 of 11000 complete in 97.6 sec"
       ]
      },
      {
       "output_type": "stream",
       "stream": "stdout",
       "text": [
        "\r",
        " [-----------------53%                  ] 5916 of 11000 complete in 98.1 sec"
       ]
      },
      {
       "output_type": "stream",
       "stream": "stdout",
       "text": [
        "\r",
        " [-----------------54%                  ] 5947 of 11000 complete in 98.6 sec"
       ]
      },
      {
       "output_type": "stream",
       "stream": "stdout",
       "text": [
        "\r",
        " [-----------------54%                  ] 5975 of 11000 complete in 99.1 sec"
       ]
      },
      {
       "output_type": "stream",
       "stream": "stdout",
       "text": [
        "\r",
        " [-----------------54%                  ] 6004 of 11000 complete in 99.6 sec"
       ]
      },
      {
       "output_type": "stream",
       "stream": "stdout",
       "text": [
        "\r",
        " [-----------------54%                  ] 6035 of 11000 complete in 100.1 sec"
       ]
      },
      {
       "output_type": "stream",
       "stream": "stdout",
       "text": [
        "\r",
        " [-----------------55%                  ] 6063 of 11000 complete in 100.7 sec"
       ]
      },
      {
       "output_type": "stream",
       "stream": "stdout",
       "text": [
        "\r",
        " [-----------------55%-                 ] 6093 of 11000 complete in 101.2 sec"
       ]
      },
      {
       "output_type": "stream",
       "stream": "stdout",
       "text": [
        "\r",
        " [-----------------55%-                 ] 6123 of 11000 complete in 101.7 sec"
       ]
      },
      {
       "output_type": "stream",
       "stream": "stdout",
       "text": [
        "\r",
        " [-----------------55%-                 ] 6154 of 11000 complete in 102.2 sec"
       ]
      },
      {
       "output_type": "stream",
       "stream": "stdout",
       "text": [
        "\r",
        " [-----------------56%-                 ] 6184 of 11000 complete in 102.7 sec"
       ]
      },
      {
       "output_type": "stream",
       "stream": "stdout",
       "text": [
        "\r",
        " [-----------------56%-                 ] 6214 of 11000 complete in 103.2 sec"
       ]
      },
      {
       "output_type": "stream",
       "stream": "stdout",
       "text": [
        "\r",
        " [-----------------56%-                 ] 6243 of 11000 complete in 103.7 sec"
       ]
      },
      {
       "output_type": "stream",
       "stream": "stdout",
       "text": [
        "\r",
        " [-----------------57%-                 ] 6272 of 11000 complete in 104.2 sec"
       ]
      },
      {
       "output_type": "stream",
       "stream": "stdout",
       "text": [
        "\r",
        " [-----------------57%-                 ] 6303 of 11000 complete in 104.7 sec"
       ]
      },
      {
       "output_type": "stream",
       "stream": "stdout",
       "text": [
        "\r",
        " [-----------------57%-                 ] 6334 of 11000 complete in 105.2 sec"
       ]
      },
      {
       "output_type": "stream",
       "stream": "stdout",
       "text": [
        "\r",
        " [-----------------57%-                 ] 6365 of 11000 complete in 105.7 sec"
       ]
      },
      {
       "output_type": "stream",
       "stream": "stdout",
       "text": [
        "\r",
        " [-----------------58%--                ] 6397 of 11000 complete in 106.3 sec"
       ]
      },
      {
       "output_type": "stream",
       "stream": "stdout",
       "text": [
        "\r",
        " [-----------------58%--                ] 6428 of 11000 complete in 106.8 sec"
       ]
      },
      {
       "output_type": "stream",
       "stream": "stdout",
       "text": [
        "\r",
        " [-----------------58%--                ] 6459 of 11000 complete in 107.3 sec"
       ]
      },
      {
       "output_type": "stream",
       "stream": "stdout",
       "text": [
        "\r",
        " [-----------------59%--                ] 6490 of 11000 complete in 107.8 sec"
       ]
      },
      {
       "output_type": "stream",
       "stream": "stdout",
       "text": [
        "\r",
        " [-----------------59%--                ] 6521 of 11000 complete in 108.3 sec"
       ]
      },
      {
       "output_type": "stream",
       "stream": "stdout",
       "text": [
        "\r",
        " [-----------------59%--                ] 6553 of 11000 complete in 108.8 sec"
       ]
      },
      {
       "output_type": "stream",
       "stream": "stdout",
       "text": [
        "\r",
        " [-----------------59%--                ] 6584 of 11000 complete in 109.3 sec"
       ]
      },
      {
       "output_type": "stream",
       "stream": "stdout",
       "text": [
        "\r",
        " [-----------------60%--                ] 6611 of 11000 complete in 109.8 sec"
       ]
      },
      {
       "output_type": "stream",
       "stream": "stdout",
       "text": [
        "\r",
        " [-----------------60%--                ] 6642 of 11000 complete in 110.3 sec"
       ]
      },
      {
       "output_type": "stream",
       "stream": "stdout",
       "text": [
        "\r",
        " [-----------------60%---               ] 6673 of 11000 complete in 110.8 sec"
       ]
      },
      {
       "output_type": "stream",
       "stream": "stdout",
       "text": [
        "\r",
        " [-----------------60%---               ] 6703 of 11000 complete in 111.3 sec"
       ]
      },
      {
       "output_type": "stream",
       "stream": "stdout",
       "text": [
        "\r",
        " [-----------------61%---               ] 6733 of 11000 complete in 111.8 sec"
       ]
      },
      {
       "output_type": "stream",
       "stream": "stdout",
       "text": [
        "\r",
        " [-----------------61%---               ] 6764 of 11000 complete in 112.3 sec"
       ]
      },
      {
       "output_type": "stream",
       "stream": "stdout",
       "text": [
        "\r",
        " [-----------------61%---               ] 6794 of 11000 complete in 112.8 sec"
       ]
      },
      {
       "output_type": "stream",
       "stream": "stdout",
       "text": [
        "\r",
        " [-----------------62%---               ] 6825 of 11000 complete in 113.3 sec"
       ]
      },
      {
       "output_type": "stream",
       "stream": "stdout",
       "text": [
        "\r",
        " [-----------------62%---               ] 6856 of 11000 complete in 113.8 sec"
       ]
      },
      {
       "output_type": "stream",
       "stream": "stdout",
       "text": [
        "\r",
        " [-----------------62%---               ] 6888 of 11000 complete in 114.4 sec"
       ]
      },
      {
       "output_type": "stream",
       "stream": "stdout",
       "text": [
        "\r",
        " [-----------------62%---               ] 6918 of 11000 complete in 114.9 sec"
       ]
      },
      {
       "output_type": "stream",
       "stream": "stdout",
       "text": [
        "\r",
        " [-----------------63%---               ] 6947 of 11000 complete in 115.4 sec"
       ]
      },
      {
       "output_type": "stream",
       "stream": "stdout",
       "text": [
        "\r",
        " [-----------------63%----              ] 6975 of 11000 complete in 115.9 sec"
       ]
      },
      {
       "output_type": "stream",
       "stream": "stdout",
       "text": [
        "\r",
        " [-----------------63%----              ] 7007 of 11000 complete in 116.4 sec"
       ]
      },
      {
       "output_type": "stream",
       "stream": "stdout",
       "text": [
        "\r",
        " [-----------------63%----              ] 7039 of 11000 complete in 116.9 sec"
       ]
      },
      {
       "output_type": "stream",
       "stream": "stdout",
       "text": [
        "\r",
        " [-----------------64%----              ] 7071 of 11000 complete in 117.4 sec"
       ]
      },
      {
       "output_type": "stream",
       "stream": "stdout",
       "text": [
        "\r",
        " [-----------------64%----              ] 7103 of 11000 complete in 117.9 sec"
       ]
      },
      {
       "output_type": "stream",
       "stream": "stdout",
       "text": [
        "\r",
        " [-----------------64%----              ] 7135 of 11000 complete in 118.4 sec"
       ]
      },
      {
       "output_type": "stream",
       "stream": "stdout",
       "text": [
        "\r",
        " [-----------------65%----              ] 7167 of 11000 complete in 118.9 sec"
       ]
      },
      {
       "output_type": "stream",
       "stream": "stdout",
       "text": [
        "\r",
        " [-----------------65%----              ] 7199 of 11000 complete in 119.4 sec"
       ]
      },
      {
       "output_type": "stream",
       "stream": "stdout",
       "text": [
        "\r",
        " [-----------------65%----              ] 7230 of 11000 complete in 120.0 sec"
       ]
      },
      {
       "output_type": "stream",
       "stream": "stdout",
       "text": [
        "\r",
        " [-----------------66%-----             ] 7262 of 11000 complete in 120.5 sec"
       ]
      },
      {
       "output_type": "stream",
       "stream": "stdout",
       "text": [
        "\r",
        " [-----------------66%-----             ] 7294 of 11000 complete in 121.0 sec"
       ]
      },
      {
       "output_type": "stream",
       "stream": "stdout",
       "text": [
        "\r",
        " [-----------------66%-----             ] 7326 of 11000 complete in 121.5 sec"
       ]
      },
      {
       "output_type": "stream",
       "stream": "stdout",
       "text": [
        "\r",
        " [-----------------66%-----             ] 7358 of 11000 complete in 122.0 sec"
       ]
      },
      {
       "output_type": "stream",
       "stream": "stdout",
       "text": [
        "\r",
        " [-----------------67%-----             ] 7390 of 11000 complete in 122.5 sec"
       ]
      },
      {
       "output_type": "stream",
       "stream": "stdout",
       "text": [
        "\r",
        " [-----------------67%-----             ] 7422 of 11000 complete in 123.0 sec"
       ]
      },
      {
       "output_type": "stream",
       "stream": "stdout",
       "text": [
        "\r",
        " [-----------------67%-----             ] 7454 of 11000 complete in 123.5 sec"
       ]
      },
      {
       "output_type": "stream",
       "stream": "stdout",
       "text": [
        "\r",
        " [-----------------68%-----             ] 7486 of 11000 complete in 124.0 sec"
       ]
      },
      {
       "output_type": "stream",
       "stream": "stdout",
       "text": [
        "\r",
        " [-----------------68%-----             ] 7517 of 11000 complete in 124.5 sec"
       ]
      },
      {
       "output_type": "stream",
       "stream": "stdout",
       "text": [
        "\r",
        " [-----------------68%------            ] 7548 of 11000 complete in 125.1 sec"
       ]
      },
      {
       "output_type": "stream",
       "stream": "stdout",
       "text": [
        "\r",
        " [-----------------68%------            ] 7580 of 11000 complete in 125.6 sec"
       ]
      },
      {
       "output_type": "stream",
       "stream": "stdout",
       "text": [
        "\r",
        " [-----------------69%------            ] 7611 of 11000 complete in 126.1 sec"
       ]
      },
      {
       "output_type": "stream",
       "stream": "stdout",
       "text": [
        "\r",
        " [-----------------69%------            ] 7643 of 11000 complete in 126.6 sec"
       ]
      },
      {
       "output_type": "stream",
       "stream": "stdout",
       "text": [
        "\r",
        " [-----------------69%------            ] 7674 of 11000 complete in 127.1 sec"
       ]
      },
      {
       "output_type": "stream",
       "stream": "stdout",
       "text": [
        "\r",
        " [-----------------70%------            ] 7706 of 11000 complete in 127.6 sec"
       ]
      },
      {
       "output_type": "stream",
       "stream": "stdout",
       "text": [
        "\r",
        " [-----------------70%------            ] 7738 of 11000 complete in 128.1 sec"
       ]
      },
      {
       "output_type": "stream",
       "stream": "stdout",
       "text": [
        "\r",
        " [-----------------70%------            ] 7770 of 11000 complete in 128.6 sec"
       ]
      },
      {
       "output_type": "stream",
       "stream": "stdout",
       "text": [
        "\r",
        " [-----------------70%------            ] 7802 of 11000 complete in 129.1 sec"
       ]
      },
      {
       "output_type": "stream",
       "stream": "stdout",
       "text": [
        "\r",
        " [-----------------71%-------           ] 7834 of 11000 complete in 129.6 sec"
       ]
      },
      {
       "output_type": "stream",
       "stream": "stdout",
       "text": [
        "\r",
        " [-----------------71%-------           ] 7866 of 11000 complete in 130.1 sec"
       ]
      },
      {
       "output_type": "stream",
       "stream": "stdout",
       "text": [
        "\r",
        " [-----------------71%-------           ] 7897 of 11000 complete in 130.6 sec"
       ]
      },
      {
       "output_type": "stream",
       "stream": "stdout",
       "text": [
        "\r",
        " [-----------------72%-------           ] 7929 of 11000 complete in 131.2 sec"
       ]
      },
      {
       "output_type": "stream",
       "stream": "stdout",
       "text": [
        "\r",
        " [-----------------72%-------           ] 7961 of 11000 complete in 131.7 sec"
       ]
      },
      {
       "output_type": "stream",
       "stream": "stdout",
       "text": [
        "\r",
        " [-----------------72%-------           ] 7992 of 11000 complete in 132.2 sec"
       ]
      },
      {
       "output_type": "stream",
       "stream": "stdout",
       "text": [
        "\r",
        " [-----------------72%-------           ] 8024 of 11000 complete in 132.7 sec"
       ]
      },
      {
       "output_type": "stream",
       "stream": "stdout",
       "text": [
        "\r",
        " [-----------------73%-------           ] 8056 of 11000 complete in 133.2 sec"
       ]
      },
      {
       "output_type": "stream",
       "stream": "stdout",
       "text": [
        "\r",
        " [-----------------73%-------           ] 8088 of 11000 complete in 133.7 sec"
       ]
      },
      {
       "output_type": "stream",
       "stream": "stdout",
       "text": [
        "\r",
        " [-----------------73%--------          ] 8120 of 11000 complete in 134.2 sec"
       ]
      },
      {
       "output_type": "stream",
       "stream": "stdout",
       "text": [
        "\r",
        " [-----------------74%--------          ] 8151 of 11000 complete in 134.7 sec"
       ]
      },
      {
       "output_type": "stream",
       "stream": "stdout",
       "text": [
        "\r",
        " [-----------------74%--------          ] 8183 of 11000 complete in 135.2 sec"
       ]
      },
      {
       "output_type": "stream",
       "stream": "stdout",
       "text": [
        "\r",
        " [-----------------74%--------          ] 8215 of 11000 complete in 135.7 sec"
       ]
      },
      {
       "output_type": "stream",
       "stream": "stdout",
       "text": [
        "\r",
        " [-----------------74%--------          ] 8247 of 11000 complete in 136.2 sec"
       ]
      },
      {
       "output_type": "stream",
       "stream": "stdout",
       "text": [
        "\r",
        " [-----------------75%--------          ] 8279 of 11000 complete in 136.8 sec"
       ]
      },
      {
       "output_type": "stream",
       "stream": "stdout",
       "text": [
        "\r",
        " [-----------------75%--------          ] 8310 of 11000 complete in 137.3 sec"
       ]
      },
      {
       "output_type": "stream",
       "stream": "stdout",
       "text": [
        "\r",
        " [-----------------75%--------          ] 8341 of 11000 complete in 137.8 sec"
       ]
      },
      {
       "output_type": "stream",
       "stream": "stdout",
       "text": [
        "\r",
        " [-----------------76%--------          ] 8373 of 11000 complete in 138.3 sec"
       ]
      },
      {
       "output_type": "stream",
       "stream": "stdout",
       "text": [
        "\r",
        " [-----------------76%---------         ] 8404 of 11000 complete in 138.8 sec"
       ]
      },
      {
       "output_type": "stream",
       "stream": "stdout",
       "text": [
        "\r",
        " [-----------------76%---------         ] 8436 of 11000 complete in 139.3 sec"
       ]
      },
      {
       "output_type": "stream",
       "stream": "stdout",
       "text": [
        "\r",
        " [-----------------76%---------         ] 8468 of 11000 complete in 139.8 sec"
       ]
      },
      {
       "output_type": "stream",
       "stream": "stdout",
       "text": [
        "\r",
        " [-----------------77%---------         ] 8500 of 11000 complete in 140.3 sec"
       ]
      },
      {
       "output_type": "stream",
       "stream": "stdout",
       "text": [
        "\r",
        " [-----------------77%---------         ] 8532 of 11000 complete in 140.8 sec"
       ]
      },
      {
       "output_type": "stream",
       "stream": "stdout",
       "text": [
        "\r",
        " [-----------------77%---------         ] 8564 of 11000 complete in 141.3 sec"
       ]
      },
      {
       "output_type": "stream",
       "stream": "stdout",
       "text": [
        "\r",
        " [-----------------78%---------         ] 8596 of 11000 complete in 141.8 sec"
       ]
      },
      {
       "output_type": "stream",
       "stream": "stdout",
       "text": [
        "\r",
        " [-----------------78%---------         ] 8628 of 11000 complete in 142.4 sec"
       ]
      },
      {
       "output_type": "stream",
       "stream": "stdout",
       "text": [
        "\r",
        " [-----------------78%---------         ] 8658 of 11000 complete in 142.9 sec"
       ]
      },
      {
       "output_type": "stream",
       "stream": "stdout",
       "text": [
        "\r",
        " [-----------------78%----------        ] 8688 of 11000 complete in 143.4 sec"
       ]
      },
      {
       "output_type": "stream",
       "stream": "stdout",
       "text": [
        "\r",
        " [-----------------79%----------        ] 8715 of 11000 complete in 143.9 sec"
       ]
      },
      {
       "output_type": "stream",
       "stream": "stdout",
       "text": [
        "\r",
        " [-----------------79%----------        ] 8740 of 11000 complete in 144.4 sec"
       ]
      },
      {
       "output_type": "stream",
       "stream": "stdout",
       "text": [
        "\r",
        " [-----------------79%----------        ] 8767 of 11000 complete in 144.9 sec"
       ]
      },
      {
       "output_type": "stream",
       "stream": "stdout",
       "text": [
        "\r",
        " [-----------------79%----------        ] 8798 of 11000 complete in 145.4 sec"
       ]
      },
      {
       "output_type": "stream",
       "stream": "stdout",
       "text": [
        "\r",
        " [-----------------80%----------        ] 8827 of 11000 complete in 145.9 sec"
       ]
      },
      {
       "output_type": "stream",
       "stream": "stdout",
       "text": [
        "\r",
        " [-----------------80%----------        ] 8859 of 11000 complete in 146.4 sec"
       ]
      },
      {
       "output_type": "stream",
       "stream": "stdout",
       "text": [
        "\r",
        " [-----------------80%----------        ] 8891 of 11000 complete in 146.9 sec"
       ]
      },
      {
       "output_type": "stream",
       "stream": "stdout",
       "text": [
        "\r",
        " [-----------------81%----------        ] 8923 of 11000 complete in 147.4 sec"
       ]
      },
      {
       "output_type": "stream",
       "stream": "stdout",
       "text": [
        "\r",
        " [-----------------81%----------        ] 8952 of 11000 complete in 147.9 sec"
       ]
      },
      {
       "output_type": "stream",
       "stream": "stdout",
       "text": [
        "\r",
        " [-----------------81%-----------       ] 8984 of 11000 complete in 148.5 sec"
       ]
      },
      {
       "output_type": "stream",
       "stream": "stdout",
       "text": [
        "\r",
        " [-----------------81%-----------       ] 9015 of 11000 complete in 149.0 sec"
       ]
      },
      {
       "output_type": "stream",
       "stream": "stdout",
       "text": [
        "\r",
        " [-----------------82%-----------       ] 9047 of 11000 complete in 149.5 sec"
       ]
      },
      {
       "output_type": "stream",
       "stream": "stdout",
       "text": [
        "\r",
        " [-----------------82%-----------       ] 9079 of 11000 complete in 150.0 sec"
       ]
      },
      {
       "output_type": "stream",
       "stream": "stdout",
       "text": [
        "\r",
        " [-----------------82%-----------       ] 9111 of 11000 complete in 150.5 sec"
       ]
      },
      {
       "output_type": "stream",
       "stream": "stdout",
       "text": [
        "\r",
        " [-----------------83%-----------       ] 9142 of 11000 complete in 151.0 sec"
       ]
      },
      {
       "output_type": "stream",
       "stream": "stdout",
       "text": [
        "\r",
        " [-----------------83%-----------       ] 9174 of 11000 complete in 151.5 sec"
       ]
      },
      {
       "output_type": "stream",
       "stream": "stdout",
       "text": [
        "\r",
        " [-----------------83%-----------       ] 9205 of 11000 complete in 152.0 sec"
       ]
      },
      {
       "output_type": "stream",
       "stream": "stdout",
       "text": [
        "\r",
        " [-----------------83%-----------       ] 9237 of 11000 complete in 152.5 sec"
       ]
      },
      {
       "output_type": "stream",
       "stream": "stdout",
       "text": [
        "\r",
        " [-----------------84%------------      ] 9269 of 11000 complete in 153.0 sec"
       ]
      },
      {
       "output_type": "stream",
       "stream": "stdout",
       "text": [
        "\r",
        " [-----------------84%------------      ] 9301 of 11000 complete in 153.5 sec"
       ]
      },
      {
       "output_type": "stream",
       "stream": "stdout",
       "text": [
        "\r",
        " [-----------------84%------------      ] 9333 of 11000 complete in 154.0 sec"
       ]
      },
      {
       "output_type": "stream",
       "stream": "stdout",
       "text": [
        "\r",
        " [-----------------85%------------      ] 9365 of 11000 complete in 154.6 sec"
       ]
      },
      {
       "output_type": "stream",
       "stream": "stdout",
       "text": [
        "\r",
        " [-----------------85%------------      ] 9397 of 11000 complete in 155.1 sec"
       ]
      },
      {
       "output_type": "stream",
       "stream": "stdout",
       "text": [
        "\r",
        " [-----------------85%------------      ] 9429 of 11000 complete in 155.6 sec"
       ]
      },
      {
       "output_type": "stream",
       "stream": "stdout",
       "text": [
        "\r",
        " [-----------------86%------------      ] 9461 of 11000 complete in 156.1 sec"
       ]
      },
      {
       "output_type": "stream",
       "stream": "stdout",
       "text": [
        "\r",
        " [-----------------86%------------      ] 9492 of 11000 complete in 156.6 sec"
       ]
      },
      {
       "output_type": "stream",
       "stream": "stdout",
       "text": [
        "\r",
        " [-----------------86%------------      ] 9523 of 11000 complete in 157.1 sec"
       ]
      },
      {
       "output_type": "stream",
       "stream": "stdout",
       "text": [
        "\r",
        " [-----------------86%-------------     ] 9555 of 11000 complete in 157.6 sec"
       ]
      },
      {
       "output_type": "stream",
       "stream": "stdout",
       "text": [
        "\r",
        " [-----------------87%-------------     ] 9586 of 11000 complete in 158.1 sec"
       ]
      },
      {
       "output_type": "stream",
       "stream": "stdout",
       "text": [
        "\r",
        " [-----------------87%-------------     ] 9618 of 11000 complete in 158.6 sec"
       ]
      },
      {
       "output_type": "stream",
       "stream": "stdout",
       "text": [
        "\r",
        " [-----------------87%-------------     ] 9650 of 11000 complete in 159.1 sec"
       ]
      },
      {
       "output_type": "stream",
       "stream": "stdout",
       "text": [
        "\r",
        " [-----------------88%-------------     ] 9682 of 11000 complete in 159.6 sec"
       ]
      },
      {
       "output_type": "stream",
       "stream": "stdout",
       "text": [
        "\r",
        " [-----------------88%-------------     ] 9714 of 11000 complete in 160.1 sec"
       ]
      },
      {
       "output_type": "stream",
       "stream": "stdout",
       "text": [
        "\r",
        " [-----------------88%-------------     ] 9746 of 11000 complete in 160.7 sec"
       ]
      },
      {
       "output_type": "stream",
       "stream": "stdout",
       "text": [
        "\r",
        " [-----------------88%-------------     ] 9777 of 11000 complete in 161.2 sec"
       ]
      },
      {
       "output_type": "stream",
       "stream": "stdout",
       "text": [
        "\r",
        " [-----------------89%-------------     ] 9809 of 11000 complete in 161.7 sec"
       ]
      },
      {
       "output_type": "stream",
       "stream": "stdout",
       "text": [
        "\r",
        " [-----------------89%-------------     ] 9841 of 11000 complete in 162.2 sec"
       ]
      },
      {
       "output_type": "stream",
       "stream": "stdout",
       "text": [
        "\r",
        " [-----------------89%--------------    ] 9873 of 11000 complete in 162.7 sec"
       ]
      },
      {
       "output_type": "stream",
       "stream": "stdout",
       "text": [
        "\r",
        " [-----------------90%--------------    ] 9905 of 11000 complete in 163.2 sec"
       ]
      },
      {
       "output_type": "stream",
       "stream": "stdout",
       "text": [
        "\r",
        " [-----------------90%--------------    ] 9937 of 11000 complete in 163.7 sec"
       ]
      },
      {
       "output_type": "stream",
       "stream": "stdout",
       "text": [
        "\r",
        " [-----------------90%--------------    ] 9969 of 11000 complete in 164.2 sec"
       ]
      },
      {
       "output_type": "stream",
       "stream": "stdout",
       "text": [
        "\r",
        " [-----------------90%--------------    ] 10001 of 11000 complete in 164.7 sec"
       ]
      },
      {
       "output_type": "stream",
       "stream": "stdout",
       "text": [
        "\r",
        " [-----------------91%--------------    ] 10033 of 11000 complete in 165.2 sec"
       ]
      },
      {
       "output_type": "stream",
       "stream": "stdout",
       "text": [
        "\r",
        " [-----------------91%--------------    ] 10065 of 11000 complete in 165.8 sec"
       ]
      },
      {
       "output_type": "stream",
       "stream": "stdout",
       "text": [
        "\r",
        " [-----------------91%--------------    ] 10097 of 11000 complete in 166.3 sec"
       ]
      },
      {
       "output_type": "stream",
       "stream": "stdout",
       "text": [
        "\r",
        " [-----------------92%--------------    ] 10129 of 11000 complete in 166.8 sec"
       ]
      },
      {
       "output_type": "stream",
       "stream": "stdout",
       "text": [
        "\r",
        " [-----------------92%---------------   ] 10161 of 11000 complete in 167.3 sec"
       ]
      },
      {
       "output_type": "stream",
       "stream": "stdout",
       "text": [
        "\r",
        " [-----------------92%---------------   ] 10193 of 11000 complete in 167.8 sec"
       ]
      },
      {
       "output_type": "stream",
       "stream": "stdout",
       "text": [
        "\r",
        " [-----------------92%---------------   ] 10225 of 11000 complete in 168.3 sec"
       ]
      },
      {
       "output_type": "stream",
       "stream": "stdout",
       "text": [
        "\r",
        " [-----------------93%---------------   ] 10257 of 11000 complete in 168.8 sec"
       ]
      },
      {
       "output_type": "stream",
       "stream": "stdout",
       "text": [
        "\r",
        " [-----------------93%---------------   ] 10289 of 11000 complete in 169.3 sec"
       ]
      },
      {
       "output_type": "stream",
       "stream": "stdout",
       "text": [
        "\r",
        " [-----------------93%---------------   ] 10321 of 11000 complete in 169.8 sec"
       ]
      },
      {
       "output_type": "stream",
       "stream": "stdout",
       "text": [
        "\r",
        " [-----------------94%---------------   ] 10353 of 11000 complete in 170.3 sec"
       ]
      },
      {
       "output_type": "stream",
       "stream": "stdout",
       "text": [
        "\r",
        " [-----------------94%---------------   ] 10384 of 11000 complete in 170.8 sec"
       ]
      },
      {
       "output_type": "stream",
       "stream": "stdout",
       "text": [
        "\r",
        " [-----------------94%---------------   ] 10416 of 11000 complete in 171.3 sec"
       ]
      },
      {
       "output_type": "stream",
       "stream": "stdout",
       "text": [
        "\r",
        " [-----------------94%----------------  ] 10447 of 11000 complete in 171.9 sec"
       ]
      },
      {
       "output_type": "stream",
       "stream": "stdout",
       "text": [
        "\r",
        " [-----------------95%----------------  ] 10477 of 11000 complete in 172.4 sec"
       ]
      },
      {
       "output_type": "stream",
       "stream": "stdout",
       "text": [
        "\r",
        " [-----------------95%----------------  ] 10508 of 11000 complete in 172.9 sec"
       ]
      },
      {
       "output_type": "stream",
       "stream": "stdout",
       "text": [
        "\r",
        " [-----------------95%----------------  ] 10538 of 11000 complete in 173.4 sec"
       ]
      },
      {
       "output_type": "stream",
       "stream": "stdout",
       "text": [
        "\r",
        " [-----------------96%----------------  ] 10569 of 11000 complete in 173.9 sec"
       ]
      },
      {
       "output_type": "stream",
       "stream": "stdout",
       "text": [
        "\r",
        " [-----------------96%----------------  ] 10599 of 11000 complete in 174.4 sec"
       ]
      },
      {
       "output_type": "stream",
       "stream": "stdout",
       "text": [
        "\r",
        " [-----------------96%----------------  ] 10630 of 11000 complete in 174.9 sec"
       ]
      },
      {
       "output_type": "stream",
       "stream": "stdout",
       "text": [
        "\r",
        " [-----------------96%----------------  ] 10660 of 11000 complete in 175.4 sec"
       ]
      },
      {
       "output_type": "stream",
       "stream": "stdout",
       "text": [
        "\r",
        " [-----------------97%----------------  ] 10689 of 11000 complete in 175.9 sec"
       ]
      },
      {
       "output_type": "stream",
       "stream": "stdout",
       "text": [
        "\r",
        " [-----------------97%----------------- ] 10718 of 11000 complete in 176.5 sec"
       ]
      },
      {
       "output_type": "stream",
       "stream": "stdout",
       "text": [
        "\r",
        " [-----------------97%----------------- ] 10750 of 11000 complete in 177.0 sec"
       ]
      },
      {
       "output_type": "stream",
       "stream": "stdout",
       "text": [
        "\r",
        " [-----------------98%----------------- ] 10781 of 11000 complete in 177.5 sec"
       ]
      },
      {
       "output_type": "stream",
       "stream": "stdout",
       "text": [
        "\r",
        " [-----------------98%----------------- ] 10813 of 11000 complete in 178.0 sec"
       ]
      },
      {
       "output_type": "stream",
       "stream": "stdout",
       "text": [
        "\r",
        " [-----------------98%----------------- ] 10844 of 11000 complete in 178.5 sec"
       ]
      },
      {
       "output_type": "stream",
       "stream": "stdout",
       "text": [
        "\r",
        " [-----------------98%----------------- ] 10873 of 11000 complete in 179.0 sec"
       ]
      },
      {
       "output_type": "stream",
       "stream": "stdout",
       "text": [
        "\r",
        " [-----------------99%----------------- ] 10904 of 11000 complete in 179.5 sec"
       ]
      },
      {
       "output_type": "stream",
       "stream": "stdout",
       "text": [
        "\r",
        " [-----------------99%----------------- ] 10936 of 11000 complete in 180.0 sec"
       ]
      },
      {
       "output_type": "stream",
       "stream": "stdout",
       "text": [
        "\r",
        " [-----------------99%----------------- ] 10966 of 11000 complete in 180.5 sec"
       ]
      },
      {
       "output_type": "stream",
       "stream": "stdout",
       "text": [
        "\r",
        " [-----------------99%----------------- ] 10997 of 11000 complete in 181.0 sec"
       ]
      },
      {
       "output_type": "stream",
       "stream": "stdout",
       "text": [
        "\r",
        " [-----------------100%-----------------] 11000 of 11000 complete in 181.1 sec"
       ]
      }
     ],
     "prompt_number": 366
    }
   ],
   "metadata": {}
  }
 ]
}